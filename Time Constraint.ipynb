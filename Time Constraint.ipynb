{
 "cells": [
  {
   "cell_type": "code",
   "execution_count": 31,
   "id": "f35ab4dc",
   "metadata": {},
   "outputs": [
    {
     "name": "stdout",
     "output_type": "stream",
     "text": [
      "Requirement already satisfied: rsfs in /home/surya/anaconda3/lib/python3.8/site-packages (0.1)\n",
      "Requirement already satisfied: scikit-learn in /home/surya/anaconda3/lib/python3.8/site-packages (from rsfs) (0.24.1)\n",
      "Requirement already satisfied: scipy in /home/surya/anaconda3/lib/python3.8/site-packages (from rsfs) (1.6.2)\n",
      "Requirement already satisfied: numpy in /home/surya/anaconda3/lib/python3.8/site-packages (from rsfs) (1.19.5)\n",
      "Requirement already satisfied: threadpoolctl>=2.0.0 in /home/surya/anaconda3/lib/python3.8/site-packages (from scikit-learn->rsfs) (2.1.0)\n",
      "Requirement already satisfied: joblib>=0.11 in /home/surya/anaconda3/lib/python3.8/site-packages (from scikit-learn->rsfs) (1.0.1)\n"
     ]
    }
   ],
   "source": [
    "!pip install rsfs\n",
    "from sklearn.ensemble import GradientBoostingClassifier\n",
    "from sklearn.model_selection import StratifiedKFold, KFold\n",
    "from sklearn.ensemble import RandomForestClassifier\n",
    "from sklearn.ensemble import AdaBoostClassifier\n",
    "from sklearn.linear_model import SGDClassifier\n",
    "from xgboost import XGBClassifier\n",
    "import matplotlib.pyplot as plt\n",
    "from sklearn import model_selection\n",
    "from sklearn.linear_model import LogisticRegression\n",
    "from sklearn.tree import DecisionTreeClassifier\n",
    "from sklearn.neighbors import KNeighborsClassifier\n",
    "from sklearn.discriminant_analysis import LinearDiscriminantAnalysis\n",
    "from sklearn.naive_bayes import GaussianNB\n",
    "from sklearn.svm import SVC\n",
    "import pandas as pd\n",
    "import numpy as np\n",
    "import itertools\n",
    "import matplotlib.pyplot as plt\n",
    "from matplotlib.ticker import NullFormatter\n",
    "import matplotlib.ticker as ticker\n",
    "from sklearn import preprocessing\n",
    "from sklearn import metrics\n",
    "from sklearn.metrics import classification_report\n",
    "import rsfs\n",
    "from sklearn.model_selection import train_test_split\n",
    "%matplotlib inline\n",
    "import tensorflow as tf\n",
    "import seaborn as sns\n",
    "from time import time"
   ]
  },
  {
   "cell_type": "code",
   "execution_count": 32,
   "id": "c2533c5f",
   "metadata": {},
   "outputs": [
    {
     "name": "stderr",
     "output_type": "stream",
     "text": [
      "/home/surya/anaconda3/lib/python3.8/site-packages/scipy/stats/_distn_infrastructure.py:1919: RuntimeWarning: invalid value encountered in true_divide\n",
      "  x = np.asarray((x - loc)/scale, dtype=dtyp)\n"
     ]
    },
    {
     "name": "stdout",
     "output_type": "stream",
     "text": [
      "RSFS:  114.0 features chosen so far (iteration:  1000 / 300000 ). Delta:  0.24297942122963692\n",
      "RSFS:  158.0 features chosen so far (iteration:  2000 / 300000 ). Delta:  0.14172992749002136\n",
      "RSFS:  167.0 features chosen so far (iteration:  3000 / 300000 ). Delta:  0.08350288989850535\n",
      "RSFS:  172.0 features chosen so far (iteration:  4000 / 300000 ). Delta:  0.029355523587758916\n",
      "[   0   50   60   72  117  126  199  268  299  310  319  321  325  332\n",
      "  336  369  381  395  396  411  481  494  512  580  582  587  592  621\n",
      "  675  705  737  745  771  787  791  792  873  875  887  890  946  963\n",
      "  971  998 1001 1035 1038 1043 1066 1084 1109 1137 1139 1157 1173 1244\n",
      " 1345 1440 1456 1461 1473 1486 1489 1513 1525 1526 1530 1592 1602 1622\n",
      " 1628 1655 1663 1664 1704 1740 1763 1845 1875 1925 1943 1945 1992 2041\n",
      " 2074 2134 2135 2136 2140 2173 2180 2229 2231 2241 2263 2309 2402 2416\n",
      " 2419 2420 2474 2498 2510 2516 2530 2557 2581 2591 2599 2602 2621 2655\n",
      " 2701 2728 2735 2740 2748 2754 2767 2771 2802 2803 2879 2885 2888 2944\n",
      " 2948 2966 2971 3001 3051 3074 3086 3133 3164 3165 3212 3220 3268 3318\n",
      " 3369 3374 3379 3380 3381 3412 3434 3441 3443 3481 3542 3545 3595 3639\n",
      " 3688 3692 3711 3729 3730 3796 3807 3808 3825 3873 3877 3896 3907 3914\n",
      " 3917 3943 3957 3976]\n",
      "50.981176137924194\n"
     ]
    }
   ],
   "source": [
    "t1 = time()\n",
    "Data = np.loadtxt(open(str('filtered_oversampled'), \"rb\"), delimiter=\",\", skiprows=1)\n",
    "labels = Data[:, -1]\n",
    "Data = Data[:, :-1]\n",
    "train, test, train_labels, test_labels = train_test_split(\n",
    "  Data, labels, test_size=0.33, random_state=42, stratify=labels)\n",
    "data_train = train\n",
    "data_test = test\n",
    "label_train = train_labels\n",
    "label_test = test_labels\n",
    "Parameters = {\n",
    "  'RSFS': {\n",
    "      'Classifier': 'KNN',\n",
    "      'Classifier Properties': {\n",
    "          'n_neighbors': 3,\n",
    "          'weights': 'distance'\n",
    "      },\n",
    "      'Dummy feats': len(labels),\n",
    "      'delta': 0.05,\n",
    "      'maxiters': 300000,\n",
    "      'fn': 'sqrt',\n",
    "      'cutoff': 0.90,\n",
    "      'Threshold': 1000,\n",
    "  },\n",
    "  'Verbose': 1\n",
    "}\n",
    "Ex_Features = rsfs.RSFS(train,test,train_labels,test_labels,Parameters)['F_RSFS'][0]\n",
    "print(Ex_Features)\n",
    "print(time() - t1)"
   ]
  },
  {
   "cell_type": "code",
   "execution_count": 3,
   "id": "4a05a828",
   "metadata": {},
   "outputs": [],
   "source": [
    "df=pd.read_csv(\"filtered_oversampled\")\n",
    "df = df.drop('Unnamed: 0', axis = 1)\n",
    "Xrsfs = df[df.columns[list(Ex_Features)]]\n",
    "Xrsfs = Xrsfs.iloc[:,:-1]\n"
   ]
  },
  {
   "cell_type": "code",
   "execution_count": 4,
   "id": "8deb0bd9",
   "metadata": {},
   "outputs": [],
   "source": [
    "y = df['label'].values\n"
   ]
  },
  {
   "cell_type": "code",
   "execution_count": 5,
   "id": "452533bd",
   "metadata": {},
   "outputs": [
    {
     "name": "stderr",
     "output_type": "stream",
     "text": [
      "/home/surya/anaconda3/lib/python3.8/site-packages/seaborn/_decorators.py:36: FutureWarning: Pass the following variable as a keyword arg: x. From version 0.12, the only valid positional argument will be `data`, and passing other arguments without an explicit keyword will result in an error or misinterpretation.\n",
      "  warnings.warn(\n"
     ]
    },
    {
     "data": {
      "text/plain": [
       "<AxesSubplot:xlabel='label', ylabel='count'>"
      ]
     },
     "execution_count": 5,
     "metadata": {},
     "output_type": "execute_result"
    },
    {
     "data": {
      "image/png": "[encoded data removed]",
      "text/plain": [
       "<Figure size 432x288 with 1 Axes>"
      ]
     },
     "metadata": {
      "needs_background": "light"
     },
     "output_type": "display_data"
    }
   ],
   "source": [
    "sns.countplot(df['label'], order = df['label'].value_counts().index)"
   ]
  },
  {
   "cell_type": "code",
   "execution_count": 12,
   "id": "329f769d",
   "metadata": {},
   "outputs": [
    {
     "name": "stdout",
     "output_type": "stream",
     "text": [
      "Train set: (536, 4097) (536,)\n",
      "Test set: (264, 4097) (264,)\n",
      "Train set: (536, 232) (536,)\n",
      "Test set: (264, 232) (264,)\n"
     ]
    }
   ],
   "source": [
    "X = df[df.columns[:-1]].values\n",
    "y = df['label'].values\n",
    "\n",
    "X_train, X_test, y_train, y_test = train_test_split( X, y, test_size=0.33, random_state=4)\n",
    "print ('Train set:', X_train.shape,  y_train.shape)\n",
    "print ('Test set:', X_test.shape,  y_test.shape)\n",
    "\n",
    "\n",
    "X_rsfstrain, X_rsfstest, y_rsfstrain, y_rsfstest = train_test_split( Xrsfs, y, test_size=0.33, random_state=4)\n",
    "print ('Train set:', X_rsfstrain.shape,  y_rsfstrain.shape)\n",
    "print ('Test set:', X_rsfstest.shape,  y_rsfstest.shape)\n"
   ]
  },
  {
   "cell_type": "code",
   "execution_count": 13,
   "id": "2cfb2d33",
   "metadata": {},
   "outputs": [
    {
     "data": {
      "text/plain": [
       "Index(['0', '1', '2', '3', '4', '5', '6', '7', '8', '9',\n",
       "       ...\n",
       "       '4088', '4089', '4090', '4091', '4092', '4093', '4094', '4095', '4096',\n",
       "       'label'],\n",
       "      dtype='object', length=4098)"
      ]
     },
     "execution_count": 13,
     "metadata": {},
     "output_type": "execute_result"
    }
   ],
   "source": [
    "X = preprocessing.StandardScaler().fit(X).transform(X.astype(float))\n",
    "df.columns[:6000]"
   ]
  },
  {
   "cell_type": "code",
   "execution_count": 16,
   "id": "69138e08",
   "metadata": {},
   "outputs": [],
   "source": [
    "from sklearn.ensemble import AdaBoostClassifier\n",
    "from sklearn.tree import DecisionTreeClassifier\n",
    "grade = DecisionTreeClassifier(criterion=\"entropy\", max_depth = 4)"
   ]
  },
  {
   "cell_type": "code",
   "execution_count": 18,
   "id": "fe544332",
   "metadata": {},
   "outputs": [
    {
     "name": "stdout",
     "output_type": "stream",
     "text": [
      "training time: 114.64\n",
      "predict time: 0.211\n",
      "0.9924242424242424\n",
      "              precision    recall  f1-score   support\n",
      "\n",
      "           0       0.99      0.99      0.99       137\n",
      "           1       0.99      0.99      0.99       127\n",
      "\n",
      "    accuracy                           0.99       264\n",
      "   macro avg       0.99      0.99      0.99       264\n",
      "weighted avg       0.99      0.99      0.99       264\n",
      "\n"
     ]
    }
   ],
   "source": [
    "\n",
    "clf = AdaBoostClassifier(grade,n_estimators=100, random_state=0)\n",
    "# Using Decision tree as a base estimator\n",
    "t0=time()\n",
    "clf.fit(X_train,y_train)\n",
    "print(\"training time:\", round(time()-t0, 3))# the time would be round to 3 decimal in seconds\n",
    "t1=time()\n",
    "a=clf.predict(X_test)\n",
    "print(\"predict time:\", round(time()-t1, 3))\n",
    "print(clf.score(X_test, y_test))\n",
    "print(classification_report(y_test, a))"
   ]
  },
  {
   "cell_type": "code",
   "execution_count": 17,
   "id": "e6e73b04",
   "metadata": {},
   "outputs": [
    {
     "name": "stdout",
     "output_type": "stream",
     "text": [
      "training time: 6.685\n",
      "predict time: 0.03\n",
      "1.0\n",
      "              precision    recall  f1-score   support\n",
      "\n",
      "           0       1.00      1.00      1.00       137\n",
      "           1       1.00      1.00      1.00       127\n",
      "\n",
      "    accuracy                           1.00       264\n",
      "   macro avg       1.00      1.00      1.00       264\n",
      "weighted avg       1.00      1.00      1.00       264\n",
      "\n"
     ]
    }
   ],
   "source": [
    "clf = AdaBoostClassifier(grade,n_estimators=100, random_state=0)\n",
    "t0=time()\n",
    "clf.fit(X_rsfstrain,y_rsfstrain)\n",
    "print(\"training time:\", round(time()-t0, 3))# the time would be round to 3 decimal in seconds\n",
    "t1=time()\n",
    "a=clf.predict(X_rsfstest)\n",
    "print(\"predict time:\", round(time()-t1, 3))\n",
    "print(clf.score(X_rsfstest, y_rsfstest))\n",
    "print(classification_report(y_rsfstest, a))"
   ]
  },
  {
   "cell_type": "code",
   "execution_count": 19,
   "id": "4a5b13c7",
   "metadata": {},
   "outputs": [
    {
     "name": "stdout",
     "output_type": "stream",
     "text": [
      "training time: 0.311\n",
      "predict time: 0.266\n"
     ]
    }
   ],
   "source": [
    "from sklearn.svm import LinearSVC\n",
    "clf = SVC(kernel='rbf')\n",
    "t0=time()\n",
    "clf.fit(X_train, y_train)\n",
    "print(\"training time:\", round(time()-t0, 3))# the time would be round to 3 decimal in seconds\n",
    "t1=time()\n",
    "a=clf.predict(X_test)\n",
    "print(\"predict time:\", round(time()-t1, 3))"
   ]
  },
  {
   "cell_type": "code",
   "execution_count": 20,
   "id": "ec99ed8a",
   "metadata": {},
   "outputs": [
    {
     "name": "stdout",
     "output_type": "stream",
     "text": [
      "training time: 0.024\n",
      "predict time: 0.015\n"
     ]
    }
   ],
   "source": [
    "from sklearn.svm import LinearSVC\n",
    "clf = SVC(kernel='rbf')\n",
    "t0=time()\n",
    "clf.fit(X_rsfstrain, y_rsfstrain)\n",
    "print(\"training time:\", round(time()-t0, 3))# the time would be round to 3 decimal in seconds\n",
    "t1=time()\n",
    "a=clf.predict(X_rsfstest)\n",
    "print(\"predict time:\", round(time()-t1, 3))"
   ]
  },
  {
   "cell_type": "code",
   "execution_count": 21,
   "id": "0fc0b0a5",
   "metadata": {},
   "outputs": [],
   "source": [
    "from sklearn.naive_bayes import GaussianNB"
   ]
  },
  {
   "cell_type": "code",
   "execution_count": 22,
   "id": "c31cdab6",
   "metadata": {},
   "outputs": [
    {
     "name": "stdout",
     "output_type": "stream",
     "text": [
      "training time: 0.035\n",
      "predict time: 0.013\n"
     ]
    }
   ],
   "source": [
    "\n",
    "cl=GaussianNB()\n",
    "t0=time()\n",
    "cl.fit(X_train,y_train)\n",
    "print(\"training time:\", round(time()-t0, 3))# the time would be round to 3 decimal in seconds\n",
    "t1=time()\n",
    "a=cl.predict(X_test)\n",
    "print(\"predict time:\", round(time()-t1, 3))"
   ]
  },
  {
   "cell_type": "code",
   "execution_count": 23,
   "id": "edd7c28c",
   "metadata": {},
   "outputs": [
    {
     "name": "stdout",
     "output_type": "stream",
     "text": [
      "training time: 0.015\n",
      "predict time: 0.008\n"
     ]
    }
   ],
   "source": [
    "\n",
    "cl=GaussianNB()\n",
    "t0=time()\n",
    "cl.fit(X_rsfstrain,y_rsfstrain)\n",
    "print(\"training time:\", round(time()-t0, 3))# the time would be round to 3 decimal in seconds\n",
    "t1=time()\n",
    "a=cl.predict(X_rsfstest)\n",
    "print(\"predict time:\", round(time()-t1, 3))"
   ]
  },
  {
   "cell_type": "code",
   "execution_count": 24,
   "id": "80a295f2",
   "metadata": {},
   "outputs": [],
   "source": [
    "from sklearn.linear_model import LogisticRegression\n"
   ]
  },
  {
   "cell_type": "code",
   "execution_count": 26,
   "id": "66c68355",
   "metadata": {},
   "outputs": [
    {
     "name": "stdout",
     "output_type": "stream",
     "text": [
      "training time: 0.622\n",
      "predict time: 0.005\n"
     ]
    },
    {
     "name": "stderr",
     "output_type": "stream",
     "text": [
      "/home/surya/anaconda3/lib/python3.8/site-packages/sklearn/linear_model/_logistic.py:763: ConvergenceWarning: lbfgs failed to converge (status=1):\n",
      "STOP: TOTAL NO. of ITERATIONS REACHED LIMIT.\n",
      "\n",
      "Increase the number of iterations (max_iter) or scale the data as shown in:\n",
      "    https://scikit-learn.org/stable/modules/preprocessing.html\n",
      "Please also refer to the documentation for alternative solver options:\n",
      "    https://scikit-learn.org/stable/modules/linear_model.html#logistic-regression\n",
      "  n_iter_i = _check_optimize_result(\n"
     ]
    }
   ],
   "source": [
    "clf=LogisticRegression(random_state=11)\n",
    "t0=time()\n",
    "clf.fit(X_train,y_train)\n",
    "print(\"training time:\", round(time()-t0, 3))# the time would be round to 3 decimal in seconds\n",
    "t1=time()\n",
    "b=clf.predict(X_test)\n",
    "print(\"predict time:\", round(time()-t1, 3))"
   ]
  },
  {
   "cell_type": "code",
   "execution_count": 25,
   "id": "f1090044",
   "metadata": {},
   "outputs": [
    {
     "name": "stdout",
     "output_type": "stream",
     "text": [
      "training time: 0.129\n",
      "predict time: 0.006\n"
     ]
    }
   ],
   "source": [
    "clf=LogisticRegression(random_state=11)\n",
    "t0=time()\n",
    "clf.fit(X_rsfstrain,y_rsfstrain)\n",
    "print(\"training time:\", round(time()-t0, 3))# the time would be round to 3 decimal in seconds\n",
    "t1=time()\n",
    "b=clf.predict(X_rsfstest)\n",
    "print(\"predict time:\", round(time()-t1, 3))"
   ]
  },
  {
   "cell_type": "code",
   "execution_count": 27,
   "id": "5379c2ed",
   "metadata": {},
   "outputs": [],
   "source": [
    "from sklearn.ensemble import RandomForestClassifier"
   ]
  },
  {
   "cell_type": "code",
   "execution_count": 28,
   "id": "f387272d",
   "metadata": {},
   "outputs": [],
   "source": [
    "rf = RandomForestClassifier(n_estimators=100, bootstrap = True,max_features = 'sqrt')"
   ]
  },
  {
   "cell_type": "code",
   "execution_count": 29,
   "id": "ce965d46",
   "metadata": {},
   "outputs": [
    {
     "name": "stdout",
     "output_type": "stream",
     "text": [
      "training time: 1.152\n",
      "predict time: 0.017\n"
     ]
    }
   ],
   "source": [
    "t0=time()\n",
    "rf.fit(X_train,y_train)\n",
    "print(\"training time:\", round(time()-t0, 3))# the time would be round to 3 decimal in seconds\n",
    "t1=time()\n",
    "b=rf.predict(X_test)\n",
    "print(\"predict time:\", round(time()-t1, 3))"
   ]
  },
  {
   "cell_type": "code",
   "execution_count": 30,
   "id": "d570307d",
   "metadata": {},
   "outputs": [
    {
     "name": "stdout",
     "output_type": "stream",
     "text": [
      "training time: 0.403\n",
      "predict time: 0.016\n"
     ]
    }
   ],
   "source": [
    "t0=time()\n",
    "rf.fit(X_rsfstrain,y_rsfstrain)\n",
    "print(\"training time:\", round(time()-t0, 3))# the time would be round to 3 decimal in seconds\n",
    "t1=time()\n",
    "b=rf.predict(X_rsfstest)\n",
    "print(\"predict time:\", round(time()-t1, 3))"
   ]
  },
  {
   "cell_type": "code",
   "execution_count": null,
   "id": "2da28a99",
   "metadata": {},
   "outputs": [],
   "source": [
    "tc = pd.read_csv()"
   ]
  }
 ],
 "metadata": {
  "kernelspec": {
   "display_name": "Python 3",
   "language": "python",
   "name": "python3"
  },
  "language_info": {
   "codemirror_mode": {
    "name": "ipython",
    "version": 3
   },
   "file_extension": ".py",
   "mimetype": "text/x-python",
   "name": "python",
   "nbconvert_exporter": "python",
   "pygments_lexer": "ipython3",
   "version": "3.8.8"
  }
 },
 "nbformat": 4,
 "nbformat_minor": 5
}
