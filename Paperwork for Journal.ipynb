{
 "cells": [
  {
   "cell_type": "code",
   "execution_count": 1,
   "metadata": {
    "ExecuteTime": {
     "end_time": "2021-10-18T13:48:22.268241Z",
     "start_time": "2021-10-18T13:48:17.689950Z"
    }
   },
   "outputs": [],
   "source": [
    "import pandas as pd\n",
    "import numpy as np\n",
    "import itertools\n",
    "import numpy as np\n",
    "import matplotlib.pyplot as plt\n",
    "from matplotlib.ticker import NullFormatter\n",
    "import pandas as pd\n",
    "import numpy as np\n",
    "import matplotlib.ticker as ticker\n",
    "from sklearn import preprocessing\n",
    "from sklearn import metrics\n",
    "from sklearn.metrics import classification_report\n",
    "import rsfs\n",
    "from sklearn.model_selection import train_test_split\n",
    "%matplotlib inline\n",
    "import seaborn as sns\n",
    "import tensorflow as tf\n",
    "import pywt\n",
    "from sklearn import svm\n",
    "from sklearn.metrics import f1_score\n",
    "from sklearn.tree import DecisionTreeClassifier\n",
    "from sklearn.naive_bayes import GaussianNB\n",
    "from sklearn import metrics\n",
    "from sklearn.ensemble import RandomForestClassifier"
   ]
  },
  {
   "cell_type": "code",
   "execution_count": 9,
   "metadata": {
    "ExecuteTime": {
     "end_time": "2021-10-18T13:50:09.424602Z",
     "start_time": "2021-10-18T13:50:02.372019Z"
    }
   },
   "outputs": [],
   "source": [
    "n = ['abe_signals.csv','ae_signals.csv','be_signals.csv','cde_signals.csv','ce_signals.csv','de_signals.csv']\n",
    "\n",
    "for k in n:\n",
    "    df=pd.read_csv(k)\n",
    "    df.drop('Unnamed: 0', axis = 1, inplace = True)\n",
    "    df[\"Label\"]= df[\"Label\"].astype(int)\n",
    "    w = np.array(df.iloc[1,:-1])\n",
    "    coeffs = pywt.wavedec(w, 'db1', level=5)\n",
    "    cA5,cD5,cD4,cD3, cD2, cD1 = coeffs\n",
    "    m = []\n",
    "    for i in range(0,df.shape[0]):\n",
    "        w = df.iloc[i,:-1]\n",
    "        coeffs = pywt.wavedec(w, 'db1', level=5)\n",
    "        cA5,cD5,cD4,cD3, cD2, cD1 = coeffs\n",
    "        cD5.tolist()\n",
    "        m.append(cD5)\n",
    "    x = np.vstack(m)\n",
    "    g = pd.DataFrame(x)\n",
    "    g.iloc[:,-1] = df['Label']\n",
    "    g.to_csv(k.split('.')[0]+'_trans.csv')\n",
    "    "
   ]
  },
  {
   "cell_type": "code",
   "execution_count": 11,
   "metadata": {
    "ExecuteTime": {
     "end_time": "2021-10-18T13:50:16.524460Z",
     "start_time": "2021-10-18T13:50:16.419468Z"
    }
   },
   "outputs": [
    {
     "data": {
      "text/html": [
       "<div>\n",
       "<style scoped>\n",
       "    .dataframe tbody tr th:only-of-type {\n",
       "        vertical-align: middle;\n",
       "    }\n",
       "\n",
       "    .dataframe tbody tr th {\n",
       "        vertical-align: top;\n",
       "    }\n",
       "\n",
       "    .dataframe thead th {\n",
       "        text-align: right;\n",
       "    }\n",
       "</style>\n",
       "<table border=\"1\" class=\"dataframe\">\n",
       "  <thead>\n",
       "    <tr style=\"text-align: right;\">\n",
       "      <th></th>\n",
       "      <th>Unnamed: 0</th>\n",
       "      <th>0</th>\n",
       "      <th>1</th>\n",
       "      <th>2</th>\n",
       "      <th>3</th>\n",
       "      <th>4</th>\n",
       "      <th>5</th>\n",
       "      <th>6</th>\n",
       "      <th>7</th>\n",
       "      <th>8</th>\n",
       "      <th>...</th>\n",
       "      <th>119</th>\n",
       "      <th>120</th>\n",
       "      <th>121</th>\n",
       "      <th>122</th>\n",
       "      <th>123</th>\n",
       "      <th>124</th>\n",
       "      <th>125</th>\n",
       "      <th>126</th>\n",
       "      <th>127</th>\n",
       "      <th>128</th>\n",
       "    </tr>\n",
       "  </thead>\n",
       "  <tbody>\n",
       "    <tr>\n",
       "      <th>0</th>\n",
       "      <td>0</td>\n",
       "      <td>-71.515048</td>\n",
       "      <td>7.691769</td>\n",
       "      <td>-48.306637</td>\n",
       "      <td>-21.364263</td>\n",
       "      <td>13.790272</td>\n",
       "      <td>-69.870581</td>\n",
       "      <td>-18.048064</td>\n",
       "      <td>-94.593546</td>\n",
       "      <td>-30.071179</td>\n",
       "      <td>...</td>\n",
       "      <td>50.400645</td>\n",
       "      <td>13.832156</td>\n",
       "      <td>-50.110615</td>\n",
       "      <td>203.955519</td>\n",
       "      <td>-25.175684</td>\n",
       "      <td>-126.293605</td>\n",
       "      <td>3.528589</td>\n",
       "      <td>-31.977426</td>\n",
       "      <td>-115.569237</td>\n",
       "      <td>0</td>\n",
       "    </tr>\n",
       "    <tr>\n",
       "      <th>1</th>\n",
       "      <td>1</td>\n",
       "      <td>-124.237440</td>\n",
       "      <td>39.774161</td>\n",
       "      <td>0.207135</td>\n",
       "      <td>-42.500063</td>\n",
       "      <td>-74.024056</td>\n",
       "      <td>56.218612</td>\n",
       "      <td>-16.753087</td>\n",
       "      <td>-202.854397</td>\n",
       "      <td>78.188566</td>\n",
       "      <td>...</td>\n",
       "      <td>-29.213780</td>\n",
       "      <td>116.946185</td>\n",
       "      <td>-246.256089</td>\n",
       "      <td>38.033954</td>\n",
       "      <td>36.108660</td>\n",
       "      <td>41.286978</td>\n",
       "      <td>131.118271</td>\n",
       "      <td>66.728398</td>\n",
       "      <td>36.685202</td>\n",
       "      <td>0</td>\n",
       "    </tr>\n",
       "    <tr>\n",
       "      <th>2</th>\n",
       "      <td>2</td>\n",
       "      <td>65.702594</td>\n",
       "      <td>-59.202523</td>\n",
       "      <td>38.988196</td>\n",
       "      <td>36.728038</td>\n",
       "      <td>73.783140</td>\n",
       "      <td>47.244575</td>\n",
       "      <td>-107.800608</td>\n",
       "      <td>-51.092480</td>\n",
       "      <td>91.257254</td>\n",
       "      <td>...</td>\n",
       "      <td>-104.615882</td>\n",
       "      <td>104.198049</td>\n",
       "      <td>-74.933928</td>\n",
       "      <td>-104.363042</td>\n",
       "      <td>101.989852</td>\n",
       "      <td>-42.765972</td>\n",
       "      <td>-14.280599</td>\n",
       "      <td>163.696049</td>\n",
       "      <td>23.119086</td>\n",
       "      <td>0</td>\n",
       "    </tr>\n",
       "    <tr>\n",
       "      <th>3</th>\n",
       "      <td>3</td>\n",
       "      <td>-52.831914</td>\n",
       "      <td>-133.382931</td>\n",
       "      <td>68.357099</td>\n",
       "      <td>-46.831339</td>\n",
       "      <td>-166.385065</td>\n",
       "      <td>234.965667</td>\n",
       "      <td>-124.755343</td>\n",
       "      <td>-9.623639</td>\n",
       "      <td>-8.639921</td>\n",
       "      <td>...</td>\n",
       "      <td>36.234997</td>\n",
       "      <td>90.356412</td>\n",
       "      <td>47.327232</td>\n",
       "      <td>-170.353699</td>\n",
       "      <td>52.654391</td>\n",
       "      <td>174.907117</td>\n",
       "      <td>168.556026</td>\n",
       "      <td>97.513218</td>\n",
       "      <td>14.060338</td>\n",
       "      <td>0</td>\n",
       "    </tr>\n",
       "    <tr>\n",
       "      <th>4</th>\n",
       "      <td>4</td>\n",
       "      <td>37.155130</td>\n",
       "      <td>-17.099409</td>\n",
       "      <td>60.102909</td>\n",
       "      <td>34.748566</td>\n",
       "      <td>96.187186</td>\n",
       "      <td>-33.766665</td>\n",
       "      <td>-75.993581</td>\n",
       "      <td>112.666376</td>\n",
       "      <td>29.372049</td>\n",
       "      <td>...</td>\n",
       "      <td>-10.246837</td>\n",
       "      <td>-11.896496</td>\n",
       "      <td>12.840895</td>\n",
       "      <td>-32.626534</td>\n",
       "      <td>-143.096692</td>\n",
       "      <td>-17.520745</td>\n",
       "      <td>-9.991964</td>\n",
       "      <td>-88.655835</td>\n",
       "      <td>-27.618548</td>\n",
       "      <td>0</td>\n",
       "    </tr>\n",
       "    <tr>\n",
       "      <th>...</th>\n",
       "      <td>...</td>\n",
       "      <td>...</td>\n",
       "      <td>...</td>\n",
       "      <td>...</td>\n",
       "      <td>...</td>\n",
       "      <td>...</td>\n",
       "      <td>...</td>\n",
       "      <td>...</td>\n",
       "      <td>...</td>\n",
       "      <td>...</td>\n",
       "      <td>...</td>\n",
       "      <td>...</td>\n",
       "      <td>...</td>\n",
       "      <td>...</td>\n",
       "      <td>...</td>\n",
       "      <td>...</td>\n",
       "      <td>...</td>\n",
       "      <td>...</td>\n",
       "      <td>...</td>\n",
       "      <td>...</td>\n",
       "      <td>...</td>\n",
       "    </tr>\n",
       "    <tr>\n",
       "      <th>195</th>\n",
       "      <td>195</td>\n",
       "      <td>340.460512</td>\n",
       "      <td>256.391854</td>\n",
       "      <td>-54.136288</td>\n",
       "      <td>-290.850934</td>\n",
       "      <td>9.693149</td>\n",
       "      <td>370.042598</td>\n",
       "      <td>19.139912</td>\n",
       "      <td>-270.668074</td>\n",
       "      <td>-204.889564</td>\n",
       "      <td>...</td>\n",
       "      <td>36.298031</td>\n",
       "      <td>-293.794304</td>\n",
       "      <td>-227.032349</td>\n",
       "      <td>-349.970745</td>\n",
       "      <td>-341.798469</td>\n",
       "      <td>-523.858447</td>\n",
       "      <td>-311.960029</td>\n",
       "      <td>-328.958038</td>\n",
       "      <td>-49.915978</td>\n",
       "      <td>1</td>\n",
       "    </tr>\n",
       "    <tr>\n",
       "      <th>196</th>\n",
       "      <td>196</td>\n",
       "      <td>363.877081</td>\n",
       "      <td>193.974424</td>\n",
       "      <td>-93.879554</td>\n",
       "      <td>91.437925</td>\n",
       "      <td>-457.676283</td>\n",
       "      <td>-51.340574</td>\n",
       "      <td>93.475230</td>\n",
       "      <td>-470.025677</td>\n",
       "      <td>228.636974</td>\n",
       "      <td>...</td>\n",
       "      <td>-374.466649</td>\n",
       "      <td>294.628661</td>\n",
       "      <td>-66.974308</td>\n",
       "      <td>933.307378</td>\n",
       "      <td>-852.211651</td>\n",
       "      <td>321.268403</td>\n",
       "      <td>-152.878849</td>\n",
       "      <td>348.073298</td>\n",
       "      <td>-979.695102</td>\n",
       "      <td>1</td>\n",
       "    </tr>\n",
       "    <tr>\n",
       "      <th>197</th>\n",
       "      <td>197</td>\n",
       "      <td>736.672851</td>\n",
       "      <td>-1851.888010</td>\n",
       "      <td>-1347.593395</td>\n",
       "      <td>-883.892831</td>\n",
       "      <td>-1840.311078</td>\n",
       "      <td>-305.502690</td>\n",
       "      <td>-780.146867</td>\n",
       "      <td>-107.757274</td>\n",
       "      <td>-245.577196</td>\n",
       "      <td>...</td>\n",
       "      <td>-1425.102565</td>\n",
       "      <td>-854.499761</td>\n",
       "      <td>-1105.000639</td>\n",
       "      <td>-60.356190</td>\n",
       "      <td>-574.455833</td>\n",
       "      <td>-805.897825</td>\n",
       "      <td>191.986446</td>\n",
       "      <td>-534.231809</td>\n",
       "      <td>602.338171</td>\n",
       "      <td>1</td>\n",
       "    </tr>\n",
       "    <tr>\n",
       "      <th>198</th>\n",
       "      <td>198</td>\n",
       "      <td>2246.042146</td>\n",
       "      <td>3207.826035</td>\n",
       "      <td>2491.824779</td>\n",
       "      <td>1978.512013</td>\n",
       "      <td>1878.732155</td>\n",
       "      <td>1303.211970</td>\n",
       "      <td>-68.469612</td>\n",
       "      <td>1994.453308</td>\n",
       "      <td>2783.551203</td>\n",
       "      <td>...</td>\n",
       "      <td>140.834141</td>\n",
       "      <td>-208.979559</td>\n",
       "      <td>-873.112717</td>\n",
       "      <td>-385.705876</td>\n",
       "      <td>1320.294123</td>\n",
       "      <td>1533.055862</td>\n",
       "      <td>1257.878630</td>\n",
       "      <td>351.387354</td>\n",
       "      <td>2.128415</td>\n",
       "      <td>1</td>\n",
       "    </tr>\n",
       "    <tr>\n",
       "      <th>199</th>\n",
       "      <td>199</td>\n",
       "      <td>-638.049955</td>\n",
       "      <td>1086.025619</td>\n",
       "      <td>2168.213290</td>\n",
       "      <td>242.603746</td>\n",
       "      <td>-1349.385522</td>\n",
       "      <td>-1833.075762</td>\n",
       "      <td>-1086.996047</td>\n",
       "      <td>1313.876211</td>\n",
       "      <td>-1077.082611</td>\n",
       "      <td>...</td>\n",
       "      <td>-160.168597</td>\n",
       "      <td>-1747.733559</td>\n",
       "      <td>3034.889539</td>\n",
       "      <td>-301.684697</td>\n",
       "      <td>-2368.131867</td>\n",
       "      <td>2634.205051</td>\n",
       "      <td>-1390.568024</td>\n",
       "      <td>-2145.622467</td>\n",
       "      <td>1942.355354</td>\n",
       "      <td>1</td>\n",
       "    </tr>\n",
       "  </tbody>\n",
       "</table>\n",
       "<p>200 rows × 130 columns</p>\n",
       "</div>"
      ],
      "text/plain": [
       "     Unnamed: 0            0            1            2            3  \\\n",
       "0             0   -71.515048     7.691769   -48.306637   -21.364263   \n",
       "1             1  -124.237440    39.774161     0.207135   -42.500063   \n",
       "2             2    65.702594   -59.202523    38.988196    36.728038   \n",
       "3             3   -52.831914  -133.382931    68.357099   -46.831339   \n",
       "4             4    37.155130   -17.099409    60.102909    34.748566   \n",
       "..          ...          ...          ...          ...          ...   \n",
       "195         195   340.460512   256.391854   -54.136288  -290.850934   \n",
       "196         196   363.877081   193.974424   -93.879554    91.437925   \n",
       "197         197   736.672851 -1851.888010 -1347.593395  -883.892831   \n",
       "198         198  2246.042146  3207.826035  2491.824779  1978.512013   \n",
       "199         199  -638.049955  1086.025619  2168.213290   242.603746   \n",
       "\n",
       "               4            5            6            7            8  ...  \\\n",
       "0      13.790272   -69.870581   -18.048064   -94.593546   -30.071179  ...   \n",
       "1     -74.024056    56.218612   -16.753087  -202.854397    78.188566  ...   \n",
       "2      73.783140    47.244575  -107.800608   -51.092480    91.257254  ...   \n",
       "3    -166.385065   234.965667  -124.755343    -9.623639    -8.639921  ...   \n",
       "4      96.187186   -33.766665   -75.993581   112.666376    29.372049  ...   \n",
       "..           ...          ...          ...          ...          ...  ...   \n",
       "195     9.693149   370.042598    19.139912  -270.668074  -204.889564  ...   \n",
       "196  -457.676283   -51.340574    93.475230  -470.025677   228.636974  ...   \n",
       "197 -1840.311078  -305.502690  -780.146867  -107.757274  -245.577196  ...   \n",
       "198  1878.732155  1303.211970   -68.469612  1994.453308  2783.551203  ...   \n",
       "199 -1349.385522 -1833.075762 -1086.996047  1313.876211 -1077.082611  ...   \n",
       "\n",
       "             119          120          121         122          123  \\\n",
       "0      50.400645    13.832156   -50.110615  203.955519   -25.175684   \n",
       "1     -29.213780   116.946185  -246.256089   38.033954    36.108660   \n",
       "2    -104.615882   104.198049   -74.933928 -104.363042   101.989852   \n",
       "3      36.234997    90.356412    47.327232 -170.353699    52.654391   \n",
       "4     -10.246837   -11.896496    12.840895  -32.626534  -143.096692   \n",
       "..           ...          ...          ...         ...          ...   \n",
       "195    36.298031  -293.794304  -227.032349 -349.970745  -341.798469   \n",
       "196  -374.466649   294.628661   -66.974308  933.307378  -852.211651   \n",
       "197 -1425.102565  -854.499761 -1105.000639  -60.356190  -574.455833   \n",
       "198   140.834141  -208.979559  -873.112717 -385.705876  1320.294123   \n",
       "199  -160.168597 -1747.733559  3034.889539 -301.684697 -2368.131867   \n",
       "\n",
       "             124          125          126          127  128  \n",
       "0    -126.293605     3.528589   -31.977426  -115.569237    0  \n",
       "1      41.286978   131.118271    66.728398    36.685202    0  \n",
       "2     -42.765972   -14.280599   163.696049    23.119086    0  \n",
       "3     174.907117   168.556026    97.513218    14.060338    0  \n",
       "4     -17.520745    -9.991964   -88.655835   -27.618548    0  \n",
       "..           ...          ...          ...          ...  ...  \n",
       "195  -523.858447  -311.960029  -328.958038   -49.915978    1  \n",
       "196   321.268403  -152.878849   348.073298  -979.695102    1  \n",
       "197  -805.897825   191.986446  -534.231809   602.338171    1  \n",
       "198  1533.055862  1257.878630   351.387354     2.128415    1  \n",
       "199  2634.205051 -1390.568024 -2145.622467  1942.355354    1  \n",
       "\n",
       "[200 rows x 130 columns]"
      ]
     },
     "execution_count": 11,
     "metadata": {},
     "output_type": "execute_result"
    }
   ],
   "source": [
    "df=pd.read_csv('ae_signals_trans.csv')\n",
    "df"
   ]
  },
  {
   "cell_type": "code",
   "execution_count": 4,
   "metadata": {
    "ExecuteTime": {
     "end_time": "2021-10-18T13:48:31.626319Z",
     "start_time": "2021-10-18T13:48:31.612275Z"
    }
   },
   "outputs": [],
   "source": [
    "#df"
   ]
  },
  {
   "cell_type": "code",
   "execution_count": 5,
   "metadata": {
    "ExecuteTime": {
     "end_time": "2021-10-18T13:48:32.245692Z",
     "start_time": "2021-10-18T13:48:32.232662Z"
    }
   },
   "outputs": [],
   "source": [
    "# df=pd.read_csv('be_signals_trans.csv')\n",
    "# df"
   ]
  },
  {
   "cell_type": "code",
   "execution_count": 15,
   "metadata": {
    "ExecuteTime": {
     "end_time": "2021-10-18T13:53:43.270097Z",
     "start_time": "2021-10-18T13:53:35.938407Z"
    }
   },
   "outputs": [
    {
     "name": "stderr",
     "output_type": "stream",
     "text": [
      "C:\\Users\\deepa\\anaconda3\\lib\\site-packages\\scipy\\stats\\_distn_infrastructure.py:1824: RuntimeWarning: invalid value encountered in true_divide\n",
      "  x = np.asarray((x - loc)/scale, dtype=dtyp)\n",
      "C:\\Users\\deepa\\anaconda3\\lib\\site-packages\\scipy\\stats\\_distn_infrastructure.py:903: RuntimeWarning: invalid value encountered in greater\n",
      "  return (a < x) & (x < b)\n",
      "C:\\Users\\deepa\\anaconda3\\lib\\site-packages\\scipy\\stats\\_distn_infrastructure.py:903: RuntimeWarning: invalid value encountered in less\n",
      "  return (a < x) & (x < b)\n",
      "C:\\Users\\deepa\\anaconda3\\lib\\site-packages\\scipy\\stats\\_distn_infrastructure.py:1827: RuntimeWarning: invalid value encountered in greater_equal\n",
      "  cond2 = (x >= np.asarray(_b)) & cond0\n",
      "C:\\Users\\deepa\\anaconda3\\lib\\site-packages\\rsfs\\rsfs_py.py:174: RuntimeWarning: invalid value encountered in greater\n",
      "  feat_N[iteration] = numpy.size(numpy.where(probs > cutoff))\n"
     ]
    },
    {
     "name": "stdout",
     "output_type": "stream",
     "text": [
      "RSFS:  42.0 features chosen so far (iteration:  1000 / 300000 ). Delta:  0.20594092835983951\n",
      "RSFS:  43.0 features chosen so far (iteration:  2000 / 300000 ). Delta:  0.04379195986411369\n",
      "[  0   1   4   7   8   9  11  12  14  16  24  28  29  30  32  34  36  39\n",
      "  40  42  43  44  52  58  59  66  70  71  72  75  77  79  82  83  84  85\n",
      "  87  92  95  96 106 112 114]\n",
      "abcde_transformed.csv\n",
      "Svm\n",
      "0.9791666666666666\n",
      "0.9866666666666667\n",
      "              precision    recall  f1-score   support\n",
      "\n",
      "           0       0.98      1.00      0.99       119\n",
      "           1       1.00      0.94      0.97        31\n",
      "\n",
      "    accuracy                           0.99       150\n",
      "   macro avg       0.99      0.97      0.98       150\n",
      "weighted avg       0.99      0.99      0.99       150\n",
      "\n",
      "DecisionTrees's Accuracy:  1.0\n",
      "1.0\n",
      "              precision    recall  f1-score   support\n",
      "\n",
      "           0       1.00      1.00      1.00       119\n",
      "           1       1.00      1.00      1.00        31\n",
      "\n",
      "    accuracy                           1.00       150\n",
      "   macro avg       1.00      1.00      1.00       150\n",
      "weighted avg       1.00      1.00      1.00       150\n",
      "\n",
      "Navie baye's Accuracy:  0.98\n",
      "0.9698613622664255\n",
      "              precision    recall  f1-score   support\n",
      "\n",
      "           0       0.99      0.98      0.99       119\n",
      "           1       0.94      0.97      0.95        31\n",
      "\n",
      "    accuracy                           0.98       150\n",
      "   macro avg       0.96      0.98      0.97       150\n",
      "weighted avg       0.98      0.98      0.98       150\n",
      "\n",
      "Forest Accuracy:  1.0\n",
      "1.0\n",
      "              precision    recall  f1-score   support\n",
      "\n",
      "           0       1.00      1.00      1.00       119\n",
      "           1       1.00      1.00      1.00        31\n",
      "\n",
      "    accuracy                           1.00       150\n",
      "   macro avg       1.00      1.00      1.00       150\n",
      "weighted avg       1.00      1.00      1.00       150\n",
      "\n",
      "     Unnamed: 0            0            3           6            7  \\\n",
      "329         329   217.979329  -798.575314 -591.752131 -1552.064160   \n",
      "282         282   103.468535    46.639997  -96.281458    70.638246   \n",
      "153         153    78.665582    13.644895  -12.869985    84.849049   \n",
      "378         378    81.500416    58.412278  179.325382    22.350324   \n",
      "447         447 -1618.516261 -1451.977206 -492.956890 -1706.155620   \n",
      "..          ...          ...          ...         ...          ...   \n",
      "385         385   133.936289   208.594680 -406.498486   196.079659   \n",
      "197         197    99.386915   -26.937482 -101.101593   162.736058   \n",
      "439         439   403.607745 -1602.696062 -369.439577  -792.048297   \n",
      "174         174     9.289328    12.481497   69.718464    -9.095616   \n",
      "122         122   -39.503200    33.403528  103.604961    55.489695   \n",
      "\n",
      "               8          10           11           13           15  ...  \\\n",
      "329  1160.962412 -912.821834  1194.776922 -1166.931970  -819.348046  ...   \n",
      "282   141.834194  -11.045676    14.110165    64.618114   -75.223030  ...   \n",
      "153    60.026219  -38.509423   104.659621    25.182805   251.410595  ...   \n",
      "378  -274.096647   82.516176    74.224295   -73.400996    90.543118  ...   \n",
      "447  -265.475374 -436.294077   125.057227   391.682240   604.997835  ...   \n",
      "..           ...         ...          ...          ...          ...  ...   \n",
      "385    -6.565535  286.587182    99.738337   128.645429  -105.337574  ...   \n",
      "197    -7.235138  -20.028487    15.481453    90.195020  -144.554460  ...   \n",
      "439   758.305045  556.365155  1343.823264   -86.553374 -2524.341157  ...   \n",
      "174   -22.303857  -45.393601    35.939743    -7.399281   -29.688398  ...   \n",
      "122   -50.507033   61.917974    33.534233     5.445800    62.368602  ...   \n",
      "\n",
      "              81           82           83          84           86  \\\n",
      "329  -253.761362   722.183683   503.558312 -340.301727 -2043.391632   \n",
      "282   131.046226   -63.269256   -67.878242  -11.098328    72.120762   \n",
      "153   -60.899323   -71.875133  -111.820313  -42.256153     1.656117   \n",
      "378  -269.856403   -59.149681    80.516994  -64.583696    61.075800   \n",
      "447  -574.887504   363.530675  -396.973351 -472.999075   644.158761   \n",
      "..           ...          ...          ...         ...          ...   \n",
      "385   114.798644  -169.799521  -111.323146  365.448564   -66.379216   \n",
      "197   -56.411151   -87.577997   -41.580052   25.314881  -223.572165   \n",
      "439 -3601.515297  1471.604208  1240.579105  968.812311  -753.263832   \n",
      "174   138.884999   -18.945177   178.454641 -175.426835  -119.800266   \n",
      "122    97.322861     9.391497    41.810493  -14.190092    98.721179   \n",
      "\n",
      "              91           94           95          105          111  \n",
      "329   499.064886  1301.653668  -800.389237  -774.157651  -457.412559  \n",
      "282   150.922661   -79.666995    23.330097    21.172578   184.459410  \n",
      "153   121.621770   -28.082490    62.104144   -17.561858    -7.801598  \n",
      "378    -0.001451   -65.871529    81.408080   261.251803    86.984094  \n",
      "447  -935.319077 -1168.467376  1210.373952   957.628070  -384.105716  \n",
      "..           ...          ...          ...          ...          ...  \n",
      "385    67.668356    90.674839   167.517682   225.891187   139.424334  \n",
      "197   -58.548072   -89.823387   105.627296    14.271954    44.052754  \n",
      "439  1610.274618   388.304720 -1007.310091  1753.808253  1114.732067  \n",
      "174    -4.921230   -47.724999   -31.225863    69.980398  -165.680698  \n",
      "122    -9.120615   -24.689763    70.203231   -15.099421   -59.381422  \n",
      "\n",
      "[348 rows x 42 columns]\n"
     ]
    }
   ],
   "source": [
    "#ml model computation\n",
    "n = ['abcde_transformed.csv']\n",
    "for m in n:\n",
    "    Data = np.loadtxt(open(str(m), \"rb\"), delimiter=\",\", skiprows=1)\n",
    "    labels = Data[:, -1]\n",
    "    Data = Data[:, 1:-1]\n",
    "    train, test, train_labels, test_labels = train_test_split(\n",
    "      Data, labels, test_size=0.33, random_state=42, stratify=labels)\n",
    "    data_train = train\n",
    "    data_test = test\n",
    "    label_train = train_labels\n",
    "    label_test = test_labels\n",
    "    Parameters = {\n",
    "      'RSFS': {\n",
    "          'Classifier': 'KNN',\n",
    "          'Classifier Properties': {\n",
    "              'n_neighbors': 3,\n",
    "              'weights': 'distance'\n",
    "          },\n",
    "          'Dummy feats': len(labels),\n",
    "          'delta': 0.05,\n",
    "          'maxiters': 300000,\n",
    "          'fn': 'sqrt',\n",
    "          'cutoff': 0.90,\n",
    "          'Threshold': 1000,\n",
    "      },\n",
    "      'Verbose': 1\n",
    "    }\n",
    "    Ex_Features = rsfs.RSFS(train,test,train_labels,test_labels,Parameters)['F_RSFS'][0]\n",
    "    print(Ex_Features)\n",
    "    df= pd.read_csv(m)\n",
    "    print(m)\n",
    "    Xrsfs = df[df.columns[list(Ex_Features)]]\n",
    "    Xrsfs = Xrsfs.iloc[:,:-1]\n",
    "    y =df.iloc[:,-1].values\n",
    "    X_rsfstrain, X_rsfstest, y_rsfstrain, y_rsfstest = train_test_split( Xrsfs, y, test_size=0.30, random_state=4)\n",
    "    #svm\n",
    "    clf = svm.SVC(kernel='rbf')\n",
    "    clf.fit(X_rsfstrain, y_rsfstrain)\n",
    "    yhat = clf.predict(X_rsfstest)\n",
    "    f1_score(y_rsfstest, yhat, average='weighted')\n",
    "    print(\"Svm\")\n",
    "    print(f1_score(yhat,y_rsfstest,average=\"macro\"))\n",
    "    print(clf.score(X_rsfstest,y_rsfstest))\n",
    "    print(classification_report(y_rsfstest, yhat))\n",
    "    #decision tree\n",
    "    grade = DecisionTreeClassifier(criterion=\"entropy\", max_depth = 4)\n",
    "    grade.fit(X_rsfstrain,y_rsfstrain)\n",
    "    predTree = grade.predict(X_rsfstest)\n",
    "    print(\"DecisionTrees's Accuracy: \", metrics.accuracy_score(y_rsfstest, predTree))\n",
    "    print(f1_score(predTree,y_rsfstest,average=\"macro\"))\n",
    "    print(classification_report(y_rsfstest, predTree))\n",
    "    #Navie Bayes\n",
    "    cl=GaussianNB()\n",
    "    cl.fit(X_rsfstrain,y_rsfstrain)\n",
    "    a=cl.predict(X_rsfstest)\n",
    "    print(\"Navie baye's Accuracy: \", metrics.accuracy_score(y_rsfstest, a))\n",
    "    print(f1_score(a,y_rsfstest,average=\"macro\"))\n",
    "    print(classification_report(y_rsfstest, a))\n",
    "    # RF\n",
    "    rf = RandomForestClassifier(n_estimators=100, bootstrap = True,max_features = 'sqrt')\n",
    "    rf.fit(X_rsfstrain,y_rsfstrain)\n",
    "    ym = rf.predict(X_rsfstest)\n",
    "    print(\"Forest Accuracy: \", metrics.accuracy_score(y_rsfstest, ym))\n",
    "    print(f1_score(ym,y_rsfstest,average=\"macro\"))\n",
    "    print(classification_report(y_rsfstest, ym))\n",
    "    print(X_rsfstrain)\n",
    "    \n",
    "    \n",
    "\n",
    "    "
   ]
  },
  {
   "cell_type": "code",
   "execution_count": null,
   "metadata": {
    "ExecuteTime": {
     "end_time": "2021-10-18T05:05:40.870019Z",
     "start_time": "2021-10-18T05:05:40.758191Z"
    }
   },
   "outputs": [],
   "source": [
    "#df pd.read_csv(\"abcde_transformed.csv\")"
   ]
  },
  {
   "cell_type": "code",
   "execution_count": null,
   "metadata": {
    "ExecuteTime": {
     "end_time": "2021-10-18T13:45:26.928383Z",
     "start_time": "2021-10-18T13:45:26.906355Z"
    },
    "scrolled": true
   },
   "outputs": [],
   "source": [
    "#X_rsfs"
   ]
  },
  {
   "cell_type": "code",
   "execution_count": null,
   "metadata": {},
   "outputs": [],
   "source": []
  },
  {
   "cell_type": "code",
   "execution_count": null,
   "metadata": {
    "ExecuteTime": {
     "end_time": "2021-10-18T03:00:39.888718Z",
     "start_time": "2021-10-18T03:00:39.823989Z"
    }
   },
   "outputs": [],
   "source": [
    "#w = np.array(df.iloc[1,:-1])"
   ]
  },
  {
   "cell_type": "code",
   "execution_count": null,
   "metadata": {
    "ExecuteTime": {
     "end_time": "2021-10-18T03:00:44.239624Z",
     "start_time": "2021-10-18T03:00:44.195829Z"
    }
   },
   "outputs": [],
   "source": [
    "#df.shape"
   ]
  },
  {
   "cell_type": "code",
   "execution_count": null,
   "metadata": {
    "ExecuteTime": {
     "end_time": "2021-10-18T03:00:49.488214Z",
     "start_time": "2021-10-18T03:00:49.364872Z"
    }
   },
   "outputs": [],
   "source": [
    "# import pywt\n",
    "# coeffs = pywt.wavedec(w, 'db1', level=5)\n",
    "# cA5,cD5,cD4,cD3, cD2, cD1 = coeffs\n",
    "# print(cD5)\n",
    "# print(cD4)\n",
    "# print(cA5)\n",
    "\n"
   ]
  },
  {
   "cell_type": "code",
   "execution_count": null,
   "metadata": {
    "ExecuteTime": {
     "start_time": "2021-10-18T03:00:30.668Z"
    }
   },
   "outputs": [],
   "source": [
    "# plt.figure(figsize=(8,8))\n",
    "# plt.subplot(6, 1, 1)\n",
    "# plt.plot(cD1)\n",
    "# plt.subplot(6, 1, 2)\n",
    "# plt.plot(cD2)\n",
    "# plt.subplot(6, 1, 3)\n",
    "# plt.plot(cD3)\n",
    "# plt.subplot(6, 1, 4)\n",
    "# plt.plot(cD4)\n",
    "# plt.subplot(6, 1, 5)\n",
    "# plt.plot(cD5)\n",
    "# plt.subplot(6, 1, 6)\n",
    "# plt.plot(cA5)\n"
   ]
  },
  {
   "cell_type": "code",
   "execution_count": null,
   "metadata": {
    "ExecuteTime": {
     "end_time": "2021-10-16T18:22:46.937293Z",
     "start_time": "2021-10-16T18:22:46.925264Z"
    }
   },
   "outputs": [],
   "source": []
  },
  {
   "cell_type": "code",
   "execution_count": null,
   "metadata": {
    "ExecuteTime": {
     "start_time": "2021-10-18T03:00:35.923Z"
    }
   },
   "outputs": [],
   "source": [
    "# ae , be, ce de abe cde abcde"
   ]
  },
  {
   "cell_type": "code",
   "execution_count": null,
   "metadata": {
    "ExecuteTime": {
     "start_time": "2021-10-18T03:00:39.645Z"
    }
   },
   "outputs": [],
   "source": [
    "# Rsfs feature Extraction"
   ]
  },
  {
   "cell_type": "code",
   "execution_count": null,
   "metadata": {
    "ExecuteTime": {
     "start_time": "2021-10-18T03:00:40.258Z"
    }
   },
   "outputs": [],
   "source": [
    "# # ae_transformed = pd.DataFrame()\n",
    "# x = np.array(cD5)\n",
    "# #print(cD5.tolist())\n",
    "# print(cD5)\n",
    "# m = []\n",
    "# print(m)"
   ]
  },
  {
   "cell_type": "code",
   "execution_count": null,
   "metadata": {
    "ExecuteTime": {
     "start_time": "2021-10-18T03:00:41.684Z"
    }
   },
   "outputs": [],
   "source": [
    "# for i in range(2,df.shape[0]):\n",
    "#     w = df.iloc[i,:-1]\n",
    "#     coeffs = pywt.wavedec(w, 'db1', level=5)\n",
    "#     cA5,cD5,cD4,cD3, cD2, cD1 = coeffs\n",
    "#     cD5.tolist()\n",
    "#     m.append(cD5)\n",
    "    \n",
    "    \n",
    "    \n",
    "    \n",
    "    \n",
    "    "
   ]
  },
  {
   "cell_type": "code",
   "execution_count": null,
   "metadata": {
    "ExecuteTime": {
     "start_time": "2021-10-18T03:00:42.306Z"
    }
   },
   "outputs": [],
   "source": [
    "# x = np.vstack(m)\n",
    "# x.shape\n"
   ]
  },
  {
   "cell_type": "code",
   "execution_count": null,
   "metadata": {
    "ExecuteTime": {
     "start_time": "2021-10-18T03:00:42.885Z"
    }
   },
   "outputs": [],
   "source": [
    "\n",
    "# abcde = pd.DataFrame(x)\n",
    "# abcde.iloc[:,-1] = df['Label']\n",
    "# abcde"
   ]
  },
  {
   "cell_type": "code",
   "execution_count": null,
   "metadata": {
    "ExecuteTime": {
     "end_time": "2021-10-18T02:30:07.401492Z",
     "start_time": "2021-10-18T02:30:06.841729Z"
    }
   },
   "outputs": [],
   "source": [
    "# abcde.to_csv(\"ce_transformed.csv\")"
   ]
  },
  {
   "cell_type": "code",
   "execution_count": null,
   "metadata": {
    "ExecuteTime": {
     "end_time": "2021-10-16T18:30:13.421606Z",
     "start_time": "2021-10-16T18:30:13.403597Z"
    }
   },
   "outputs": [],
   "source": []
  },
  {
   "cell_type": "code",
   "execution_count": null,
   "metadata": {
    "ExecuteTime": {
     "end_time": "2021-10-16T18:57:18.355293Z",
     "start_time": "2021-10-16T18:57:18.325305Z"
    }
   },
   "outputs": [],
   "source": []
  },
  {
   "cell_type": "code",
   "execution_count": null,
   "metadata": {
    "ExecuteTime": {
     "end_time": "2021-10-16T19:01:07.059700Z",
     "start_time": "2021-10-16T18:59:48.865479Z"
    },
    "scrolled": true
   },
   "outputs": [],
   "source": [
    "# Data = np.loadtxt(open(str('abcde_transformed.csv'), \"rb\"), delimiter=\",\", skiprows=1)\n",
    "# labels = Data[:, -1]\n",
    "# Data = Data[:, :-1]\n",
    "# train, test, train_labels, test_labels = train_test_split(\n",
    "#   Data, labels, test_size=0.33, random_state=42, stratify=labels)\n",
    "# data_train = train\n",
    "# data_test = test\n",
    "# label_train = train_labels\n",
    "# label_test = test_labels\n",
    "# Parameters = {\n",
    "#   'RSFS': {\n",
    "#       'Classifier': 'KNN',\n",
    "#       'Classifier Properties': {\n",
    "#           'n_neighbors': 3,\n",
    "#           'weights': 'distance'\n",
    "#       },\n",
    "#       'Dummy feats': len(labels),\n",
    "#       'delta': 0.05,\n",
    "#       'maxiters': 300000,\n",
    "#       'fn': 'sqrt',\n",
    "#       'cutoff': 0.90,\n",
    "#       'Threshold': 1000,\n",
    "#   },\n",
    "#   'Verbose': 1\n",
    "# }\n",
    "# Ex_Features = rsfs.RSFS(train,test,train_labels,test_labels,Parameters)['F_RSFS'][0]\n",
    "# print(Ex_Features)\n"
   ]
  },
  {
   "cell_type": "code",
   "execution_count": null,
   "metadata": {
    "ExecuteTime": {
     "end_time": "2021-10-16T19:01:09.895792Z",
     "start_time": "2021-10-16T19:01:09.881702Z"
    }
   },
   "outputs": [],
   "source": [
    "# Xrsfs = df[df.columns[list(Ex_Features)]]\n",
    "# Xrsfs = Xrsfs.iloc[:,:-1]\n",
    "# Xrsfs\n",
    "# y =df['Label'].values\n"
   ]
  },
  {
   "cell_type": "code",
   "execution_count": null,
   "metadata": {
    "ExecuteTime": {
     "end_time": "2021-10-16T19:01:12.893947Z",
     "start_time": "2021-10-16T19:01:12.879911Z"
    }
   },
   "outputs": [],
   "source": [
    "# X_rsfstrain, X_rsfstest, y_rsfstrain, y_rsfstest = train_test_split( Xrsfs, y, test_size=0.33, random_state=4)\n",
    "# print ('Train set:', X_rsfstrain.shape,  y_rsfstrain.shape)\n",
    "# print ('Test set:', X_rsfstest.shape,  y_rsfstest.shape)\n",
    "\n"
   ]
  },
  {
   "cell_type": "code",
   "execution_count": null,
   "metadata": {},
   "outputs": [],
   "source": []
  },
  {
   "cell_type": "code",
   "execution_count": null,
   "metadata": {},
   "outputs": [],
   "source": []
  },
  {
   "cell_type": "code",
   "execution_count": null,
   "metadata": {
    "ExecuteTime": {
     "end_time": "2021-10-16T19:01:19.930334Z",
     "start_time": "2021-10-16T19:01:19.908377Z"
    }
   },
   "outputs": [],
   "source": [
    "from sklearn import svm"
   ]
  },
  {
   "cell_type": "code",
   "execution_count": null,
   "metadata": {
    "ExecuteTime": {
     "end_time": "2021-10-16T19:01:26.961329Z",
     "start_time": "2021-10-16T19:01:26.932332Z"
    }
   },
   "outputs": [],
   "source": [
    "clf = svm.SVC(kernel='rbf')\n",
    "clf.fit(X_rsfstrain, y_rsfstrain)"
   ]
  },
  {
   "cell_type": "code",
   "execution_count": null,
   "metadata": {
    "ExecuteTime": {
     "end_time": "2021-10-16T19:01:30.674323Z",
     "start_time": "2021-10-16T19:01:30.662324Z"
    }
   },
   "outputs": [],
   "source": [
    "yhat = clf.predict(X_rsfstest)"
   ]
  },
  {
   "cell_type": "code",
   "execution_count": null,
   "metadata": {
    "ExecuteTime": {
     "end_time": "2021-10-16T19:01:33.622419Z",
     "start_time": "2021-10-16T19:01:33.595380Z"
    }
   },
   "outputs": [],
   "source": [
    "from sklearn.metrics import f1_score\n",
    "f1_score(y_rsfstest, yhat, average='weighted') \n",
    "print(f1_score(yhat,y_rsfstest,average=\"macro\"))\n",
    "print(clf.score(X_rsfstest,y_rsfstest))\n",
    "print(classification_report(y_rsfstest, yhat))"
   ]
  },
  {
   "cell_type": "code",
   "execution_count": null,
   "metadata": {
    "ExecuteTime": {
     "end_time": "2021-10-16T19:18:08.528340Z",
     "start_time": "2021-10-16T19:18:08.516341Z"
    }
   },
   "outputs": [],
   "source": [
    "##Lstm\n",
    "epochs = 20\n",
    "batch_size = 10\n",
    "time_steps = 4069\n",
    "features = 4097"
   ]
  },
  {
   "cell_type": "code",
   "execution_count": null,
   "metadata": {
    "ExecuteTime": {
     "end_time": "2021-10-16T19:18:11.738597Z",
     "start_time": "2021-10-16T19:18:11.723117Z"
    }
   },
   "outputs": [],
   "source": [
    "# X_train = X_rsfstrain[..., np.newaxis]\n",
    "# X_test = X_rsfstest[..., np.newaxis]\n",
    "from keras.models import Sequential\n",
    "from keras.layers import Dense\n",
    "from keras.layers import LSTM\n",
    "from sklearn.preprocessing import MinMaxScaler\n",
    "from sklearn.metrics import mean_squared_error"
   ]
  },
  {
   "cell_type": "code",
   "execution_count": null,
   "metadata": {
    "ExecuteTime": {
     "end_time": "2021-10-16T19:21:24.926281Z",
     "start_time": "2021-10-16T19:21:24.552178Z"
    }
   },
   "outputs": [],
   "source": [
    "model = tf.keras.models.Sequential()\n",
    "model.add(LSTM(100,dropout = 0.2, input_shape = (1,46)))\n",
    "model.add(Dense(1,activation='relu'))\n",
    "model.compile(loss = 'binary_crossentropy',optimizer='adam',metrics=['accuracy','mae'])\n",
    "print(model.summary)\n",
    "model.fit(X_rsfstrain,y_rsfstrain,validation_data=(X_rsfstest,y_rsfstest),epochs=epochs)"
   ]
  },
  {
   "cell_type": "code",
   "execution_count": null,
   "metadata": {},
   "outputs": [],
   "source": []
  }
 ],
 "metadata": {
  "kernelspec": {
   "display_name": "Python 3",
   "language": "python",
   "name": "python3"
  },
  "language_info": {
   "codemirror_mode": {
    "name": "ipython",
    "version": 3
   },
   "file_extension": ".py",
   "mimetype": "text/x-python",
   "name": "python",
   "nbconvert_exporter": "python",
   "pygments_lexer": "ipython3",
   "version": "3.7.6"
  },
  "latex_envs": {
   "LaTeX_envs_menu_present": true,
   "autoclose": true,
   "autocomplete": true,
   "bibliofile": "biblio.bib",
   "cite_by": "apalike",
   "current_citInitial": 1,
   "eqLabelWithNumbers": true,
   "eqNumInitial": 1,
   "hotkeys": {
    "equation": "Ctrl-E",
    "itemize": "Ctrl-I"
   },
   "labels_anchors": false,
   "latex_user_defs": false,
   "report_style_numbering": false,
   "user_envs_cfg": false
  },
  "toc": {
   "base_numbering": 1,
   "nav_menu": {},
   "number_sections": true,
   "sideBar": true,
   "skip_h1_title": false,
   "title_cell": "Table of Contents",
   "title_sidebar": "Contents",
   "toc_cell": false,
   "toc_position": {},
   "toc_section_display": true,
   "toc_window_display": false
  },
  "varInspector": {
   "cols": {
    "lenName": 16,
    "lenType": 16,
    "lenVar": 40
   },
   "kernels_config": {
    "python": {
     "delete_cmd_postfix": "",
     "delete_cmd_prefix": "del ",
     "library": "var_list.py",
     "varRefreshCmd": "print(var_dic_list())"
    },
    "r": {
     "delete_cmd_postfix": ") ",
     "delete_cmd_prefix": "rm(",
     "library": "var_list.r",
     "varRefreshCmd": "cat(var_dic_list()) "
    }
   },
   "types_to_exclude": [
    "module",
    "function",
    "builtin_function_or_method",
    "instance",
    "_Feature"
   ],
   "window_display": false
  }
 },
 "nbformat": 4,
 "nbformat_minor": 4
}
