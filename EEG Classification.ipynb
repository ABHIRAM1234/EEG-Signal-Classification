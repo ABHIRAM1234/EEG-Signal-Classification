{
 "cells": [
  {
   "cell_type": "markdown",
   "metadata": {},
   "source": [
    "# Importing Dataset and Libraries"
   ]
  },
  {
   "cell_type": "code",
   "execution_count": 2,
   "metadata": {
    "ExecuteTime": {
     "end_time": "2021-08-25T16:07:28.663571Z",
     "start_time": "2021-08-25T16:07:05.630736Z"
    }
   },
   "outputs": [
    {
     "name": "stdout",
     "output_type": "stream",
     "text": [
      "Collecting rsfs\n",
      "  Downloading rsfs-0.1.tar.gz (5.4 kB)\n",
      "Requirement already satisfied: numpy in c:\\users\\deepa\\anaconda3\\lib\\site-packages (from rsfs) (1.18.1)\n",
      "Requirement already satisfied: scikit-learn in c:\\users\\deepa\\anaconda3\\lib\\site-packages (from rsfs) (0.23.2)\n",
      "Requirement already satisfied: scipy in c:\\users\\deepa\\anaconda3\\lib\\site-packages (from rsfs) (1.4.1)\n",
      "Requirement already satisfied: threadpoolctl>=2.0.0 in c:\\users\\deepa\\anaconda3\\lib\\site-packages (from scikit-learn->rsfs) (2.1.0)\n",
      "Requirement already satisfied: joblib>=0.11 in c:\\users\\deepa\\anaconda3\\lib\\site-packages (from scikit-learn->rsfs) (0.14.1)\n",
      "Building wheels for collected packages: rsfs\n",
      "  Building wheel for rsfs (setup.py): started\n",
      "  Building wheel for rsfs (setup.py): finished with status 'done'\n",
      "  Created wheel for rsfs: filename=rsfs-0.1-py3-none-any.whl size=5861 sha256=7c1c2c0e8868b0b26af0d1f4ded846db11f398e365f628599de244ba8892e33b\n",
      "  Stored in directory: c:\\users\\deepa\\appdata\\local\\pip\\cache\\wheels\\96\\cf\\9b\\cfbf22e91ea925cae2ccbdfb5c0f3676742ca0fca032e9828b\n",
      "Successfully built rsfs\n",
      "Installing collected packages: rsfs\n",
      "Successfully installed rsfs-0.1\n"
     ]
    }
   ],
   "source": [
    "!pip install rsfs"
   ]
  },
  {
   "cell_type": "code",
   "execution_count": 5,
   "metadata": {
    "ExecuteTime": {
     "end_time": "2021-09-18T03:40:47.661213Z",
     "start_time": "2021-09-18T03:39:51.879472Z"
    },
    "id": "3VEQ1LoDkzTW"
   },
   "outputs": [],
   "source": [
    "import pandas as pd\n",
    "import numpy as np\n",
    "import itertools\n",
    "import numpy as np\n",
    "import matplotlib.pyplot as plt\n",
    "from matplotlib.ticker import NullFormatter\n",
    "import pandas as pd\n",
    "import numpy as np\n",
    "import matplotlib.ticker as ticker\n",
    "from sklearn import preprocessing\n",
    "from sklearn import metrics\n",
    "from sklearn.metrics import classification_report\n",
    "import rsfs\n",
    "from sklearn.model_selection import train_test_split\n",
    "%matplotlib inline\n",
    "import tensorflow as tf"
   ]
  },
  {
   "cell_type": "code",
   "execution_count": 2,
   "metadata": {
    "ExecuteTime": {
     "end_time": "2021-10-16T17:29:27.142852Z",
     "start_time": "2021-10-16T17:29:27.126849Z"
    },
    "id": "E8FmcZ_-k0ks"
   },
   "outputs": [
    {
     "ename": "NameError",
     "evalue": "name 'pd' is not defined",
     "output_type": "error",
     "traceback": [
      "\u001b[1;31m---------------------------------------------------------------------------\u001b[0m",
      "\u001b[1;31mNameError\u001b[0m                                 Traceback (most recent call last)",
      "\u001b[1;32m<ipython-input-2-6ab0270f4f59>\u001b[0m in \u001b[0;36m<module>\u001b[1;34m\u001b[0m\n\u001b[1;32m----> 1\u001b[1;33m \u001b[0mdf\u001b[0m\u001b[1;33m=\u001b[0m\u001b[0mpd\u001b[0m\u001b[1;33m.\u001b[0m\u001b[0mread_csv\u001b[0m\u001b[1;33m(\u001b[0m\u001b[1;34m\"filtered_signals.csv\"\u001b[0m\u001b[1;33m)\u001b[0m\u001b[1;33m\u001b[0m\u001b[1;33m\u001b[0m\u001b[0m\n\u001b[0m\u001b[0;32m      2\u001b[0m \u001b[0mdf\u001b[0m \u001b[1;33m=\u001b[0m \u001b[0mdf\u001b[0m\u001b[1;33m.\u001b[0m\u001b[0mdrop\u001b[0m\u001b[1;33m(\u001b[0m\u001b[1;34m'Unnamed: 0'\u001b[0m\u001b[1;33m,\u001b[0m \u001b[0maxis\u001b[0m \u001b[1;33m=\u001b[0m \u001b[1;36m1\u001b[0m\u001b[1;33m)\u001b[0m\u001b[1;33m\u001b[0m\u001b[1;33m\u001b[0m\u001b[0m\n",
      "\u001b[1;31mNameError\u001b[0m: name 'pd' is not defined"
     ]
    }
   ],
   "source": [
    "df=pd.read_csv(\"filtered_signals.csv\")\n",
    "df = df.drop('Unnamed: 0', axis = 1)\n"
   ]
  },
  {
   "cell_type": "code",
   "execution_count": 1,
   "metadata": {
    "ExecuteTime": {
     "end_time": "2021-10-16T17:29:21.526161Z",
     "start_time": "2021-10-16T17:29:21.453168Z"
    },
    "colab": {
     "base_uri": "https://localhost:8080/",
     "height": 443
    },
    "id": "pFdiGiegliil",
    "outputId": "c6ef0c64-7c59-4452-f975-feb912e61ed4"
   },
   "outputs": [
    {
     "ename": "NameError",
     "evalue": "name 'df' is not defined",
     "output_type": "error",
     "traceback": [
      "\u001b[1;31m---------------------------------------------------------------------------\u001b[0m",
      "\u001b[1;31mNameError\u001b[0m                                 Traceback (most recent call last)",
      "\u001b[1;32m<ipython-input-1-74c33abf1bce>\u001b[0m in \u001b[0;36m<module>\u001b[1;34m\u001b[0m\n\u001b[1;32m----> 1\u001b[1;33m \u001b[0mdf\u001b[0m\u001b[1;33m.\u001b[0m\u001b[0miloc\u001b[0m\u001b[1;33m[\u001b[0m\u001b[1;36m1\u001b[0m\u001b[1;33m,\u001b[0m\u001b[1;33m:\u001b[0m\u001b[1;33m-\u001b[0m\u001b[1;36m1\u001b[0m\u001b[1;33m]\u001b[0m\u001b[1;33m\u001b[0m\u001b[1;33m\u001b[0m\u001b[0m\n\u001b[0m",
      "\u001b[1;31mNameError\u001b[0m: name 'df' is not defined"
     ]
    }
   ],
   "source": []
  },
  {
   "cell_type": "code",
   "execution_count": 10,
   "metadata": {
    "ExecuteTime": {
     "end_time": "2021-09-18T03:47:11.659047Z",
     "start_time": "2021-09-18T03:47:11.647049Z"
    },
    "colab": {
     "base_uri": "https://localhost:8080/"
    },
    "id": "SB1wRAPmq3qh",
    "outputId": "05e90892-27c3-48f8-9b9c-efa93733b061"
   },
   "outputs": [
    {
     "data": {
      "text/plain": [
       "Index(['0', '1', '2', '3', '4', '5', '6', '7', '8', '9',\n",
       "       ...\n",
       "       '4088', '4089', '4090', '4091', '4092', '4093', '4094', '4095', '4096',\n",
       "       'Label'],\n",
       "      dtype='object', length=4098)"
      ]
     },
     "execution_count": 10,
     "metadata": {},
     "output_type": "execute_result"
    }
   ],
   "source": [
    "df.columns\n"
   ]
  },
  {
   "cell_type": "markdown",
   "metadata": {},
   "source": [
    "# Preprocessing"
   ]
  },
  {
   "cell_type": "code",
   "execution_count": 11,
   "metadata": {
    "ExecuteTime": {
     "end_time": "2021-09-18T03:47:11.960047Z",
     "start_time": "2021-09-18T03:47:11.932051Z"
    },
    "id": "5-eEvvTFrBWI"
   },
   "outputs": [],
   "source": [
    "df = df.fillna(0)"
   ]
  },
  {
   "cell_type": "code",
   "execution_count": 12,
   "metadata": {
    "ExecuteTime": {
     "end_time": "2021-09-18T03:47:12.541045Z",
     "start_time": "2021-09-18T03:47:12.498050Z"
    },
    "id": "5g0rSrhIrDog"
   },
   "outputs": [],
   "source": [
    "df = df.sample(frac=1.0)"
   ]
  },
  {
   "cell_type": "code",
   "execution_count": 13,
   "metadata": {
    "ExecuteTime": {
     "end_time": "2021-09-18T03:47:13.182046Z",
     "start_time": "2021-09-18T03:47:13.155050Z"
    },
    "colab": {
     "base_uri": "https://localhost:8080/"
    },
    "id": "zfGfTwIarF3x",
    "outputId": "88a6e338-b1f1-4337-8eb8-4dbe2bf160bc"
   },
   "outputs": [
    {
     "data": {
      "text/plain": [
       "(500, 4097)"
      ]
     },
     "execution_count": 13,
     "metadata": {},
     "output_type": "execute_result"
    }
   ],
   "source": [
    "X = df[df.columns[:-1]].values\n",
    "X.shape"
   ]
  },
  {
   "cell_type": "code",
   "execution_count": 14,
   "metadata": {
    "ExecuteTime": {
     "end_time": "2021-09-18T03:47:13.604047Z",
     "start_time": "2021-09-18T03:47:13.454050Z"
    },
    "colab": {
     "base_uri": "https://localhost:8080/"
    },
    "id": "gmit9tdSrWFI",
    "outputId": "98e246a3-2e04-4593-8ac3-ff4e7feb6d5b"
   },
   "outputs": [
    {
     "data": {
      "text/plain": [
       "Index(['0', '1', '2', '3', '4', '5', '6', '7', '8', '9',\n",
       "       ...\n",
       "       '4088', '4089', '4090', '4091', '4092', '4093', '4094', '4095', '4096',\n",
       "       'Label'],\n",
       "      dtype='object', length=4098)"
      ]
     },
     "execution_count": 14,
     "metadata": {},
     "output_type": "execute_result"
    }
   ],
   "source": [
    "X = preprocessing.StandardScaler().fit(X).transform(X.astype(float))\n",
    "df.columns[:6000]"
   ]
  },
  {
   "cell_type": "code",
   "execution_count": 15,
   "metadata": {
    "ExecuteTime": {
     "end_time": "2021-09-18T03:47:13.980045Z",
     "start_time": "2021-09-18T03:47:13.957050Z"
    },
    "colab": {
     "base_uri": "https://localhost:8080/"
    },
    "id": "r3IpGk12rZi2",
    "outputId": "9696934b-dbda-476a-c866-51db95ca4020"
   },
   "outputs": [
    {
     "data": {
      "text/plain": [
       "array([0, 0, 0, 0, 0], dtype=int64)"
      ]
     },
     "execution_count": 15,
     "metadata": {},
     "output_type": "execute_result"
    }
   ],
   "source": [
    "y = df['Label'].values\n",
    "\n",
    "y[0:5]"
   ]
  },
  {
   "cell_type": "markdown",
   "metadata": {},
   "source": [
    "## RSFS Implementation"
   ]
  },
  {
   "cell_type": "code",
   "execution_count": 16,
   "metadata": {
    "ExecuteTime": {
     "end_time": "2021-09-18T03:49:17.673161Z",
     "start_time": "2021-09-18T03:47:15.135064Z"
    }
   },
   "outputs": [
    {
     "name": "stderr",
     "output_type": "stream",
     "text": [
      "C:\\Users\\deepa\\anaconda3\\lib\\site-packages\\scipy\\stats\\_distn_infrastructure.py:1824: RuntimeWarning: invalid value encountered in true_divide\n",
      "  x = np.asarray((x - loc)/scale, dtype=dtyp)\n",
      "C:\\Users\\deepa\\anaconda3\\lib\\site-packages\\scipy\\stats\\_distn_infrastructure.py:903: RuntimeWarning: invalid value encountered in greater\n",
      "  return (a < x) & (x < b)\n",
      "C:\\Users\\deepa\\anaconda3\\lib\\site-packages\\scipy\\stats\\_distn_infrastructure.py:903: RuntimeWarning: invalid value encountered in less\n",
      "  return (a < x) & (x < b)\n",
      "C:\\Users\\deepa\\anaconda3\\lib\\site-packages\\scipy\\stats\\_distn_infrastructure.py:1827: RuntimeWarning: invalid value encountered in greater_equal\n",
      "  cond2 = (x >= np.asarray(_b)) & cond0\n",
      "C:\\Users\\deepa\\anaconda3\\lib\\site-packages\\rsfs\\rsfs_py.py:174: RuntimeWarning: invalid value encountered in greater\n",
      "  feat_N[iteration] = numpy.size(numpy.where(probs > cutoff))\n",
      "C:\\Users\\deepa\\anaconda3\\lib\\site-packages\\scipy\\stats\\_distn_infrastructure.py:1824: RuntimeWarning: invalid value encountered in true_divide\n",
      "  x = np.asarray((x - loc)/scale, dtype=dtyp)\n",
      "C:\\Users\\deepa\\anaconda3\\lib\\site-packages\\scipy\\stats\\_distn_infrastructure.py:903: RuntimeWarning: invalid value encountered in greater\n",
      "  return (a < x) & (x < b)\n",
      "C:\\Users\\deepa\\anaconda3\\lib\\site-packages\\scipy\\stats\\_distn_infrastructure.py:903: RuntimeWarning: invalid value encountered in less\n",
      "  return (a < x) & (x < b)\n",
      "C:\\Users\\deepa\\anaconda3\\lib\\site-packages\\scipy\\stats\\_distn_infrastructure.py:1827: RuntimeWarning: invalid value encountered in greater_equal\n",
      "  cond2 = (x >= np.asarray(_b)) & cond0\n",
      "C:\\Users\\deepa\\anaconda3\\lib\\site-packages\\rsfs\\rsfs_py.py:174: RuntimeWarning: invalid value encountered in greater\n",
      "  feat_N[iteration] = numpy.size(numpy.where(probs > cutoff))\n"
     ]
    },
    {
     "name": "stdout",
     "output_type": "stream",
     "text": [
      "RSFS:  89.0 features chosen so far (iteration:  1000 / 300000 ). Delta:  0.3854931042712549\n",
      "RSFS:  100.0 features chosen so far (iteration:  2000 / 300000 ). Delta:  0.10913874539561032\n",
      "RSFS:  172.0 features chosen so far (iteration:  3000 / 300000 ). Delta:  0.18222643841800212\n",
      "RSFS:  123.0 features chosen so far (iteration:  4000 / 300000 ). Delta:  0.1485230016280216\n",
      "RSFS:  136.0 features chosen so far (iteration:  5000 / 300000 ). Delta:  0.055177899417884715\n",
      "RSFS:  137.0 features chosen so far (iteration:  6000 / 300000 ). Delta:  0.04254092509608685\n",
      "[   0   18   76  152  215  275  284  310  361  407  423  518  595  631\n",
      "  735  802  811  856  873  892  990  994  996 1014 1021 1039 1042 1050\n",
      " 1052 1069 1086 1144 1166 1176 1194 1229 1239 1240 1248 1253 1262 1273\n",
      " 1305 1352 1385 1410 1411 1413 1426 1429 1438 1529 1541 1544 1661 1696\n",
      " 1716 1718 1749 1787 1834 1850 1877 1886 1899 1950 1964 1997 2014 2032\n",
      " 2045 2046 2113 2151 2163 2169 2171 2217 2247 2248 2315 2333 2345 2403\n",
      " 2409 2443 2493 2574 2610 2623 2632 2649 2672 2738 2762 2773 2781 2797\n",
      " 2800 2859 3101 3102 3103 3140 3151 3157 3228 3279 3303 3305 3335 3415\n",
      " 3472 3482 3487 3531 3550 3610 3614 3616 3618 3649 3661 3684 3793 3800\n",
      " 3848 3886 3899 3930 3948 3993 3998 3999 4009 4011 4089]\n"
     ]
    }
   ],
   "source": [
    "Data = np.loadtxt(open(str('filtered_signals.csv'), \"rb\"), delimiter=\",\", skiprows=1)\n",
    "labels = Data[:, -1]\n",
    "Data = Data[:, :-1]\n",
    "train, test, train_labels, test_labels = train_test_split(\n",
    "  Data, labels, test_size=0.33, random_state=42, stratify=labels)\n",
    "data_train = train\n",
    "data_test = test\n",
    "label_train = train_labels\n",
    "label_test = test_labels\n",
    "Parameters = {\n",
    "  'RSFS': {\n",
    "      'Classifier': 'KNN',\n",
    "      'Classifier Properties': {\n",
    "          'n_neighbors': 3,\n",
    "          'weights': 'distance'\n",
    "      },\n",
    "      'Dummy feats': len(labels),\n",
    "      'delta': 0.05,\n",
    "      'maxiters': 300000,\n",
    "      'fn': 'sqrt',\n",
    "      'cutoff': 0.90,\n",
    "      'Threshold': 1000,\n",
    "  },\n",
    "  'Verbose': 1\n",
    "}\n",
    "Ex_Features = rsfs.RSFS(train,test,train_labels,test_labels,Parameters)['F_RSFS'][0]\n",
    "print(Ex_Features)\n"
   ]
  },
  {
   "cell_type": "code",
   "execution_count": null,
   "metadata": {},
   "outputs": [],
   "source": []
  },
  {
   "cell_type": "markdown",
   "metadata": {},
   "source": [
    "# Data Modeling"
   ]
  },
  {
   "cell_type": "markdown",
   "metadata": {},
   "source": [
    "## Data Modeling with all features"
   ]
  },
  {
   "cell_type": "code",
   "execution_count": 17,
   "metadata": {
    "ExecuteTime": {
     "end_time": "2021-09-18T03:49:18.459156Z",
     "start_time": "2021-09-18T03:49:18.314165Z"
    }
   },
   "outputs": [
    {
     "name": "stdout",
     "output_type": "stream",
     "text": [
      "Train set: (335, 4097) (335,)\n",
      "Test set: (165, 4097) (165,)\n"
     ]
    }
   ],
   "source": [
    "X = df[df.columns[:-1]].values\n",
    "y = df['Label'].values\n",
    "\n",
    "X_train, X_test, y_train, y_test = train_test_split( X, y, test_size=0.33, random_state=4)\n",
    "print ('Train set:', X_train.shape,  y_train.shape)\n",
    "print ('Test set:', X_test.shape,  y_test.shape)"
   ]
  },
  {
   "cell_type": "markdown",
   "metadata": {},
   "source": [
    "## Data Modeling with RSFS Features"
   ]
  },
  {
   "cell_type": "code",
   "execution_count": 18,
   "metadata": {
    "ExecuteTime": {
     "end_time": "2021-09-18T03:49:19.157208Z",
     "start_time": "2021-09-18T03:49:19.070168Z"
    }
   },
   "outputs": [
    {
     "data": {
      "text/html": [
       "<div>\n",
       "<style scoped>\n",
       "    .dataframe tbody tr th:only-of-type {\n",
       "        vertical-align: middle;\n",
       "    }\n",
       "\n",
       "    .dataframe tbody tr th {\n",
       "        vertical-align: top;\n",
       "    }\n",
       "\n",
       "    .dataframe thead th {\n",
       "        text-align: right;\n",
       "    }\n",
       "</style>\n",
       "<table border=\"1\" class=\"dataframe\">\n",
       "  <thead>\n",
       "    <tr style=\"text-align: right;\">\n",
       "      <th></th>\n",
       "      <th>0</th>\n",
       "      <th>18</th>\n",
       "      <th>76</th>\n",
       "      <th>152</th>\n",
       "      <th>215</th>\n",
       "      <th>275</th>\n",
       "      <th>284</th>\n",
       "      <th>310</th>\n",
       "      <th>361</th>\n",
       "      <th>407</th>\n",
       "      <th>...</th>\n",
       "      <th>3848</th>\n",
       "      <th>3886</th>\n",
       "      <th>3899</th>\n",
       "      <th>3930</th>\n",
       "      <th>3948</th>\n",
       "      <th>3993</th>\n",
       "      <th>3998</th>\n",
       "      <th>3999</th>\n",
       "      <th>4009</th>\n",
       "      <th>4011</th>\n",
       "    </tr>\n",
       "  </thead>\n",
       "  <tbody>\n",
       "    <tr>\n",
       "      <th>46</th>\n",
       "      <td>-9.033224</td>\n",
       "      <td>-17.746637</td>\n",
       "      <td>30.102623</td>\n",
       "      <td>-11.168518</td>\n",
       "      <td>18.505129</td>\n",
       "      <td>-20.120060</td>\n",
       "      <td>20.396265</td>\n",
       "      <td>2.547834</td>\n",
       "      <td>2.501487</td>\n",
       "      <td>39.072085</td>\n",
       "      <td>...</td>\n",
       "      <td>40.639328</td>\n",
       "      <td>-29.192515</td>\n",
       "      <td>-16.921757</td>\n",
       "      <td>18.649386</td>\n",
       "      <td>-0.829646</td>\n",
       "      <td>-39.158711</td>\n",
       "      <td>13.445745</td>\n",
       "      <td>-0.795168</td>\n",
       "      <td>-62.217965</td>\n",
       "      <td>-77.067893</td>\n",
       "    </tr>\n",
       "    <tr>\n",
       "      <th>315</th>\n",
       "      <td>1.019528</td>\n",
       "      <td>7.301221</td>\n",
       "      <td>-17.563376</td>\n",
       "      <td>19.605736</td>\n",
       "      <td>4.408386</td>\n",
       "      <td>-39.543221</td>\n",
       "      <td>-13.485523</td>\n",
       "      <td>-12.304943</td>\n",
       "      <td>18.082331</td>\n",
       "      <td>-9.311116</td>\n",
       "      <td>...</td>\n",
       "      <td>-6.780330</td>\n",
       "      <td>-1.475754</td>\n",
       "      <td>7.798989</td>\n",
       "      <td>-2.473896</td>\n",
       "      <td>15.691738</td>\n",
       "      <td>-6.589727</td>\n",
       "      <td>-10.808202</td>\n",
       "      <td>-8.532708</td>\n",
       "      <td>0.506628</td>\n",
       "      <td>9.449703</td>\n",
       "    </tr>\n",
       "    <tr>\n",
       "      <th>81</th>\n",
       "      <td>26.368082</td>\n",
       "      <td>-45.166055</td>\n",
       "      <td>37.368864</td>\n",
       "      <td>33.895768</td>\n",
       "      <td>-14.021432</td>\n",
       "      <td>45.927539</td>\n",
       "      <td>82.978586</td>\n",
       "      <td>16.182624</td>\n",
       "      <td>49.967737</td>\n",
       "      <td>-62.371311</td>\n",
       "      <td>...</td>\n",
       "      <td>-3.944540</td>\n",
       "      <td>27.443955</td>\n",
       "      <td>-15.285570</td>\n",
       "      <td>-38.483213</td>\n",
       "      <td>-6.672880</td>\n",
       "      <td>89.009669</td>\n",
       "      <td>100.727221</td>\n",
       "      <td>100.348676</td>\n",
       "      <td>37.744112</td>\n",
       "      <td>40.226175</td>\n",
       "    </tr>\n",
       "    <tr>\n",
       "      <th>381</th>\n",
       "      <td>-3.536928</td>\n",
       "      <td>16.531684</td>\n",
       "      <td>-26.304784</td>\n",
       "      <td>-29.444875</td>\n",
       "      <td>77.923975</td>\n",
       "      <td>-73.426594</td>\n",
       "      <td>26.046964</td>\n",
       "      <td>6.223418</td>\n",
       "      <td>-90.101651</td>\n",
       "      <td>-43.088430</td>\n",
       "      <td>...</td>\n",
       "      <td>-27.960213</td>\n",
       "      <td>-52.133987</td>\n",
       "      <td>-140.765295</td>\n",
       "      <td>35.609892</td>\n",
       "      <td>54.016801</td>\n",
       "      <td>-20.077684</td>\n",
       "      <td>52.485078</td>\n",
       "      <td>54.671711</td>\n",
       "      <td>45.188203</td>\n",
       "      <td>25.154825</td>\n",
       "    </tr>\n",
       "    <tr>\n",
       "      <th>260</th>\n",
       "      <td>-14.227549</td>\n",
       "      <td>-17.822203</td>\n",
       "      <td>-15.560811</td>\n",
       "      <td>-4.757677</td>\n",
       "      <td>4.954213</td>\n",
       "      <td>79.871152</td>\n",
       "      <td>44.776452</td>\n",
       "      <td>37.153182</td>\n",
       "      <td>1.993943</td>\n",
       "      <td>15.918073</td>\n",
       "      <td>...</td>\n",
       "      <td>6.844638</td>\n",
       "      <td>-19.924499</td>\n",
       "      <td>-42.534570</td>\n",
       "      <td>9.437841</td>\n",
       "      <td>29.140506</td>\n",
       "      <td>49.421662</td>\n",
       "      <td>54.606694</td>\n",
       "      <td>55.121838</td>\n",
       "      <td>22.072686</td>\n",
       "      <td>22.652679</td>\n",
       "    </tr>\n",
       "    <tr>\n",
       "      <th>...</th>\n",
       "      <td>...</td>\n",
       "      <td>...</td>\n",
       "      <td>...</td>\n",
       "      <td>...</td>\n",
       "      <td>...</td>\n",
       "      <td>...</td>\n",
       "      <td>...</td>\n",
       "      <td>...</td>\n",
       "      <td>...</td>\n",
       "      <td>...</td>\n",
       "      <td>...</td>\n",
       "      <td>...</td>\n",
       "      <td>...</td>\n",
       "      <td>...</td>\n",
       "      <td>...</td>\n",
       "      <td>...</td>\n",
       "      <td>...</td>\n",
       "      <td>...</td>\n",
       "      <td>...</td>\n",
       "      <td>...</td>\n",
       "      <td>...</td>\n",
       "    </tr>\n",
       "    <tr>\n",
       "      <th>248</th>\n",
       "      <td>1.660493</td>\n",
       "      <td>-56.469690</td>\n",
       "      <td>5.292432</td>\n",
       "      <td>-2.418503</td>\n",
       "      <td>12.186001</td>\n",
       "      <td>1.276931</td>\n",
       "      <td>-4.408814</td>\n",
       "      <td>-0.605401</td>\n",
       "      <td>-5.479767</td>\n",
       "      <td>-8.964350</td>\n",
       "      <td>...</td>\n",
       "      <td>1.791369</td>\n",
       "      <td>-6.760498</td>\n",
       "      <td>-5.029564</td>\n",
       "      <td>1.756008</td>\n",
       "      <td>36.940020</td>\n",
       "      <td>-47.944625</td>\n",
       "      <td>-50.038129</td>\n",
       "      <td>-49.863866</td>\n",
       "      <td>-38.959603</td>\n",
       "      <td>-26.683277</td>\n",
       "    </tr>\n",
       "    <tr>\n",
       "      <th>184</th>\n",
       "      <td>-22.655209</td>\n",
       "      <td>-78.651295</td>\n",
       "      <td>2.658244</td>\n",
       "      <td>106.471313</td>\n",
       "      <td>66.465925</td>\n",
       "      <td>-61.260625</td>\n",
       "      <td>15.091621</td>\n",
       "      <td>6.268977</td>\n",
       "      <td>26.300576</td>\n",
       "      <td>-52.316289</td>\n",
       "      <td>...</td>\n",
       "      <td>27.093046</td>\n",
       "      <td>12.737117</td>\n",
       "      <td>16.838358</td>\n",
       "      <td>-32.968995</td>\n",
       "      <td>18.372454</td>\n",
       "      <td>11.724156</td>\n",
       "      <td>18.433157</td>\n",
       "      <td>-5.732082</td>\n",
       "      <td>-11.613807</td>\n",
       "      <td>33.634843</td>\n",
       "    </tr>\n",
       "    <tr>\n",
       "      <th>312</th>\n",
       "      <td>-16.385390</td>\n",
       "      <td>-4.516092</td>\n",
       "      <td>15.788813</td>\n",
       "      <td>-20.009966</td>\n",
       "      <td>-6.866856</td>\n",
       "      <td>-29.901015</td>\n",
       "      <td>-22.020174</td>\n",
       "      <td>68.324252</td>\n",
       "      <td>16.103089</td>\n",
       "      <td>-33.608234</td>\n",
       "      <td>...</td>\n",
       "      <td>2.037152</td>\n",
       "      <td>48.052260</td>\n",
       "      <td>-16.952750</td>\n",
       "      <td>-19.873276</td>\n",
       "      <td>-38.704021</td>\n",
       "      <td>-20.538587</td>\n",
       "      <td>-30.929357</td>\n",
       "      <td>-30.554977</td>\n",
       "      <td>25.637643</td>\n",
       "      <td>35.800211</td>\n",
       "    </tr>\n",
       "    <tr>\n",
       "      <th>86</th>\n",
       "      <td>-16.620235</td>\n",
       "      <td>8.866741</td>\n",
       "      <td>104.621763</td>\n",
       "      <td>8.212257</td>\n",
       "      <td>24.986111</td>\n",
       "      <td>69.891263</td>\n",
       "      <td>-13.324440</td>\n",
       "      <td>66.591729</td>\n",
       "      <td>-142.428981</td>\n",
       "      <td>-66.445077</td>\n",
       "      <td>...</td>\n",
       "      <td>14.981601</td>\n",
       "      <td>-55.446448</td>\n",
       "      <td>-89.684918</td>\n",
       "      <td>-17.772289</td>\n",
       "      <td>-0.752117</td>\n",
       "      <td>-7.950811</td>\n",
       "      <td>22.830327</td>\n",
       "      <td>35.902913</td>\n",
       "      <td>7.603011</td>\n",
       "      <td>-17.898816</td>\n",
       "    </tr>\n",
       "    <tr>\n",
       "      <th>470</th>\n",
       "      <td>-46.861433</td>\n",
       "      <td>116.709831</td>\n",
       "      <td>-174.667047</td>\n",
       "      <td>-52.315088</td>\n",
       "      <td>-121.980760</td>\n",
       "      <td>54.649658</td>\n",
       "      <td>111.704317</td>\n",
       "      <td>-13.124793</td>\n",
       "      <td>-109.844648</td>\n",
       "      <td>-201.098413</td>\n",
       "      <td>...</td>\n",
       "      <td>100.330478</td>\n",
       "      <td>-17.342732</td>\n",
       "      <td>-11.824458</td>\n",
       "      <td>-168.900347</td>\n",
       "      <td>71.226733</td>\n",
       "      <td>-42.719839</td>\n",
       "      <td>-115.079239</td>\n",
       "      <td>-114.573723</td>\n",
       "      <td>34.139063</td>\n",
       "      <td>20.484394</td>\n",
       "    </tr>\n",
       "  </tbody>\n",
       "</table>\n",
       "<p>500 rows × 136 columns</p>\n",
       "</div>"
      ],
      "text/plain": [
       "             0          18          76         152         215        275  \\\n",
       "46   -9.033224  -17.746637   30.102623  -11.168518   18.505129 -20.120060   \n",
       "315   1.019528    7.301221  -17.563376   19.605736    4.408386 -39.543221   \n",
       "81   26.368082  -45.166055   37.368864   33.895768  -14.021432  45.927539   \n",
       "381  -3.536928   16.531684  -26.304784  -29.444875   77.923975 -73.426594   \n",
       "260 -14.227549  -17.822203  -15.560811   -4.757677    4.954213  79.871152   \n",
       "..         ...         ...         ...         ...         ...        ...   \n",
       "248   1.660493  -56.469690    5.292432   -2.418503   12.186001   1.276931   \n",
       "184 -22.655209  -78.651295    2.658244  106.471313   66.465925 -61.260625   \n",
       "312 -16.385390   -4.516092   15.788813  -20.009966   -6.866856 -29.901015   \n",
       "86  -16.620235    8.866741  104.621763    8.212257   24.986111  69.891263   \n",
       "470 -46.861433  116.709831 -174.667047  -52.315088 -121.980760  54.649658   \n",
       "\n",
       "            284        310         361         407  ...        3848  \\\n",
       "46    20.396265   2.547834    2.501487   39.072085  ...   40.639328   \n",
       "315  -13.485523 -12.304943   18.082331   -9.311116  ...   -6.780330   \n",
       "81    82.978586  16.182624   49.967737  -62.371311  ...   -3.944540   \n",
       "381   26.046964   6.223418  -90.101651  -43.088430  ...  -27.960213   \n",
       "260   44.776452  37.153182    1.993943   15.918073  ...    6.844638   \n",
       "..          ...        ...         ...         ...  ...         ...   \n",
       "248   -4.408814  -0.605401   -5.479767   -8.964350  ...    1.791369   \n",
       "184   15.091621   6.268977   26.300576  -52.316289  ...   27.093046   \n",
       "312  -22.020174  68.324252   16.103089  -33.608234  ...    2.037152   \n",
       "86   -13.324440  66.591729 -142.428981  -66.445077  ...   14.981601   \n",
       "470  111.704317 -13.124793 -109.844648 -201.098413  ...  100.330478   \n",
       "\n",
       "          3886        3899        3930       3948       3993        3998  \\\n",
       "46  -29.192515  -16.921757   18.649386  -0.829646 -39.158711   13.445745   \n",
       "315  -1.475754    7.798989   -2.473896  15.691738  -6.589727  -10.808202   \n",
       "81   27.443955  -15.285570  -38.483213  -6.672880  89.009669  100.727221   \n",
       "381 -52.133987 -140.765295   35.609892  54.016801 -20.077684   52.485078   \n",
       "260 -19.924499  -42.534570    9.437841  29.140506  49.421662   54.606694   \n",
       "..         ...         ...         ...        ...        ...         ...   \n",
       "248  -6.760498   -5.029564    1.756008  36.940020 -47.944625  -50.038129   \n",
       "184  12.737117   16.838358  -32.968995  18.372454  11.724156   18.433157   \n",
       "312  48.052260  -16.952750  -19.873276 -38.704021 -20.538587  -30.929357   \n",
       "86  -55.446448  -89.684918  -17.772289  -0.752117  -7.950811   22.830327   \n",
       "470 -17.342732  -11.824458 -168.900347  71.226733 -42.719839 -115.079239   \n",
       "\n",
       "           3999       4009       4011  \n",
       "46    -0.795168 -62.217965 -77.067893  \n",
       "315   -8.532708   0.506628   9.449703  \n",
       "81   100.348676  37.744112  40.226175  \n",
       "381   54.671711  45.188203  25.154825  \n",
       "260   55.121838  22.072686  22.652679  \n",
       "..          ...        ...        ...  \n",
       "248  -49.863866 -38.959603 -26.683277  \n",
       "184   -5.732082 -11.613807  33.634843  \n",
       "312  -30.554977  25.637643  35.800211  \n",
       "86    35.902913   7.603011 -17.898816  \n",
       "470 -114.573723  34.139063  20.484394  \n",
       "\n",
       "[500 rows x 136 columns]"
      ]
     },
     "execution_count": 18,
     "metadata": {},
     "output_type": "execute_result"
    }
   ],
   "source": [
    "Xrsfs = df[df.columns[list(Ex_Features)]]\n",
    "Xrsfs = Xrsfs.iloc[:,:-1]\n",
    "Xrsfs\n",
    "\n"
   ]
  },
  {
   "cell_type": "code",
   "execution_count": 19,
   "metadata": {
    "ExecuteTime": {
     "end_time": "2021-09-18T03:49:19.549161Z",
     "start_time": "2021-09-18T03:49:19.522159Z"
    }
   },
   "outputs": [
    {
     "name": "stdout",
     "output_type": "stream",
     "text": [
      "Train set: (335, 136) (335,)\n",
      "Test set: (165, 136) (165,)\n"
     ]
    }
   ],
   "source": [
    "X_rsfstrain, X_rsfstest, y_rsfstrain, y_rsfstest = train_test_split( Xrsfs, y, test_size=0.33, random_state=4)\n",
    "print ('Train set:', X_rsfstrain.shape,  y_rsfstrain.shape)\n",
    "print ('Test set:', X_rsfstest.shape,  y_rsfstest.shape)\n",
    "\n"
   ]
  },
  {
   "cell_type": "code",
   "execution_count": 20,
   "metadata": {
    "ExecuteTime": {
     "end_time": "2021-09-18T03:49:20.258163Z",
     "start_time": "2021-09-18T03:49:20.236172Z"
    }
   },
   "outputs": [
    {
     "data": {
      "text/plain": [
       "(335, 136)"
      ]
     },
     "execution_count": 20,
     "metadata": {},
     "output_type": "execute_result"
    }
   ],
   "source": [
    "X_rsfstrain.shape"
   ]
  },
  {
   "cell_type": "markdown",
   "metadata": {},
   "source": [
    "# Model Building"
   ]
  },
  {
   "cell_type": "markdown",
   "metadata": {
    "id": "KwzobHIvrlr8"
   },
   "source": [
    "## KNN\n",
    "\n"
   ]
  },
  {
   "cell_type": "markdown",
   "metadata": {},
   "source": [
    "### Without Feature Extraction"
   ]
  },
  {
   "cell_type": "code",
   "execution_count": 21,
   "metadata": {
    "ExecuteTime": {
     "end_time": "2021-09-18T03:49:20.772160Z",
     "start_time": "2021-09-18T03:49:20.760159Z"
    },
    "id": "3c0Gog8Rrdt8"
   },
   "outputs": [],
   "source": [
    "from sklearn.neighbors import KNeighborsClassifier"
   ]
  },
  {
   "cell_type": "code",
   "execution_count": null,
   "metadata": {
    "colab": {
     "base_uri": "https://localhost:8080/"
    },
    "id": "z3eqNhqNro33",
    "outputId": "b2bfb688-7348-4040-cfe9-9c600db0e81a"
   },
   "outputs": [],
   "source": []
  },
  {
   "cell_type": "code",
   "execution_count": 22,
   "metadata": {
    "ExecuteTime": {
     "end_time": "2021-09-18T03:49:30.779578Z",
     "start_time": "2021-09-18T03:49:21.229158Z"
    },
    "colab": {
     "base_uri": "https://localhost:8080/"
    },
    "id": "Sn7kf1sYrrRc",
    "outputId": "9371dffa-1759-458b-f87f-b19dc593696a"
   },
   "outputs": [
    {
     "name": "stdout",
     "output_type": "stream",
     "text": [
      "[0.86060606 0.8        0.8        0.79393939 0.79393939 0.79393939\n",
      " 0.79393939 0.79393939 0.79393939]\n",
      "0.4944124008651767\n",
      "              precision    recall  f1-score   support\n",
      "\n",
      "           0       0.79      1.00      0.88       129\n",
      "           1       1.00      0.06      0.11        36\n",
      "\n",
      "    accuracy                           0.79       165\n",
      "   macro avg       0.90      0.53      0.49       165\n",
      "weighted avg       0.84      0.79      0.71       165\n",
      "\n"
     ]
    }
   ],
   "source": [
    "from sklearn.metrics import f1_score\n",
    "Ks = 10\n",
    "mean_acc = np.zeros((Ks-1))\n",
    "std_acc = np.zeros((Ks-1))\n",
    "ConfustionMx = [];\n",
    "for n in range(1,Ks):\n",
    "    \n",
    "    #Train Model and Predict  \n",
    "    neigh = KNeighborsClassifier(n_neighbors = n).fit(X_train,y_train)\n",
    "    \n",
    "    yhat=neigh.predict(X_test)\n",
    "    mean_acc[n-1] = metrics.accuracy_score(y_test, yhat)\n",
    "\n",
    "    \n",
    "    std_acc[n-1]=np.std(yhat==y_test)/np.sqrt(yhat.shape[0])\n",
    "\n",
    "print(mean_acc)\n",
    "print(f1_score(yhat,y_test,average=\"macro\"))\n",
    "print(classification_report(y_test, yhat))"
   ]
  },
  {
   "cell_type": "markdown",
   "metadata": {},
   "source": [
    "### With Feature Extraction"
   ]
  },
  {
   "cell_type": "code",
   "execution_count": 23,
   "metadata": {
    "ExecuteTime": {
     "end_time": "2021-09-18T10:09:40.083468Z",
     "start_time": "2021-09-18T10:09:39.694199Z"
    }
   },
   "outputs": [
    {
     "name": "stdout",
     "output_type": "stream",
     "text": [
      "[0.87878788 0.83030303 0.83030303 0.81212121 0.81212121 0.8\n",
      " 0.8        0.79393939 0.79393939]\n",
      "0.4944124008651767\n",
      "              precision    recall  f1-score   support\n",
      "\n",
      "           0       0.79      1.00      0.88       129\n",
      "           1       1.00      0.06      0.11        36\n",
      "\n",
      "    accuracy                           0.79       165\n",
      "   macro avg       0.90      0.53      0.49       165\n",
      "weighted avg       0.84      0.79      0.71       165\n",
      "\n"
     ]
    }
   ],
   "source": [
    "from sklearn.metrics import f1_score\n",
    "Ks = 10\n",
    "mean_acc = np.zeros((Ks-1))\n",
    "std_acc = np.zeros((Ks-1))\n",
    "ConfustionMx = []\n",
    "\n",
    "for n in range(1,Ks):\n",
    "    \n",
    "    #Train Model and Predict  \n",
    "    neigh = KNeighborsClassifier(n_neighbors = n).fit(X_rsfstrain,y_rsfstrain)\n",
    "    \n",
    "    yhat=neigh.predict(X_rsfstest)\n",
    "    mean_acc[n-1] = metrics.accuracy_score(y_rsfstest, yhat)\n",
    "\n",
    "    \n",
    "    std_acc[n-1]=np.std(yhat==y_rsfstest)/np.sqrt(yhat.shape[0])\n",
    "\n",
    "print(mean_acc)\n",
    "print(f1_score(yhat,y_test,average=\"macro\"))\n",
    "print(classification_report(y_rsfstest, yhat))"
   ]
  },
  {
   "cell_type": "markdown",
   "metadata": {
    "id": "vr8E6FEqr1Aq"
   },
   "source": [
    "## Gradient Boosting\n"
   ]
  },
  {
   "cell_type": "markdown",
   "metadata": {},
   "source": [
    "### With all Features"
   ]
  },
  {
   "cell_type": "code",
   "execution_count": 66,
   "metadata": {
    "ExecuteTime": {
     "end_time": "2021-08-25T16:52:42.625612Z",
     "start_time": "2021-08-25T16:52:42.608062Z"
    },
    "id": "JzLnHMBmrvAm"
   },
   "outputs": [],
   "source": [
    "from sklearn.ensemble import GradientBoostingClassifier"
   ]
  },
  {
   "cell_type": "code",
   "execution_count": 67,
   "metadata": {
    "ExecuteTime": {
     "end_time": "2021-08-25T16:53:08.843478Z",
     "start_time": "2021-08-25T16:52:43.593419Z"
    },
    "colab": {
     "base_uri": "https://localhost:8080/"
    },
    "id": "8tqx2Rear5MX",
    "outputId": "a10a081d-c464-41bd-b674-1253675f8142"
   },
   "outputs": [
    {
     "name": "stdout",
     "output_type": "stream",
     "text": [
      "1.0\n",
      "0.9878787878787879\n",
      "0.5737281399046106\n",
      "              precision    recall  f1-score   support\n",
      "\n",
      "           0       0.84      1.00      0.91       135\n",
      "           1       1.00      0.13      0.24        30\n",
      "\n",
      "    accuracy                           0.84       165\n",
      "   macro avg       0.92      0.57      0.57       165\n",
      "weighted avg       0.87      0.84      0.79       165\n",
      "\n"
     ]
    }
   ],
   "source": [
    "clf = GradientBoostingClassifier(n_estimators=100, learning_rate=1.0,max_depth=1, random_state=0).fit(X_train, y_train)\n",
    "print(clf.score(X_train,y_train))#trianing dataset\n",
    "print(clf.score(X_test, y_test))# test accuracy \n",
    "print(f1_score(yhat,y_test,average=\"macro\"))\n",
    "print(classification_report(y_test, yhat))"
   ]
  },
  {
   "cell_type": "markdown",
   "metadata": {},
   "source": [
    "### With RSFS Features"
   ]
  },
  {
   "cell_type": "code",
   "execution_count": 72,
   "metadata": {
    "ExecuteTime": {
     "end_time": "2021-08-25T16:54:54.870624Z",
     "start_time": "2021-08-25T16:54:54.438363Z"
    }
   },
   "outputs": [
    {
     "name": "stdout",
     "output_type": "stream",
     "text": [
      "1.0\n",
      "0.9818181818181818\n",
      "0.5737281399046106\n",
      "              precision    recall  f1-score   support\n",
      "\n",
      "           0       0.84      1.00      0.91       135\n",
      "           1       1.00      0.13      0.24        30\n",
      "\n",
      "    accuracy                           0.84       165\n",
      "   macro avg       0.92      0.57      0.57       165\n",
      "weighted avg       0.87      0.84      0.79       165\n",
      "\n"
     ]
    }
   ],
   "source": [
    "clf = GradientBoostingClassifier(n_estimators=100, learning_rate=1,max_depth=1, random_state=0).fit(X_rsfstrain, y_rsfstrain)\n",
    "print(clf.score(X_rsfstrain,y_rsfstrain))#trianing dataset\n",
    "print(clf.score(X_rsfstest, y_rsfstest))# test accuracy \n",
    "print(f1_score(yhat,y_rsfstest,average=\"macro\"))\n",
    "print(classification_report(y_rsfstest, yhat))"
   ]
  },
  {
   "cell_type": "code",
   "execution_count": null,
   "metadata": {},
   "outputs": [],
   "source": []
  },
  {
   "cell_type": "markdown",
   "metadata": {
    "id": "BAvOutiesCIJ"
   },
   "source": [
    "## Adaboost"
   ]
  },
  {
   "cell_type": "markdown",
   "metadata": {},
   "source": [
    "### With all Features"
   ]
  },
  {
   "cell_type": "code",
   "execution_count": 73,
   "metadata": {
    "ExecuteTime": {
     "end_time": "2021-08-25T17:01:22.311548Z",
     "start_time": "2021-08-25T17:01:22.305127Z"
    },
    "id": "MfDSNMZ6r7D5"
   },
   "outputs": [],
   "source": [
    "from sklearn.ensemble import AdaBoostClassifier"
   ]
  },
  {
   "cell_type": "code",
   "execution_count": 74,
   "metadata": {
    "ExecuteTime": {
     "end_time": "2021-08-25T17:01:50.174510Z",
     "start_time": "2021-08-25T17:01:22.734843Z"
    },
    "colab": {
     "base_uri": "https://localhost:8080/"
    },
    "id": "tk07i6qGsFBW",
    "outputId": "40e3cad2-e781-408b-f1e5-543441e3d00a"
   },
   "outputs": [
    {
     "name": "stdout",
     "output_type": "stream",
     "text": [
      "0.9878787878787879\n",
      "              precision    recall  f1-score   support\n",
      "\n",
      "           0       0.84      1.00      0.91       135\n",
      "           1       1.00      0.13      0.24        30\n",
      "\n",
      "    accuracy                           0.84       165\n",
      "   macro avg       0.92      0.57      0.57       165\n",
      "weighted avg       0.87      0.84      0.79       165\n",
      "\n"
     ]
    }
   ],
   "source": [
    "clf = AdaBoostClassifier(n_estimators=100, random_state=0)\n",
    "clf.fit(X_train,y_train)\n",
    "a=clf.predict(X_test)\n",
    "print(clf.score(X_test, y_test))\n",
    "print(classification_report(y_test, yhat))\n"
   ]
  },
  {
   "cell_type": "markdown",
   "metadata": {},
   "source": [
    "### With RSFS Features"
   ]
  },
  {
   "cell_type": "code",
   "execution_count": 76,
   "metadata": {
    "ExecuteTime": {
     "end_time": "2021-08-25T17:04:43.283186Z",
     "start_time": "2021-08-25T17:04:42.584587Z"
    }
   },
   "outputs": [
    {
     "name": "stdout",
     "output_type": "stream",
     "text": [
      "0.9818181818181818\n",
      "              precision    recall  f1-score   support\n",
      "\n",
      "           0       0.84      1.00      0.91       135\n",
      "           1       1.00      0.13      0.24        30\n",
      "\n",
      "    accuracy                           0.84       165\n",
      "   macro avg       0.92      0.57      0.57       165\n",
      "weighted avg       0.87      0.84      0.79       165\n",
      "\n"
     ]
    }
   ],
   "source": [
    "clf = AdaBoostClassifier(n_estimators=100, random_state=0)\n",
    "clf.fit(X_rsfstrain,y_rsfstrain)\n",
    "a=clf.predict(X_rsfstest)\n",
    "print(clf.score(X_rsfstest, y_rsfstest))\n",
    "print(classification_report(y_rsfstest, yhat))\n"
   ]
  },
  {
   "cell_type": "markdown",
   "metadata": {
    "id": "0aU_gVaCsLUJ"
   },
   "source": [
    "## Decision Tree\n"
   ]
  },
  {
   "cell_type": "markdown",
   "metadata": {},
   "source": [
    "### with all Features"
   ]
  },
  {
   "cell_type": "code",
   "execution_count": null,
   "metadata": {},
   "outputs": [],
   "source": []
  },
  {
   "cell_type": "code",
   "execution_count": 82,
   "metadata": {
    "ExecuteTime": {
     "end_time": "2021-08-25T17:09:27.892167Z",
     "start_time": "2021-08-25T17:09:27.888357Z"
    },
    "id": "6z-qkO1lsHDd"
   },
   "outputs": [],
   "source": [
    "from sklearn.tree import DecisionTreeClassifier"
   ]
  },
  {
   "cell_type": "code",
   "execution_count": 83,
   "metadata": {
    "ExecuteTime": {
     "end_time": "2021-08-25T17:09:29.362560Z",
     "start_time": "2021-08-25T17:09:28.349774Z"
    },
    "colab": {
     "base_uri": "https://localhost:8080/"
    },
    "id": "ouUiQDXosOJ_",
    "outputId": "46258006-2a87-4c70-f6dd-c1ab89383469"
   },
   "outputs": [
    {
     "data": {
      "text/plain": [
       "DecisionTreeClassifier(criterion='entropy', max_depth=4)"
      ]
     },
     "execution_count": 83,
     "metadata": {},
     "output_type": "execute_result"
    }
   ],
   "source": [
    "grade = DecisionTreeClassifier(criterion=\"entropy\", max_depth = 4)\n",
    "grade.fit(X_train,y_train)"
   ]
  },
  {
   "cell_type": "code",
   "execution_count": 84,
   "metadata": {
    "ExecuteTime": {
     "end_time": "2021-08-25T17:09:29.757221Z",
     "start_time": "2021-08-25T17:09:29.734158Z"
    },
    "id": "WuNQg4QysQYf"
   },
   "outputs": [],
   "source": [
    "predTree = grade.predict(X_test)"
   ]
  },
  {
   "cell_type": "code",
   "execution_count": 85,
   "metadata": {
    "ExecuteTime": {
     "end_time": "2021-08-25T17:09:30.176218Z",
     "start_time": "2021-08-25T17:09:30.150894Z"
    },
    "colab": {
     "base_uri": "https://localhost:8080/"
    },
    "id": "ZuMZyRgesTjL",
    "outputId": "8b5a549b-a9b6-401c-e784-f8218f0524e4"
   },
   "outputs": [
    {
     "name": "stdout",
     "output_type": "stream",
     "text": [
      "DecisionTrees's Accuracy:  0.9575757575757575\n",
      "0.48376308123853706\n",
      "              precision    recall  f1-score   support\n",
      "\n",
      "           0       0.82      1.00      0.90       135\n",
      "           1       1.00      0.03      0.06        30\n",
      "\n",
      "    accuracy                           0.82       165\n",
      "   macro avg       0.91      0.52      0.48       165\n",
      "weighted avg       0.86      0.82      0.75       165\n",
      "\n"
     ]
    }
   ],
   "source": [
    "print(\"DecisionTrees's Accuracy: \", metrics.accuracy_score(y_test, predTree))\n",
    "print(f1_score(yhat,y_test,average=\"macro\"))\n",
    "print(classification_report(y_test, yhat))"
   ]
  },
  {
   "cell_type": "markdown",
   "metadata": {},
   "source": [
    "### With RSFS Features"
   ]
  },
  {
   "cell_type": "code",
   "execution_count": 86,
   "metadata": {
    "ExecuteTime": {
     "end_time": "2021-08-25T17:09:30.607483Z",
     "start_time": "2021-08-25T17:09:30.553416Z"
    }
   },
   "outputs": [],
   "source": [
    "grade = DecisionTreeClassifier(criterion=\"entropy\", max_depth = 4)\n",
    "grade.fit(X_rsfstrain,y_rsfstrain)\n",
    "predTree = grade.predict(X_rsfstest)"
   ]
  },
  {
   "cell_type": "code",
   "execution_count": 87,
   "metadata": {
    "ExecuteTime": {
     "end_time": "2021-08-25T17:09:31.844469Z",
     "start_time": "2021-08-25T17:09:31.819265Z"
    }
   },
   "outputs": [
    {
     "name": "stdout",
     "output_type": "stream",
     "text": [
      "DecisionTrees's Accuracy:  0.9212121212121213\n",
      "0.48376308123853706\n",
      "              precision    recall  f1-score   support\n",
      "\n",
      "           0       0.82      1.00      0.90       135\n",
      "           1       1.00      0.03      0.06        30\n",
      "\n",
      "    accuracy                           0.82       165\n",
      "   macro avg       0.91      0.52      0.48       165\n",
      "weighted avg       0.86      0.82      0.75       165\n",
      "\n"
     ]
    }
   ],
   "source": [
    "print(\"DecisionTrees's Accuracy: \", metrics.accuracy_score(y_test, predTree))\n",
    "print(f1_score(yhat,y_test,average=\"macro\"))\n",
    "print(classification_report(y_rsfstest, yhat))"
   ]
  },
  {
   "cell_type": "markdown",
   "metadata": {
    "id": "EU7jOt6qsXgR"
   },
   "source": [
    "## SVM"
   ]
  },
  {
   "cell_type": "markdown",
   "metadata": {},
   "source": [
    "### With all Features"
   ]
  },
  {
   "cell_type": "code",
   "execution_count": null,
   "metadata": {},
   "outputs": [],
   "source": []
  },
  {
   "cell_type": "code",
   "execution_count": 88,
   "metadata": {
    "ExecuteTime": {
     "end_time": "2021-08-25T17:13:12.801860Z",
     "start_time": "2021-08-25T17:13:12.796391Z"
    },
    "id": "GJ0LY-FMsVXH"
   },
   "outputs": [],
   "source": [
    "from sklearn import svm"
   ]
  },
  {
   "cell_type": "code",
   "execution_count": 89,
   "metadata": {
    "ExecuteTime": {
     "end_time": "2021-08-25T17:13:14.338249Z",
     "start_time": "2021-08-25T17:13:13.937528Z"
    },
    "colab": {
     "base_uri": "https://localhost:8080/"
    },
    "id": "6FlZDXorsaYC",
    "outputId": "2c15a7ed-3957-4b77-cdb1-c782ffbe9d46"
   },
   "outputs": [
    {
     "data": {
      "text/plain": [
       "SVC()"
      ]
     },
     "execution_count": 89,
     "metadata": {},
     "output_type": "execute_result"
    }
   ],
   "source": [
    "clf = svm.SVC(kernel='rbf')\n",
    "clf.fit(X_train, y_train)"
   ]
  },
  {
   "cell_type": "code",
   "execution_count": 90,
   "metadata": {
    "ExecuteTime": {
     "end_time": "2021-08-25T17:13:15.139944Z",
     "start_time": "2021-08-25T17:13:14.952576Z"
    },
    "id": "1slZKsNpsbyz"
   },
   "outputs": [],
   "source": [
    "yhat = clf.predict(X_test)"
   ]
  },
  {
   "cell_type": "code",
   "execution_count": 91,
   "metadata": {
    "ExecuteTime": {
     "end_time": "2021-08-25T17:13:16.142354Z",
     "start_time": "2021-08-25T17:13:15.905503Z"
    },
    "colab": {
     "base_uri": "https://localhost:8080/"
    },
    "id": "qS2hzsjMsd9r",
    "outputId": "6cad502d-51f8-4593-c3b9-196575474d14"
   },
   "outputs": [
    {
     "name": "stdout",
     "output_type": "stream",
     "text": [
      "0.9581643002028397\n",
      "0.9757575757575757\n",
      "              precision    recall  f1-score   support\n",
      "\n",
      "           0       0.98      0.99      0.99       135\n",
      "           1       0.96      0.90      0.93        30\n",
      "\n",
      "    accuracy                           0.98       165\n",
      "   macro avg       0.97      0.95      0.96       165\n",
      "weighted avg       0.98      0.98      0.98       165\n",
      "\n"
     ]
    }
   ],
   "source": [
    "from sklearn.metrics import f1_score\n",
    "f1_score(y_test, yhat, average='weighted') \n",
    "print(f1_score(yhat,y_test,average=\"macro\"))\n",
    "print(clf.score(X_test,y_test))\n",
    "print(classification_report(y_test, yhat))"
   ]
  },
  {
   "cell_type": "markdown",
   "metadata": {},
   "source": [
    "### With rsfs Features"
   ]
  },
  {
   "cell_type": "code",
   "execution_count": 93,
   "metadata": {
    "ExecuteTime": {
     "end_time": "2021-08-25T17:15:06.907220Z",
     "start_time": "2021-08-25T17:15:06.880067Z"
    }
   },
   "outputs": [
    {
     "data": {
      "text/plain": [
       "SVC()"
      ]
     },
     "execution_count": 93,
     "metadata": {},
     "output_type": "execute_result"
    }
   ],
   "source": [
    "clf = svm.SVC(kernel='rbf')\n",
    "clf.fit(X_rsfstrain, y_rsfstrain)"
   ]
  },
  {
   "cell_type": "code",
   "execution_count": 94,
   "metadata": {
    "ExecuteTime": {
     "end_time": "2021-08-25T17:15:07.413140Z",
     "start_time": "2021-08-25T17:15:07.384517Z"
    }
   },
   "outputs": [
    {
     "data": {
      "text/plain": [
       "SVC()"
      ]
     },
     "execution_count": 94,
     "metadata": {},
     "output_type": "execute_result"
    }
   ],
   "source": [
    "clf = svm.SVC(kernel='rbf')\n",
    "clf.fit(X_rsfstrain, y_rsfstrain)"
   ]
  },
  {
   "cell_type": "code",
   "execution_count": 95,
   "metadata": {
    "ExecuteTime": {
     "end_time": "2021-08-25T17:15:07.884665Z",
     "start_time": "2021-08-25T17:15:07.869229Z"
    }
   },
   "outputs": [],
   "source": [
    "yhat = clf.predict(X_rsfstest)"
   ]
  },
  {
   "cell_type": "code",
   "execution_count": 96,
   "metadata": {
    "ExecuteTime": {
     "end_time": "2021-08-25T17:15:08.940081Z",
     "start_time": "2021-08-25T17:15:08.891541Z"
    }
   },
   "outputs": [
    {
     "name": "stdout",
     "output_type": "stream",
     "text": [
      "0.9484020263931453\n",
      "0.9696969696969697\n",
      "              precision    recall  f1-score   support\n",
      "\n",
      "           0       0.98      0.99      0.98       135\n",
      "           1       0.93      0.90      0.92        30\n",
      "\n",
      "    accuracy                           0.97       165\n",
      "   macro avg       0.95      0.94      0.95       165\n",
      "weighted avg       0.97      0.97      0.97       165\n",
      "\n"
     ]
    }
   ],
   "source": [
    "from sklearn.metrics import f1_score\n",
    "f1_score(y_rsfstest, yhat, average='weighted') \n",
    "print(f1_score(yhat,y_rsfstest,average=\"macro\"))\n",
    "print(clf.score(X_rsfstest,y_rsfstest))\n",
    "print(classification_report(y_rsfstest, yhat))"
   ]
  },
  {
   "cell_type": "code",
   "execution_count": null,
   "metadata": {},
   "outputs": [],
   "source": []
  },
  {
   "cell_type": "markdown",
   "metadata": {
    "id": "PA0S23kwsha5"
   },
   "source": [
    "## Naive Bayes"
   ]
  },
  {
   "cell_type": "markdown",
   "metadata": {
    "ExecuteTime": {
     "end_time": "2021-08-25T17:18:13.727977Z",
     "start_time": "2021-08-25T17:18:13.723972Z"
    }
   },
   "source": [
    "### with all features"
   ]
  },
  {
   "cell_type": "code",
   "execution_count": null,
   "metadata": {},
   "outputs": [],
   "source": []
  },
  {
   "cell_type": "code",
   "execution_count": 98,
   "metadata": {
    "ExecuteTime": {
     "end_time": "2021-08-25T17:19:04.748878Z",
     "start_time": "2021-08-25T17:19:04.734217Z"
    },
    "id": "FCbU9l6xsfhw"
   },
   "outputs": [],
   "source": [
    "from sklearn.naive_bayes import GaussianNB"
   ]
  },
  {
   "cell_type": "code",
   "execution_count": 99,
   "metadata": {
    "ExecuteTime": {
     "end_time": "2021-08-25T17:19:05.368835Z",
     "start_time": "2021-08-25T17:19:05.318590Z"
    },
    "colab": {
     "base_uri": "https://localhost:8080/"
    },
    "id": "Lco3hBLjslFA",
    "outputId": "5ba18fb2-786d-45fd-816b-17c5e40de1ce"
   },
   "outputs": [
    {
     "data": {
      "text/plain": [
       "GaussianNB()"
      ]
     },
     "execution_count": 99,
     "metadata": {},
     "output_type": "execute_result"
    }
   ],
   "source": [
    "cl=GaussianNB()\n",
    "cl.fit(X_train,y_train)"
   ]
  },
  {
   "cell_type": "code",
   "execution_count": 100,
   "metadata": {
    "ExecuteTime": {
     "end_time": "2021-08-25T17:19:06.017653Z",
     "start_time": "2021-08-25T17:19:05.983647Z"
    },
    "id": "8Lmj9x2MsmiI"
   },
   "outputs": [],
   "source": [
    "a=cl.predict(X_test)"
   ]
  },
  {
   "cell_type": "code",
   "execution_count": 105,
   "metadata": {
    "ExecuteTime": {
     "end_time": "2021-08-25T17:20:51.136335Z",
     "start_time": "2021-08-25T17:20:51.106822Z"
    },
    "colab": {
     "base_uri": "https://localhost:8080/"
    },
    "id": "seQVIi3_sn5s",
    "outputId": "f7de9806-cbdd-4a94-8811-c4bd1c5ac699"
   },
   "outputs": [
    {
     "name": "stdout",
     "output_type": "stream",
     "text": [
      "DecisionTrees's Accuracy:  0.9696969696969697\n",
      "0.9509541644373105\n",
      "              precision    recall  f1-score   support\n",
      "\n",
      "           0       0.99      0.97      0.98       135\n",
      "           1       0.88      0.97      0.92        30\n",
      "\n",
      "    accuracy                           0.97       165\n",
      "   macro avg       0.94      0.97      0.95       165\n",
      "weighted avg       0.97      0.97      0.97       165\n",
      "\n"
     ]
    }
   ],
   "source": [
    "print(\"DecisionTrees's Accuracy: \", metrics.accuracy_score(y_test, a))\n",
    "print(f1_score(a,y_test,average=\"macro\"))\n",
    "print(classification_report(y_test, a))"
   ]
  },
  {
   "cell_type": "markdown",
   "metadata": {
    "ExecuteTime": {
     "end_time": "2021-08-25T17:19:24.522937Z",
     "start_time": "2021-08-25T17:19:24.512179Z"
    }
   },
   "source": [
    "### With rsfs Features"
   ]
  },
  {
   "cell_type": "code",
   "execution_count": 103,
   "metadata": {
    "ExecuteTime": {
     "end_time": "2021-08-25T17:20:35.123726Z",
     "start_time": "2021-08-25T17:20:35.103796Z"
    }
   },
   "outputs": [],
   "source": [
    "cl=GaussianNB()\n",
    "cl.fit(X_rsfstrain,y_rsfstrain)\n",
    "a=cl.predict(X_rsfstest)"
   ]
  },
  {
   "cell_type": "code",
   "execution_count": 104,
   "metadata": {
    "ExecuteTime": {
     "end_time": "2021-08-25T17:20:35.601256Z",
     "start_time": "2021-08-25T17:20:35.575126Z"
    }
   },
   "outputs": [
    {
     "name": "stdout",
     "output_type": "stream",
     "text": [
      "DecisionTrees's Accuracy:  0.9696969696969697\n",
      "0.9509541644373105\n",
      "              precision    recall  f1-score   support\n",
      "\n",
      "           0       0.99      0.97      0.98       135\n",
      "           1       0.88      0.97      0.92        30\n",
      "\n",
      "    accuracy                           0.97       165\n",
      "   macro avg       0.94      0.97      0.95       165\n",
      "weighted avg       0.97      0.97      0.97       165\n",
      "\n"
     ]
    }
   ],
   "source": [
    "print(\"DecisionTrees's Accuracy: \", metrics.accuracy_score(y_rsfstest, a))\n",
    "print(f1_score(a,y_rsfstest,average=\"macro\"))\n",
    "print(classification_report(y_rsfstest, a))"
   ]
  },
  {
   "cell_type": "code",
   "execution_count": null,
   "metadata": {},
   "outputs": [],
   "source": []
  },
  {
   "cell_type": "markdown",
   "metadata": {
    "id": "UvkzU8fJsuZh"
   },
   "source": [
    "## Logistic Regression"
   ]
  },
  {
   "cell_type": "markdown",
   "metadata": {
    "ExecuteTime": {
     "end_time": "2021-08-25T17:21:59.460712Z",
     "start_time": "2021-08-25T17:21:59.455316Z"
    }
   },
   "source": [
    "### with all Features"
   ]
  },
  {
   "cell_type": "code",
   "execution_count": null,
   "metadata": {},
   "outputs": [],
   "source": []
  },
  {
   "cell_type": "code",
   "execution_count": 107,
   "metadata": {
    "ExecuteTime": {
     "end_time": "2021-08-25T17:22:12.648091Z",
     "start_time": "2021-08-25T17:22:12.633639Z"
    },
    "id": "14IUpOmSspx8"
   },
   "outputs": [],
   "source": [
    "from sklearn.linear_model import LogisticRegression"
   ]
  },
  {
   "cell_type": "code",
   "execution_count": 108,
   "metadata": {
    "ExecuteTime": {
     "end_time": "2021-08-25T17:22:14.115007Z",
     "start_time": "2021-08-25T17:22:13.145064Z"
    },
    "colab": {
     "base_uri": "https://localhost:8080/"
    },
    "id": "w5XJ6y7VswgW",
    "outputId": "297071c7-484e-4383-c8ec-98b1e2e306c2"
   },
   "outputs": [
    {
     "name": "stderr",
     "output_type": "stream",
     "text": [
      "C:\\Users\\deepa\\anaconda3\\lib\\site-packages\\sklearn\\linear_model\\_logistic.py:764: ConvergenceWarning: lbfgs failed to converge (status=1):\n",
      "STOP: TOTAL NO. of ITERATIONS REACHED LIMIT.\n",
      "\n",
      "Increase the number of iterations (max_iter) or scale the data as shown in:\n",
      "    https://scikit-learn.org/stable/modules/preprocessing.html\n",
      "Please also refer to the documentation for alternative solver options:\n",
      "    https://scikit-learn.org/stable/modules/linear_model.html#logistic-regression\n",
      "  extra_warning_msg=_LOGISTIC_SOLVER_CONVERGENCE_MSG)\n"
     ]
    }
   ],
   "source": [
    "clf=LogisticRegression(random_state=11).fit(X_train,y_train)"
   ]
  },
  {
   "cell_type": "code",
   "execution_count": 109,
   "metadata": {
    "ExecuteTime": {
     "end_time": "2021-08-25T17:22:16.226593Z",
     "start_time": "2021-08-25T17:22:16.215113Z"
    },
    "id": "JPxo7SZ1sx6P"
   },
   "outputs": [],
   "source": [
    "a=clf.predict(X_test)"
   ]
  },
  {
   "cell_type": "code",
   "execution_count": 110,
   "metadata": {
    "ExecuteTime": {
     "end_time": "2021-08-25T17:22:17.258859Z",
     "start_time": "2021-08-25T17:22:17.232613Z"
    },
    "colab": {
     "base_uri": "https://localhost:8080/"
    },
    "id": "QSJqv-KIsz9a",
    "outputId": "f96d3cbb-d41d-4bc5-bce4-b19e21c05306"
   },
   "outputs": [
    {
     "name": "stdout",
     "output_type": "stream",
     "text": [
      "DecisionTrees's Accuracy:  0.6242424242424243\n",
      "0.9484020263931453\n",
      "              precision    recall  f1-score   support\n",
      "\n",
      "           0       0.98      0.99      0.98       135\n",
      "           1       0.93      0.90      0.92        30\n",
      "\n",
      "    accuracy                           0.97       165\n",
      "   macro avg       0.95      0.94      0.95       165\n",
      "weighted avg       0.97      0.97      0.97       165\n",
      "\n"
     ]
    }
   ],
   "source": [
    "print(\"DecisionTrees's Accuracy: \", metrics.accuracy_score(y_test, a))\n",
    "print(f1_score(yhat,y_test,average=\"macro\"))\n",
    "print(classification_report(y_test, yhat))"
   ]
  },
  {
   "cell_type": "markdown",
   "metadata": {},
   "source": [
    "### with rsfs features"
   ]
  },
  {
   "cell_type": "code",
   "execution_count": 111,
   "metadata": {
    "ExecuteTime": {
     "end_time": "2021-08-25T17:29:21.191072Z",
     "start_time": "2021-08-25T17:29:20.971481Z"
    }
   },
   "outputs": [
    {
     "name": "stderr",
     "output_type": "stream",
     "text": [
      "C:\\Users\\deepa\\anaconda3\\lib\\site-packages\\sklearn\\linear_model\\_logistic.py:764: ConvergenceWarning: lbfgs failed to converge (status=1):\n",
      "STOP: TOTAL NO. of ITERATIONS REACHED LIMIT.\n",
      "\n",
      "Increase the number of iterations (max_iter) or scale the data as shown in:\n",
      "    https://scikit-learn.org/stable/modules/preprocessing.html\n",
      "Please also refer to the documentation for alternative solver options:\n",
      "    https://scikit-learn.org/stable/modules/linear_model.html#logistic-regression\n",
      "  extra_warning_msg=_LOGISTIC_SOLVER_CONVERGENCE_MSG)\n"
     ]
    }
   ],
   "source": [
    "clf=LogisticRegression(random_state=11).fit(X_rsfstrain,y_rsfstrain)\n",
    "a=clf.predict(X_rsfstest)"
   ]
  },
  {
   "cell_type": "code",
   "execution_count": 112,
   "metadata": {
    "ExecuteTime": {
     "end_time": "2021-08-25T17:29:21.835351Z",
     "start_time": "2021-08-25T17:29:21.806359Z"
    }
   },
   "outputs": [
    {
     "name": "stdout",
     "output_type": "stream",
     "text": [
      "DecisionTrees's Accuracy:  0.6060606060606061\n",
      "0.5362964244022655\n",
      "              precision    recall  f1-score   support\n",
      "\n",
      "           0       0.87      0.61      0.72       135\n",
      "           1       0.25      0.60      0.36        30\n",
      "\n",
      "    accuracy                           0.61       165\n",
      "   macro avg       0.56      0.60      0.54       165\n",
      "weighted avg       0.76      0.61      0.65       165\n",
      "\n"
     ]
    }
   ],
   "source": [
    "print(\"DecisionTrees's Accuracy: \", metrics.accuracy_score(y_rsfstest, a))\n",
    "print(f1_score(a,y_rsfstest,average=\"macro\"))\n",
    "print(classification_report(y_rsfstest, a))"
   ]
  },
  {
   "cell_type": "markdown",
   "metadata": {
    "id": "7ZNPV5hDs6kE"
   },
   "source": [
    "## SGD Classifier"
   ]
  },
  {
   "cell_type": "markdown",
   "metadata": {},
   "source": [
    "### with all Features"
   ]
  },
  {
   "cell_type": "code",
   "execution_count": 113,
   "metadata": {
    "ExecuteTime": {
     "end_time": "2021-08-25T17:51:55.160904Z",
     "start_time": "2021-08-25T17:51:55.102904Z"
    },
    "id": "SNpE7fjDs3Ox"
   },
   "outputs": [],
   "source": [
    "from sklearn.linear_model import SGDClassifier"
   ]
  },
  {
   "cell_type": "code",
   "execution_count": 114,
   "metadata": {
    "ExecuteTime": {
     "end_time": "2021-08-25T17:51:55.942132Z",
     "start_time": "2021-08-25T17:51:55.637870Z"
    },
    "id": "BOw2YhFDs9gG"
   },
   "outputs": [],
   "source": [
    "sgd=SGDClassifier(loss='modified_huber',shuffle=False, random_state=11)\n",
    "sgd.fit(X_train,y_train)\n",
    "y_pred=sgd.predict(X_test)"
   ]
  },
  {
   "cell_type": "code",
   "execution_count": 115,
   "metadata": {
    "ExecuteTime": {
     "end_time": "2021-08-25T17:51:56.750064Z",
     "start_time": "2021-08-25T17:51:56.725077Z"
    },
    "colab": {
     "base_uri": "https://localhost:8080/"
    },
    "id": "-oW4oKJts-tJ",
    "outputId": "9a715093-b44f-406a-9e73-ac3b85c62f2f"
   },
   "outputs": [
    {
     "name": "stdout",
     "output_type": "stream",
     "text": [
      "DecisionTrees's Accuracy:  0.6\n",
      "0.9484020263931453\n",
      "              precision    recall  f1-score   support\n",
      "\n",
      "           0       0.98      0.99      0.98       135\n",
      "           1       0.93      0.90      0.92        30\n",
      "\n",
      "    accuracy                           0.97       165\n",
      "   macro avg       0.95      0.94      0.95       165\n",
      "weighted avg       0.97      0.97      0.97       165\n",
      "\n"
     ]
    }
   ],
   "source": [
    "print(\"DecisionTrees's Accuracy: \", metrics.accuracy_score(y_test,y_pred))\n",
    "print(f1_score(yhat,y_test,average=\"macro\"))\n",
    "print(classification_report(y_test, yhat))"
   ]
  },
  {
   "cell_type": "markdown",
   "metadata": {},
   "source": [
    "### wtih rsfs features"
   ]
  },
  {
   "cell_type": "code",
   "execution_count": 116,
   "metadata": {
    "ExecuteTime": {
     "end_time": "2021-08-25T17:53:11.736596Z",
     "start_time": "2021-08-25T17:53:11.693610Z"
    }
   },
   "outputs": [],
   "source": [
    "sgd=SGDClassifier(loss='modified_huber',shuffle=False, random_state=11)\n",
    "sgd.fit(X_rsfstrain,y_rsfstrain)\n",
    "y_rsfspred=sgd.predict(X_rsfstest)"
   ]
  },
  {
   "cell_type": "code",
   "execution_count": 117,
   "metadata": {
    "ExecuteTime": {
     "end_time": "2021-08-25T17:54:19.437394Z",
     "start_time": "2021-08-25T17:54:19.415983Z"
    }
   },
   "outputs": [
    {
     "name": "stdout",
     "output_type": "stream",
     "text": [
      "DecisionTrees's Accuracy:  0.5757575757575758\n",
      "0.5135613207547169\n",
      "              precision    recall  f1-score   support\n",
      "\n",
      "           0       0.87      0.57      0.69       135\n",
      "           1       0.24      0.60      0.34        30\n",
      "\n",
      "    accuracy                           0.58       165\n",
      "   macro avg       0.55      0.59      0.51       165\n",
      "weighted avg       0.75      0.58      0.62       165\n",
      "\n"
     ]
    }
   ],
   "source": [
    "print(\"DecisionTrees's Accuracy: \", metrics.accuracy_score(y_rsfstest,y_rsfspred))\n",
    "print(f1_score(y_rsfspred,y_rsfstest,average=\"macro\"))\n",
    "print(classification_report(y_rsfstest, y_rsfspred))"
   ]
  },
  {
   "cell_type": "markdown",
   "metadata": {
    "id": "Lm96tDjdtBFf"
   },
   "source": [
    "## XGBOOST"
   ]
  },
  {
   "cell_type": "markdown",
   "metadata": {},
   "source": [
    "### with all features"
   ]
  },
  {
   "cell_type": "code",
   "execution_count": 119,
   "metadata": {
    "ExecuteTime": {
     "end_time": "2021-08-25T17:59:41.838025Z",
     "start_time": "2021-08-25T17:59:38.964594Z"
    },
    "colab": {
     "base_uri": "https://localhost:8080/"
    },
    "id": "ELl8D_1ytAP6",
    "outputId": "8340f008-3316-4522-b31a-ab47e7f650b0"
   },
   "outputs": [
    {
     "name": "stdout",
     "output_type": "stream",
     "text": [
      "97.57575757575758\n",
      "0.9569864442127216\n",
      "              precision    recall  f1-score   support\n",
      "\n",
      "           0       0.97      1.00      0.99       135\n",
      "           1       1.00      0.87      0.93        30\n",
      "\n",
      "    accuracy                           0.98       165\n",
      "   macro avg       0.99      0.93      0.96       165\n",
      "weighted avg       0.98      0.98      0.98       165\n",
      "\n"
     ]
    }
   ],
   "source": [
    "from xgboost import XGBClassifier\n",
    "xgb = XGBClassifier(n_estimators=100)\n",
    "xgb.fit(X_train, y_train)\n",
    "preds = xgb.predict(X_test)\n",
    "acc_xgb = (preds == y_test).sum().astype(float) / len(preds)*100\n",
    "print(acc_xgb)\n",
    "print(f1_score(preds,y_test,average=\"macro\"))\n",
    "print(classification_report(y_test, preds))"
   ]
  },
  {
   "cell_type": "markdown",
   "metadata": {},
   "source": [
    "### with rsfs features"
   ]
  },
  {
   "cell_type": "code",
   "execution_count": 120,
   "metadata": {
    "ExecuteTime": {
     "end_time": "2021-08-25T18:00:30.378732Z",
     "start_time": "2021-08-25T18:00:30.248228Z"
    }
   },
   "outputs": [
    {
     "name": "stdout",
     "output_type": "stream",
     "text": [
      "98.7878787878788\n",
      "0.97908215010142\n",
      "              precision    recall  f1-score   support\n",
      "\n",
      "           0       0.99      1.00      0.99       135\n",
      "           1       1.00      0.93      0.97        30\n",
      "\n",
      "    accuracy                           0.99       165\n",
      "   macro avg       0.99      0.97      0.98       165\n",
      "weighted avg       0.99      0.99      0.99       165\n",
      "\n"
     ]
    }
   ],
   "source": [
    "from xgboost import XGBClassifier\n",
    "xgb = XGBClassifier(n_estimators=100)\n",
    "xgb.fit(X_rsfstrain, y_rsfstrain)\n",
    "preds = xgb.predict(X_rsfstest)\n",
    "acc_xgb = (preds == y_test).sum().astype(float) / len(preds)*100\n",
    "print(acc_xgb)\n",
    "print(f1_score(preds,y_rsfstest,average=\"macro\"))\n",
    "print(classification_report(y_rsfstest, preds))"
   ]
  },
  {
   "cell_type": "code",
   "execution_count": null,
   "metadata": {},
   "outputs": [],
   "source": []
  },
  {
   "cell_type": "markdown",
   "metadata": {
    "id": "lMow3wS0tHmZ"
   },
   "source": [
    "## ANN\n"
   ]
  },
  {
   "cell_type": "markdown",
   "metadata": {},
   "source": [
    "### with all features"
   ]
  },
  {
   "cell_type": "code",
   "execution_count": null,
   "metadata": {},
   "outputs": [],
   "source": []
  },
  {
   "cell_type": "code",
   "execution_count": 121,
   "metadata": {
    "ExecuteTime": {
     "end_time": "2021-08-25T18:04:44.479154Z",
     "start_time": "2021-08-25T18:04:11.436440Z"
    },
    "id": "RY3T1PkRtF0J"
   },
   "outputs": [],
   "source": [
    "import tensorflow as tf\n",
    "from tensorflow.keras.datasets import fashion_mnist"
   ]
  },
  {
   "cell_type": "code",
   "execution_count": 122,
   "metadata": {
    "ExecuteTime": {
     "end_time": "2021-08-25T18:04:52.090295Z",
     "start_time": "2021-08-25T18:04:44.852620Z"
    },
    "id": "3AMacYgKlWoW"
   },
   "outputs": [],
   "source": [
    "model = tf.keras.models.Sequential()\n",
    "model.add(tf.keras.layers.Dense(units = 6000, activation = 'sigmoid', input_shape = (X.shape[1],)))\n",
    "\n",
    "model.add(tf.keras.layers.Dense(units = 12000, activation = 'sigmoid'))\n",
    "\n",
    "model.add(tf.keras.layers.Dense(units = 6000, activation = 'sigmoid'))\n",
    "\n",
    "model.add(tf.keras.layers.Dense(units = 3000, activation = 'sigmoid'))\n",
    "\n",
    "model.add(tf.keras.layers.Dense(units = 1500, activation = 'sigmoid'))\n",
    "\n",
    "model.add(tf.keras.layers.Dense(units = 750, activation = 'sigmoid'))\n",
    "\n",
    "model.add(tf.keras.layers.Dense(units = 186, activation = 'sigmoid'))\n",
    "\n",
    "model.add(tf.keras.layers.Dense(units = 93, activation = 'sigmoid'))\n",
    "\n",
    "model.add(tf.keras.layers.Dense(units = 46, activation = 'sigmoid'))\n",
    "\n",
    "model.add(tf.keras.layers.Dense(units = 23, activation = 'sigmoid'))\n",
    "\n",
    "model.add(tf.keras.layers.Dense(units = 10, activation = 'sigmoid'))\n",
    "\n",
    "model.add(tf.keras.layers.Dense(units = 5, activation = 'sigmoid'))\n",
    "\n",
    "model.add(tf.keras.layers.Dense(units = 2, activation = 'sigmoid'))\n",
    "\n",
    "model.compile(optimizer = 'adam', loss = 'sparse_categorical_crossentropy', metrics = ['sparse_categorical_accuracy'])"
   ]
  },
  {
   "cell_type": "code",
   "execution_count": 123,
   "metadata": {
    "ExecuteTime": {
     "end_time": "2021-08-25T18:15:58.489859Z",
     "start_time": "2021-08-25T18:04:52.944963Z"
    },
    "colab": {
     "base_uri": "https://localhost:8080/",
     "height": 1000
    },
    "id": "Le99WI6nmbX2",
    "outputId": "8ad17be1-df0d-4316-a6de-557b5ec8c8a4"
   },
   "outputs": [
    {
     "name": "stdout",
     "output_type": "stream",
     "text": [
      "Epoch 1/100\n",
      "1/1 [==============================] - 0s 24ms/step - loss: 1.0341 - sparse_categorical_accuracy: 0.2090\n",
      "Epoch 2/100\n",
      "1/1 [==============================] - 0s 3ms/step - loss: 1.0252 - sparse_categorical_accuracy: 0.2090\n",
      "Epoch 3/100\n",
      "1/1 [==============================] - 0s 4ms/step - loss: 1.0165 - sparse_categorical_accuracy: 0.2090\n",
      "Epoch 4/100\n",
      "1/1 [==============================] - 0s 7ms/step - loss: 1.0081 - sparse_categorical_accuracy: 0.2090\n",
      "Epoch 5/100\n",
      "1/1 [==============================] - 0s 3ms/step - loss: 1.0000 - sparse_categorical_accuracy: 0.2090\n",
      "Epoch 6/100\n",
      "1/1 [==============================] - 0s 9ms/step - loss: 0.9923 - sparse_categorical_accuracy: 0.2090\n",
      "Epoch 7/100\n",
      "1/1 [==============================] - 0s 5ms/step - loss: 0.9848 - sparse_categorical_accuracy: 0.2090\n",
      "Epoch 8/100\n",
      "1/1 [==============================] - 0s 9ms/step - loss: 0.9776 - sparse_categorical_accuracy: 0.2090\n",
      "Epoch 9/100\n",
      "1/1 [==============================] - 0s 10ms/step - loss: 0.9705 - sparse_categorical_accuracy: 0.2090\n",
      "Epoch 10/100\n",
      "1/1 [==============================] - 0s 4ms/step - loss: 0.9636 - sparse_categorical_accuracy: 0.2090\n",
      "Epoch 11/100\n",
      "1/1 [==============================] - 0s 6ms/step - loss: 0.9569 - sparse_categorical_accuracy: 0.2090\n",
      "Epoch 12/100\n",
      "1/1 [==============================] - 0s 5ms/step - loss: 0.9504 - sparse_categorical_accuracy: 0.2090\n",
      "Epoch 13/100\n",
      "1/1 [==============================] - 0s 5ms/step - loss: 0.9440 - sparse_categorical_accuracy: 0.2090\n",
      "Epoch 14/100\n",
      "1/1 [==============================] - 0s 7ms/step - loss: 0.9377 - sparse_categorical_accuracy: 0.2090\n",
      "Epoch 15/100\n",
      "1/1 [==============================] - 0s 8ms/step - loss: 0.9316 - sparse_categorical_accuracy: 0.2090\n",
      "Epoch 16/100\n",
      "1/1 [==============================] - 0s 7ms/step - loss: 0.9256 - sparse_categorical_accuracy: 0.2090\n",
      "Epoch 17/100\n",
      "1/1 [==============================] - 0s 5ms/step - loss: 0.9198 - sparse_categorical_accuracy: 0.2090\n",
      "Epoch 18/100\n",
      "1/1 [==============================] - 0s 8ms/step - loss: 0.9140 - sparse_categorical_accuracy: 0.2090\n",
      "Epoch 19/100\n",
      "1/1 [==============================] - 0s 5ms/step - loss: 0.9084 - sparse_categorical_accuracy: 0.2090\n",
      "Epoch 20/100\n",
      "1/1 [==============================] - 0s 7ms/step - loss: 0.9030 - sparse_categorical_accuracy: 0.2090\n",
      "Epoch 21/100\n",
      "1/1 [==============================] - 0s 4ms/step - loss: 0.8976 - sparse_categorical_accuracy: 0.2090\n",
      "Epoch 22/100\n",
      "1/1 [==============================] - 0s 8ms/step - loss: 0.8923 - sparse_categorical_accuracy: 0.2090\n",
      "Epoch 23/100\n",
      "1/1 [==============================] - 0s 6ms/step - loss: 0.8872 - sparse_categorical_accuracy: 0.2090\n",
      "Epoch 24/100\n",
      "1/1 [==============================] - 0s 5ms/step - loss: 0.8822 - sparse_categorical_accuracy: 0.2090\n",
      "Epoch 25/100\n",
      "1/1 [==============================] - 0s 9ms/step - loss: 0.8772 - sparse_categorical_accuracy: 0.2090\n",
      "Epoch 26/100\n",
      "1/1 [==============================] - 0s 7ms/step - loss: 0.8724 - sparse_categorical_accuracy: 0.2090\n",
      "Epoch 27/100\n",
      "1/1 [==============================] - 0s 8ms/step - loss: 0.8677 - sparse_categorical_accuracy: 0.2090\n",
      "Epoch 28/100\n",
      "1/1 [==============================] - 0s 9ms/step - loss: 0.8631 - sparse_categorical_accuracy: 0.2090\n",
      "Epoch 29/100\n",
      "1/1 [==============================] - 0s 7ms/step - loss: 0.8586 - sparse_categorical_accuracy: 0.2090\n",
      "Epoch 30/100\n",
      "1/1 [==============================] - 0s 8ms/step - loss: 0.8541 - sparse_categorical_accuracy: 0.2090\n",
      "Epoch 31/100\n",
      "1/1 [==============================] - 0s 8ms/step - loss: 0.8498 - sparse_categorical_accuracy: 0.2090\n",
      "Epoch 32/100\n",
      "1/1 [==============================] - 0s 4ms/step - loss: 0.8456 - sparse_categorical_accuracy: 0.2090\n",
      "Epoch 33/100\n",
      "1/1 [==============================] - 0s 6ms/step - loss: 0.8414 - sparse_categorical_accuracy: 0.2090\n",
      "Epoch 34/100\n",
      "1/1 [==============================] - 0s 4ms/step - loss: 0.8373 - sparse_categorical_accuracy: 0.2090\n",
      "Epoch 35/100\n",
      "1/1 [==============================] - 0s 7ms/step - loss: 0.8334 - sparse_categorical_accuracy: 0.2090\n",
      "Epoch 36/100\n",
      "1/1 [==============================] - 0s 6ms/step - loss: 0.8295 - sparse_categorical_accuracy: 0.2090\n",
      "Epoch 37/100\n",
      "1/1 [==============================] - 0s 7ms/step - loss: 0.8256 - sparse_categorical_accuracy: 0.2090\n",
      "Epoch 38/100\n",
      "1/1 [==============================] - 0s 8ms/step - loss: 0.8219 - sparse_categorical_accuracy: 0.2090\n",
      "Epoch 39/100\n",
      "1/1 [==============================] - 0s 7ms/step - loss: 0.8182 - sparse_categorical_accuracy: 0.2090\n",
      "Epoch 40/100\n",
      "1/1 [==============================] - 0s 9ms/step - loss: 0.8146 - sparse_categorical_accuracy: 0.2090\n",
      "Epoch 41/100\n",
      "1/1 [==============================] - 0s 8ms/step - loss: 0.8111 - sparse_categorical_accuracy: 0.2090\n",
      "Epoch 42/100\n",
      "1/1 [==============================] - 0s 7ms/step - loss: 0.8076 - sparse_categorical_accuracy: 0.2090\n",
      "Epoch 43/100\n",
      "1/1 [==============================] - 0s 5ms/step - loss: 0.8042 - sparse_categorical_accuracy: 0.2090\n",
      "Epoch 44/100\n",
      "1/1 [==============================] - 0s 7ms/step - loss: 0.8008 - sparse_categorical_accuracy: 0.2090\n",
      "Epoch 45/100\n",
      "1/1 [==============================] - 0s 8ms/step - loss: 0.7975 - sparse_categorical_accuracy: 0.2090\n",
      "Epoch 46/100\n",
      "1/1 [==============================] - 0s 8ms/step - loss: 0.7943 - sparse_categorical_accuracy: 0.2090\n",
      "Epoch 47/100\n",
      "1/1 [==============================] - 0s 7ms/step - loss: 0.7911 - sparse_categorical_accuracy: 0.2090\n",
      "Epoch 48/100\n",
      "1/1 [==============================] - 0s 6ms/step - loss: 0.7880 - sparse_categorical_accuracy: 0.2090\n",
      "Epoch 49/100\n",
      "1/1 [==============================] - 0s 6ms/step - loss: 0.7849 - sparse_categorical_accuracy: 0.2090\n",
      "Epoch 50/100\n",
      "1/1 [==============================] - 0s 7ms/step - loss: 0.7819 - sparse_categorical_accuracy: 0.2090\n",
      "Epoch 51/100\n",
      "1/1 [==============================] - 0s 5ms/step - loss: 0.7790 - sparse_categorical_accuracy: 0.2090\n",
      "Epoch 52/100\n",
      "1/1 [==============================] - 0s 8ms/step - loss: 0.7760 - sparse_categorical_accuracy: 0.2090\n",
      "Epoch 53/100\n",
      "1/1 [==============================] - 0s 8ms/step - loss: 0.7731 - sparse_categorical_accuracy: 0.2090\n",
      "Epoch 54/100\n",
      "1/1 [==============================] - 0s 5ms/step - loss: 0.7703 - sparse_categorical_accuracy: 0.2090\n",
      "Epoch 55/100\n",
      "1/1 [==============================] - 0s 5ms/step - loss: 0.7675 - sparse_categorical_accuracy: 0.2090\n",
      "Epoch 56/100\n",
      "1/1 [==============================] - 0s 4ms/step - loss: 0.7647 - sparse_categorical_accuracy: 0.2090\n",
      "Epoch 57/100\n",
      "1/1 [==============================] - 0s 4ms/step - loss: 0.7620 - sparse_categorical_accuracy: 0.2090\n",
      "Epoch 58/100\n",
      "1/1 [==============================] - 0s 6ms/step - loss: 0.7593 - sparse_categorical_accuracy: 0.2090\n",
      "Epoch 59/100\n",
      "1/1 [==============================] - 0s 8ms/step - loss: 0.7566 - sparse_categorical_accuracy: 0.2090\n",
      "Epoch 60/100\n",
      "1/1 [==============================] - 0s 6ms/step - loss: 0.7540 - sparse_categorical_accuracy: 0.2090\n",
      "Epoch 61/100\n",
      "1/1 [==============================] - 0s 10ms/step - loss: 0.7514 - sparse_categorical_accuracy: 0.2090\n",
      "Epoch 62/100\n",
      "1/1 [==============================] - 0s 6ms/step - loss: 0.7489 - sparse_categorical_accuracy: 0.2090\n",
      "Epoch 63/100\n",
      "1/1 [==============================] - 0s 8ms/step - loss: 0.7463 - sparse_categorical_accuracy: 0.2090\n",
      "Epoch 64/100\n",
      "1/1 [==============================] - 0s 4ms/step - loss: 0.7438 - sparse_categorical_accuracy: 0.2090\n",
      "Epoch 65/100\n",
      "1/1 [==============================] - 0s 9ms/step - loss: 0.7414 - sparse_categorical_accuracy: 0.2090\n",
      "Epoch 66/100\n",
      "1/1 [==============================] - 0s 9ms/step - loss: 0.7389 - sparse_categorical_accuracy: 0.2090\n",
      "Epoch 67/100\n",
      "1/1 [==============================] - 0s 11ms/step - loss: 0.7365 - sparse_categorical_accuracy: 0.2090\n",
      "Epoch 68/100\n",
      "1/1 [==============================] - 0s 5ms/step - loss: 0.7341 - sparse_categorical_accuracy: 0.2090\n",
      "Epoch 69/100\n",
      "1/1 [==============================] - 0s 8ms/step - loss: 0.7317 - sparse_categorical_accuracy: 0.2090\n",
      "Epoch 70/100\n",
      "1/1 [==============================] - 0s 9ms/step - loss: 0.7294 - sparse_categorical_accuracy: 0.2090\n",
      "Epoch 71/100\n"
     ]
    },
    {
     "name": "stdout",
     "output_type": "stream",
     "text": [
      "1/1 [==============================] - 0s 6ms/step - loss: 0.7271 - sparse_categorical_accuracy: 0.2090\n",
      "Epoch 72/100\n",
      "1/1 [==============================] - 0s 3ms/step - loss: 0.7248 - sparse_categorical_accuracy: 0.2090\n",
      "Epoch 73/100\n",
      "1/1 [==============================] - 0s 5ms/step - loss: 0.7225 - sparse_categorical_accuracy: 0.2090\n",
      "Epoch 74/100\n",
      "1/1 [==============================] - 0s 7ms/step - loss: 0.7203 - sparse_categorical_accuracy: 0.2090\n",
      "Epoch 75/100\n",
      "1/1 [==============================] - 0s 7ms/step - loss: 0.7180 - sparse_categorical_accuracy: 0.2090\n",
      "Epoch 76/100\n",
      "1/1 [==============================] - 0s 9ms/step - loss: 0.7158 - sparse_categorical_accuracy: 0.2090\n",
      "Epoch 77/100\n",
      "1/1 [==============================] - 0s 8ms/step - loss: 0.7137 - sparse_categorical_accuracy: 0.2090\n",
      "Epoch 78/100\n",
      "1/1 [==============================] - 0s 5ms/step - loss: 0.7115 - sparse_categorical_accuracy: 0.2090\n",
      "Epoch 79/100\n",
      "1/1 [==============================] - 0s 4ms/step - loss: 0.7094 - sparse_categorical_accuracy: 0.2090\n",
      "Epoch 80/100\n",
      "1/1 [==============================] - 0s 8ms/step - loss: 0.7072 - sparse_categorical_accuracy: 0.2090\n",
      "Epoch 81/100\n",
      "1/1 [==============================] - 0s 13ms/step - loss: 0.7052 - sparse_categorical_accuracy: 0.2090\n",
      "Epoch 82/100\n",
      "1/1 [==============================] - 0s 9ms/step - loss: 0.7031 - sparse_categorical_accuracy: 0.2090\n",
      "Epoch 83/100\n",
      "1/1 [==============================] - 0s 8ms/step - loss: 0.7010 - sparse_categorical_accuracy: 0.2090\n",
      "Epoch 84/100\n",
      "1/1 [==============================] - 0s 5ms/step - loss: 0.6990 - sparse_categorical_accuracy: 0.2090\n",
      "Epoch 85/100\n",
      "1/1 [==============================] - 0s 5ms/step - loss: 0.6970 - sparse_categorical_accuracy: 0.2090\n",
      "Epoch 86/100\n",
      "1/1 [==============================] - 0s 8ms/step - loss: 0.6950 - sparse_categorical_accuracy: 0.2090\n",
      "Epoch 87/100\n",
      "1/1 [==============================] - 0s 9ms/step - loss: 0.6930 - sparse_categorical_accuracy: 0.7910\n",
      "Epoch 88/100\n",
      "1/1 [==============================] - 0s 8ms/step - loss: 0.6910 - sparse_categorical_accuracy: 0.7910\n",
      "Epoch 89/100\n",
      "1/1 [==============================] - 0s 6ms/step - loss: 0.6891 - sparse_categorical_accuracy: 0.7910\n",
      "Epoch 90/100\n",
      "1/1 [==============================] - 0s 6ms/step - loss: 0.6872 - sparse_categorical_accuracy: 0.7910\n",
      "Epoch 91/100\n",
      "1/1 [==============================] - 0s 10ms/step - loss: 0.6853 - sparse_categorical_accuracy: 0.7910\n",
      "Epoch 92/100\n",
      "1/1 [==============================] - 0s 9ms/step - loss: 0.6834 - sparse_categorical_accuracy: 0.7910\n",
      "Epoch 93/100\n",
      "1/1 [==============================] - 0s 8ms/step - loss: 0.6815 - sparse_categorical_accuracy: 0.7910\n",
      "Epoch 94/100\n",
      "1/1 [==============================] - 0s 10ms/step - loss: 0.6797 - sparse_categorical_accuracy: 0.7910\n",
      "Epoch 95/100\n",
      "1/1 [==============================] - 0s 9ms/step - loss: 0.6778 - sparse_categorical_accuracy: 0.7910\n",
      "Epoch 96/100\n",
      "1/1 [==============================] - 0s 3ms/step - loss: 0.6760 - sparse_categorical_accuracy: 0.7910\n",
      "Epoch 97/100\n",
      "1/1 [==============================] - 0s 4ms/step - loss: 0.6742 - sparse_categorical_accuracy: 0.7910\n",
      "Epoch 98/100\n",
      "1/1 [==============================] - 0s 3ms/step - loss: 0.6724 - sparse_categorical_accuracy: 0.7910\n",
      "Epoch 99/100\n",
      "1/1 [==============================] - 0s 2ms/step - loss: 0.6707 - sparse_categorical_accuracy: 0.7910\n",
      "Epoch 100/100\n",
      "1/1 [==============================] - 0s 3ms/step - loss: 0.6689 - sparse_categorical_accuracy: 0.7910\n"
     ]
    },
    {
     "data": {
      "text/plain": [
       "<tensorflow.python.keras.callbacks.History at 0x1c29b113608>"
      ]
     },
     "execution_count": 123,
     "metadata": {},
     "output_type": "execute_result"
    }
   ],
   "source": [
    "model.fit(X_train, y_train, epochs = 100, batch_size = 500)"
   ]
  },
  {
   "cell_type": "code",
   "execution_count": 124,
   "metadata": {
    "ExecuteTime": {
     "end_time": "2021-08-25T18:16:00.249865Z",
     "start_time": "2021-08-25T18:15:58.948866Z"
    },
    "id": "0RVvB8tbmguV"
   },
   "outputs": [
    {
     "name": "stdout",
     "output_type": "stream",
     "text": [
      "6/6 [==============================] - 1s 107ms/step - loss: 0.6647 - sparse_categorical_accuracy: 0.8182\n"
     ]
    }
   ],
   "source": [
    "test_loss, test_accuracy = model.evaluate(X_test, y_test)"
   ]
  },
  {
   "cell_type": "code",
   "execution_count": 125,
   "metadata": {
    "ExecuteTime": {
     "end_time": "2021-08-25T18:16:00.676860Z",
     "start_time": "2021-08-25T18:16:00.647862Z"
    },
    "id": "buHG_gofwLG4"
   },
   "outputs": [
    {
     "name": "stdout",
     "output_type": "stream",
     "text": [
      "              precision    recall  f1-score   support\n",
      "\n",
      "           0       0.98      0.99      0.98       135\n",
      "           1       0.93      0.90      0.92        30\n",
      "\n",
      "    accuracy                           0.97       165\n",
      "   macro avg       0.95      0.94      0.95       165\n",
      "weighted avg       0.97      0.97      0.97       165\n",
      "\n"
     ]
    }
   ],
   "source": [
    "print(classification_report(y_test, yhat))"
   ]
  },
  {
   "cell_type": "markdown",
   "metadata": {},
   "source": [
    "### with rsfs features"
   ]
  },
  {
   "cell_type": "code",
   "execution_count": 137,
   "metadata": {
    "ExecuteTime": {
     "end_time": "2021-08-25T18:21:05.179882Z",
     "start_time": "2021-08-25T18:20:42.488218Z"
    }
   },
   "outputs": [],
   "source": [
    "model = tf.keras.models.Sequential()\n",
    "model.add(tf.keras.layers.Dense(units = 6000, activation = 'sigmoid', input_shape = (Xrsfs.shape[1],)))\n",
    "\n",
    "model.add(tf.keras.layers.Dense(units = 12000, activation = 'sigmoid'))\n",
    "\n",
    "model.add(tf.keras.layers.Dense(units = 6000, activation = 'sigmoid'))\n",
    "\n",
    "model.add(tf.keras.layers.Dense(units = 3000, activation = 'sigmoid'))\n",
    "\n",
    "model.add(tf.keras.layers.Dense(units = 1500, activation = 'sigmoid'))\n",
    "\n",
    "model.add(tf.keras.layers.Dense(units = 750, activation = 'sigmoid'))\n",
    "\n",
    "model.add(tf.keras.layers.Dense(units = 186, activation = 'sigmoid'))\n",
    "\n",
    "model.add(tf.keras.layers.Dense(units = 93, activation = 'sigmoid'))\n",
    "\n",
    "model.add(tf.keras.layers.Dense(units = 46, activation = 'sigmoid'))\n",
    "\n",
    "model.add(tf.keras.layers.Dense(units = 23, activation = 'sigmoid'))\n",
    "\n",
    "model.add(tf.keras.layers.Dense(units = 10, activation = 'sigmoid'))\n",
    "\n",
    "model.add(tf.keras.layers.Dense(units = 5, activation = 'sigmoid'))\n",
    "\n",
    "model.add(tf.keras.layers.Dense(units = 2, activation = 'sigmoid'))\n",
    "\n",
    "model.compile(optimizer = 'adam', loss = 'sparse_categorical_crossentropy', metrics = ['sparse_categorical_accuracy'])"
   ]
  },
  {
   "cell_type": "code",
   "execution_count": 140,
   "metadata": {
    "ExecuteTime": {
     "end_time": "2021-08-25T18:28:12.964235Z",
     "start_time": "2021-08-25T18:21:52.604894Z"
    }
   },
   "outputs": [
    {
     "name": "stdout",
     "output_type": "stream",
     "text": [
      "Epoch 1/100\n",
      "1/1 [==============================] - 0s 64ms/step - loss: 0.8439 - sparse_categorical_accuracy: 0.2090\n",
      "Epoch 2/100\n",
      "1/1 [==============================] - 0s 4ms/step - loss: 0.8393 - sparse_categorical_accuracy: 0.2090\n",
      "Epoch 3/100\n",
      "1/1 [==============================] - 0s 0s/step - loss: 0.8347 - sparse_categorical_accuracy: 0.2090\n",
      "Epoch 4/100\n",
      "1/1 [==============================] - 0s 7ms/step - loss: 0.8302 - sparse_categorical_accuracy: 0.2090\n",
      "Epoch 5/100\n",
      "1/1 [==============================] - 0s 5ms/step - loss: 0.8258 - sparse_categorical_accuracy: 0.2090\n",
      "Epoch 6/100\n",
      "1/1 [==============================] - 0s 4ms/step - loss: 0.8215 - sparse_categorical_accuracy: 0.2090\n",
      "Epoch 7/100\n",
      "1/1 [==============================] - 0s 3ms/step - loss: 0.8173 - sparse_categorical_accuracy: 0.2090\n",
      "Epoch 8/100\n",
      "1/1 [==============================] - 0s 2ms/step - loss: 0.8133 - sparse_categorical_accuracy: 0.2090\n",
      "Epoch 9/100\n",
      "1/1 [==============================] - 0s 4ms/step - loss: 0.8094 - sparse_categorical_accuracy: 0.2090\n",
      "Epoch 10/100\n",
      "1/1 [==============================] - 0s 5ms/step - loss: 0.8056 - sparse_categorical_accuracy: 0.2090\n",
      "Epoch 11/100\n",
      "1/1 [==============================] - 0s 8ms/step - loss: 0.8018 - sparse_categorical_accuracy: 0.2090\n",
      "Epoch 12/100\n",
      "1/1 [==============================] - 0s 8ms/step - loss: 0.7982 - sparse_categorical_accuracy: 0.2090\n",
      "Epoch 13/100\n",
      "1/1 [==============================] - 0s 5ms/step - loss: 0.7946 - sparse_categorical_accuracy: 0.2090\n",
      "Epoch 14/100\n",
      "1/1 [==============================] - 0s 10ms/step - loss: 0.7911 - sparse_categorical_accuracy: 0.2090\n",
      "Epoch 15/100\n",
      "1/1 [==============================] - 0s 0s/step - loss: 0.7877 - sparse_categorical_accuracy: 0.2090\n",
      "Epoch 16/100\n",
      "1/1 [==============================] - 0s 5ms/step - loss: 0.7844 - sparse_categorical_accuracy: 0.2090\n",
      "Epoch 17/100\n",
      "1/1 [==============================] - 0s 5ms/step - loss: 0.7811 - sparse_categorical_accuracy: 0.2090\n",
      "Epoch 18/100\n",
      "1/1 [==============================] - 0s 2ms/step - loss: 0.7779 - sparse_categorical_accuracy: 0.2090\n",
      "Epoch 19/100\n",
      "1/1 [==============================] - 0s 4ms/step - loss: 0.7748 - sparse_categorical_accuracy: 0.2090\n",
      "Epoch 20/100\n",
      "1/1 [==============================] - 0s 5ms/step - loss: 0.7717 - sparse_categorical_accuracy: 0.2090\n",
      "Epoch 21/100\n",
      "1/1 [==============================] - 0s 6ms/step - loss: 0.7687 - sparse_categorical_accuracy: 0.2090\n",
      "Epoch 22/100\n",
      "1/1 [==============================] - 0s 8ms/step - loss: 0.7658 - sparse_categorical_accuracy: 0.2090\n",
      "Epoch 23/100\n",
      "1/1 [==============================] - 0s 5ms/step - loss: 0.7629 - sparse_categorical_accuracy: 0.2090\n",
      "Epoch 24/100\n",
      "1/1 [==============================] - 0s 2ms/step - loss: 0.7600 - sparse_categorical_accuracy: 0.2090\n",
      "Epoch 25/100\n",
      "1/1 [==============================] - 0s 0s/step - loss: 0.7573 - sparse_categorical_accuracy: 0.2090\n",
      "Epoch 26/100\n",
      "1/1 [==============================] - 0s 4ms/step - loss: 0.7545 - sparse_categorical_accuracy: 0.2090\n",
      "Epoch 27/100\n",
      "1/1 [==============================] - 0s 5ms/step - loss: 0.7518 - sparse_categorical_accuracy: 0.2090\n",
      "Epoch 28/100\n",
      "1/1 [==============================] - 0s 2ms/step - loss: 0.7492 - sparse_categorical_accuracy: 0.2090\n",
      "Epoch 29/100\n",
      "1/1 [==============================] - 0s 5ms/step - loss: 0.7466 - sparse_categorical_accuracy: 0.2090\n",
      "Epoch 30/100\n",
      "1/1 [==============================] - 0s 0s/step - loss: 0.7441 - sparse_categorical_accuracy: 0.2090\n",
      "Epoch 31/100\n",
      "1/1 [==============================] - 0s 5ms/step - loss: 0.7416 - sparse_categorical_accuracy: 0.2090\n",
      "Epoch 32/100\n",
      "1/1 [==============================] - 0s 7ms/step - loss: 0.7391 - sparse_categorical_accuracy: 0.2090\n",
      "Epoch 33/100\n",
      "1/1 [==============================] - 0s 8ms/step - loss: 0.7367 - sparse_categorical_accuracy: 0.2090\n",
      "Epoch 34/100\n",
      "1/1 [==============================] - 0s 5ms/step - loss: 0.7344 - sparse_categorical_accuracy: 0.2090\n",
      "Epoch 35/100\n",
      "1/1 [==============================] - 0s 0s/step - loss: 0.7320 - sparse_categorical_accuracy: 0.2090\n",
      "Epoch 36/100\n",
      "1/1 [==============================] - 0s 3ms/step - loss: 0.7297 - sparse_categorical_accuracy: 0.2090\n",
      "Epoch 37/100\n",
      "1/1 [==============================] - 0s 7ms/step - loss: 0.7275 - sparse_categorical_accuracy: 0.2090\n",
      "Epoch 38/100\n",
      "1/1 [==============================] - 0s 3ms/step - loss: 0.7252 - sparse_categorical_accuracy: 0.2090\n",
      "Epoch 39/100\n",
      "1/1 [==============================] - 0s 4ms/step - loss: 0.7230 - sparse_categorical_accuracy: 0.2090\n",
      "Epoch 40/100\n",
      "1/1 [==============================] - 0s 5ms/step - loss: 0.7209 - sparse_categorical_accuracy: 0.2090\n",
      "Epoch 41/100\n",
      "1/1 [==============================] - 0s 0s/step - loss: 0.7187 - sparse_categorical_accuracy: 0.2090\n",
      "Epoch 42/100\n",
      "1/1 [==============================] - 0s 4ms/step - loss: 0.7166 - sparse_categorical_accuracy: 0.2090\n",
      "Epoch 43/100\n",
      "1/1 [==============================] - 0s 4ms/step - loss: 0.7146 - sparse_categorical_accuracy: 0.2090\n",
      "Epoch 44/100\n",
      "1/1 [==============================] - 0s 3ms/step - loss: 0.7125 - sparse_categorical_accuracy: 0.2090\n",
      "Epoch 45/100\n",
      "1/1 [==============================] - 0s 2ms/step - loss: 0.7105 - sparse_categorical_accuracy: 0.2090\n",
      "Epoch 46/100\n",
      "1/1 [==============================] - 0s 6ms/step - loss: 0.7085 - sparse_categorical_accuracy: 0.2090\n",
      "Epoch 47/100\n",
      "1/1 [==============================] - 0s 6ms/step - loss: 0.7065 - sparse_categorical_accuracy: 0.2090\n",
      "Epoch 48/100\n",
      "1/1 [==============================] - 0s 5ms/step - loss: 0.7046 - sparse_categorical_accuracy: 0.2090\n",
      "Epoch 49/100\n",
      "1/1 [==============================] - 0s 0s/step - loss: 0.7027 - sparse_categorical_accuracy: 0.2090\n",
      "Epoch 50/100\n",
      "1/1 [==============================] - 0s 0s/step - loss: 0.7008 - sparse_categorical_accuracy: 0.2090\n",
      "Epoch 51/100\n",
      "1/1 [==============================] - 0s 55us/step - loss: 0.6989 - sparse_categorical_accuracy: 0.2090\n",
      "Epoch 52/100\n",
      "1/1 [==============================] - 0s 3ms/step - loss: 0.6971 - sparse_categorical_accuracy: 0.2090\n",
      "Epoch 53/100\n",
      "1/1 [==============================] - 0s 5ms/step - loss: 0.6952 - sparse_categorical_accuracy: 0.2090\n",
      "Epoch 54/100\n",
      "1/1 [==============================] - 0s 7ms/step - loss: 0.6934 - sparse_categorical_accuracy: 0.2090\n",
      "Epoch 55/100\n",
      "1/1 [==============================] - 0s 3ms/step - loss: 0.6917 - sparse_categorical_accuracy: 0.7910\n",
      "Epoch 56/100\n",
      "1/1 [==============================] - 0s 2ms/step - loss: 0.6899 - sparse_categorical_accuracy: 0.7910\n",
      "Epoch 57/100\n",
      "1/1 [==============================] - 0s 0s/step - loss: 0.6881 - sparse_categorical_accuracy: 0.7910\n",
      "Epoch 58/100\n",
      "1/1 [==============================] - 0s 2ms/step - loss: 0.6864 - sparse_categorical_accuracy: 0.7910\n",
      "Epoch 59/100\n",
      "1/1 [==============================] - 0s 0s/step - loss: 0.6847 - sparse_categorical_accuracy: 0.7910\n",
      "Epoch 60/100\n",
      "1/1 [==============================] - 0s 3ms/step - loss: 0.6830 - sparse_categorical_accuracy: 0.7910\n",
      "Epoch 61/100\n",
      "1/1 [==============================] - 0s 2ms/step - loss: 0.6813 - sparse_categorical_accuracy: 0.7910\n",
      "Epoch 62/100\n",
      "1/1 [==============================] - 0s 2ms/step - loss: 0.6797 - sparse_categorical_accuracy: 0.7910\n",
      "Epoch 63/100\n",
      "1/1 [==============================] - 0s 3ms/step - loss: 0.6780 - sparse_categorical_accuracy: 0.7910\n",
      "Epoch 64/100\n",
      "1/1 [==============================] - 0s 2ms/step - loss: 0.6764 - sparse_categorical_accuracy: 0.7910\n",
      "Epoch 65/100\n",
      "1/1 [==============================] - 0s 4ms/step - loss: 0.6748 - sparse_categorical_accuracy: 0.7910\n",
      "Epoch 66/100\n",
      "1/1 [==============================] - 0s 4ms/step - loss: 0.6732 - sparse_categorical_accuracy: 0.7910\n",
      "Epoch 67/100\n",
      "1/1 [==============================] - 0s 3ms/step - loss: 0.6716 - sparse_categorical_accuracy: 0.7910\n",
      "Epoch 68/100\n",
      "1/1 [==============================] - 0s 3ms/step - loss: 0.6700 - sparse_categorical_accuracy: 0.7910\n",
      "Epoch 69/100\n",
      "1/1 [==============================] - 0s 6ms/step - loss: 0.6685 - sparse_categorical_accuracy: 0.7910\n",
      "Epoch 70/100\n",
      "1/1 [==============================] - 0s 3ms/step - loss: 0.6670 - sparse_categorical_accuracy: 0.7910\n",
      "Epoch 71/100\n",
      "1/1 [==============================] - 0s 3ms/step - loss: 0.6654 - sparse_categorical_accuracy: 0.7910\n",
      "Epoch 72/100\n",
      "1/1 [==============================] - 0s 4ms/step - loss: 0.6639 - sparse_categorical_accuracy: 0.7910\n",
      "Epoch 73/100\n",
      "1/1 [==============================] - 0s 4ms/step - loss: 0.6624 - sparse_categorical_accuracy: 0.7910\n",
      "Epoch 74/100\n",
      "1/1 [==============================] - 0s 3ms/step - loss: 0.6609 - sparse_categorical_accuracy: 0.7910\n",
      "Epoch 75/100\n",
      "1/1 [==============================] - 0s 2ms/step - loss: 0.6595 - sparse_categorical_accuracy: 0.7910\n",
      "Epoch 76/100\n",
      "1/1 [==============================] - 0s 7ms/step - loss: 0.6580 - sparse_categorical_accuracy: 0.7910\n",
      "Epoch 77/100\n",
      "1/1 [==============================] - 0s 6ms/step - loss: 0.6566 - sparse_categorical_accuracy: 0.7910\n",
      "Epoch 78/100\n",
      "1/1 [==============================] - 0s 5ms/step - loss: 0.6551 - sparse_categorical_accuracy: 0.7910\n",
      "Epoch 79/100\n",
      "1/1 [==============================] - 0s 0s/step - loss: 0.6537 - sparse_categorical_accuracy: 0.7910\n",
      "Epoch 80/100\n",
      "1/1 [==============================] - 0s 4ms/step - loss: 0.6523 - sparse_categorical_accuracy: 0.7910\n",
      "Epoch 81/100\n",
      "1/1 [==============================] - 0s 4ms/step - loss: 0.6509 - sparse_categorical_accuracy: 0.7910\n",
      "Epoch 82/100\n",
      "1/1 [==============================] - 0s 0s/step - loss: 0.6495 - sparse_categorical_accuracy: 0.7910\n",
      "Epoch 83/100\n",
      "1/1 [==============================] - 0s 6ms/step - loss: 0.6482 - sparse_categorical_accuracy: 0.7910\n",
      "Epoch 84/100\n",
      "1/1 [==============================] - 0s 3ms/step - loss: 0.6468 - sparse_categorical_accuracy: 0.7910\n",
      "Epoch 85/100\n",
      "1/1 [==============================] - 0s 6ms/step - loss: 0.6455 - sparse_categorical_accuracy: 0.7910\n",
      "Epoch 86/100\n",
      "1/1 [==============================] - 0s 0s/step - loss: 0.6441 - sparse_categorical_accuracy: 0.7910\n",
      "Epoch 87/100\n",
      "1/1 [==============================] - 0s 4ms/step - loss: 0.6428 - sparse_categorical_accuracy: 0.7910\n",
      "Epoch 88/100\n",
      "1/1 [==============================] - 0s 3ms/step - loss: 0.6415 - sparse_categorical_accuracy: 0.7910\n",
      "Epoch 89/100\n",
      "1/1 [==============================] - 0s 0s/step - loss: 0.6402 - sparse_categorical_accuracy: 0.7910\n",
      "Epoch 90/100\n",
      "1/1 [==============================] - 0s 4ms/step - loss: 0.6389 - sparse_categorical_accuracy: 0.7910\n",
      "Epoch 91/100\n",
      "1/1 [==============================] - 0s 4ms/step - loss: 0.6376 - sparse_categorical_accuracy: 0.7910\n",
      "Epoch 92/100\n",
      "1/1 [==============================] - 0s 5ms/step - loss: 0.6364 - sparse_categorical_accuracy: 0.7910\n",
      "Epoch 93/100\n",
      "1/1 [==============================] - 0s 4ms/step - loss: 0.6351 - sparse_categorical_accuracy: 0.7910\n",
      "Epoch 94/100\n",
      "1/1 [==============================] - 0s 0s/step - loss: 0.6339 - sparse_categorical_accuracy: 0.7910\n",
      "Epoch 95/100\n",
      "1/1 [==============================] - 0s 2ms/step - loss: 0.6326 - sparse_categorical_accuracy: 0.7910\n",
      "Epoch 96/100\n",
      "1/1 [==============================] - 0s 3ms/step - loss: 0.6314 - sparse_categorical_accuracy: 0.7910\n",
      "Epoch 97/100\n",
      "1/1 [==============================] - 0s 0s/step - loss: 0.6302 - sparse_categorical_accuracy: 0.7910\n",
      "Epoch 98/100\n",
      "1/1 [==============================] - 0s 8ms/step - loss: 0.6290 - sparse_categorical_accuracy: 0.7910\n",
      "Epoch 99/100\n",
      "1/1 [==============================] - 0s 0s/step - loss: 0.6278 - sparse_categorical_accuracy: 0.7910\n",
      "Epoch 100/100\n",
      "1/1 [==============================] - 0s 3ms/step - loss: 0.6266 - sparse_categorical_accuracy: 0.7910\n"
     ]
    },
    {
     "data": {
      "text/plain": [
       "<tensorflow.python.keras.callbacks.History at 0x1c2927224c8>"
      ]
     },
     "execution_count": 140,
     "metadata": {},
     "output_type": "execute_result"
    }
   ],
   "source": [
    "model.fit(X_rsfstrain, y_rsfstrain, epochs = 100, batch_size = 500)"
   ]
  },
  {
   "cell_type": "code",
   "execution_count": 141,
   "metadata": {
    "ExecuteTime": {
     "end_time": "2021-08-25T18:28:15.308165Z",
     "start_time": "2021-08-25T18:28:13.341727Z"
    }
   },
   "outputs": [
    {
     "name": "stdout",
     "output_type": "stream",
     "text": [
      "6/6 [==============================] - 1s 94ms/step - loss: 0.6183 - sparse_categorical_accuracy: 0.8182\n"
     ]
    }
   ],
   "source": [
    "test_loss, test_accuracy = model.evaluate(X_rsfstest, y_rsfstest)"
   ]
  },
  {
   "cell_type": "code",
   "execution_count": 142,
   "metadata": {
    "ExecuteTime": {
     "end_time": "2021-08-25T18:33:34.339500Z",
     "start_time": "2021-08-25T18:33:34.332498Z"
    },
    "id": "tTFsoSXuwOoZ"
   },
   "outputs": [],
   "source": [
    "X_train = X_train[..., np.newaxis]\n",
    "X_test = X_test[..., np.newaxis]"
   ]
  },
  {
   "cell_type": "code",
   "execution_count": 143,
   "metadata": {
    "ExecuteTime": {
     "end_time": "2021-08-25T18:33:34.798497Z",
     "start_time": "2021-08-25T18:33:34.769501Z"
    },
    "colab": {
     "base_uri": "https://localhost:8080/"
    },
    "id": "bwNhIh-Uk9_1",
    "outputId": "706b95cf-906c-4c55-b976-2896c7ac48de"
   },
   "outputs": [
    {
     "data": {
      "text/plain": [
       "(335, 4097, 1, 1)"
      ]
     },
     "execution_count": 143,
     "metadata": {},
     "output_type": "execute_result"
    }
   ],
   "source": [
    "X_train.shape"
   ]
  },
  {
   "cell_type": "code",
   "execution_count": 144,
   "metadata": {
    "ExecuteTime": {
     "end_time": "2021-08-25T18:33:35.324503Z",
     "start_time": "2021-08-25T18:33:35.321515Z"
    },
    "id": "lLU80YLnmXN4"
   },
   "outputs": [],
   "source": [
    "epochs = 20\n",
    "batch_size = 10\n",
    "time_steps = 4069\n",
    "features = 4097"
   ]
  },
  {
   "cell_type": "code",
   "execution_count": 146,
   "metadata": {
    "ExecuteTime": {
     "end_time": "2021-08-25T18:34:04.080764Z",
     "start_time": "2021-08-25T18:34:04.050765Z"
    },
    "id": "43Rfd_AixW5y"
   },
   "outputs": [
    {
     "ename": "NameError",
     "evalue": "name 'LSTM' is not defined",
     "output_type": "error",
     "traceback": [
      "\u001b[1;31m---------------------------------------------------------------------------\u001b[0m",
      "\u001b[1;31mNameError\u001b[0m                                 Traceback (most recent call last)",
      "\u001b[1;32m<ipython-input-146-637a729fa7df>\u001b[0m in \u001b[0;36m<module>\u001b[1;34m\u001b[0m\n\u001b[0;32m      1\u001b[0m \u001b[0mmodel\u001b[0m \u001b[1;33m=\u001b[0m \u001b[0mtf\u001b[0m\u001b[1;33m.\u001b[0m\u001b[0mkeras\u001b[0m\u001b[1;33m.\u001b[0m\u001b[0mmodels\u001b[0m\u001b[1;33m.\u001b[0m\u001b[0mSequential\u001b[0m\u001b[1;33m(\u001b[0m\u001b[1;33m)\u001b[0m\u001b[1;33m\u001b[0m\u001b[1;33m\u001b[0m\u001b[0m\n\u001b[1;32m----> 2\u001b[1;33m \u001b[0mmodel\u001b[0m\u001b[1;33m.\u001b[0m\u001b[0madd\u001b[0m\u001b[1;33m(\u001b[0m\u001b[0mLSTM\u001b[0m\u001b[1;33m(\u001b[0m\u001b[1;36m100\u001b[0m\u001b[1;33m,\u001b[0m\u001b[0mdropout\u001b[0m \u001b[1;33m=\u001b[0m \u001b[1;36m0.2\u001b[0m\u001b[1;33m,\u001b[0m \u001b[0minput_shape\u001b[0m \u001b[1;33m=\u001b[0m \u001b[1;33m(\u001b[0m\u001b[0mtime_steps\u001b[0m\u001b[1;33m,\u001b[0m\u001b[0mfeatures\u001b[0m\u001b[1;33m)\u001b[0m\u001b[1;33m)\u001b[0m\u001b[1;33m)\u001b[0m\u001b[1;33m\u001b[0m\u001b[1;33m\u001b[0m\u001b[0m\n\u001b[0m\u001b[0;32m      3\u001b[0m \u001b[0mmodel\u001b[0m\u001b[1;33m.\u001b[0m\u001b[0madd\u001b[0m\u001b[1;33m(\u001b[0m\u001b[0mDense\u001b[0m\u001b[1;33m(\u001b[0m\u001b[1;36m1\u001b[0m\u001b[1;33m,\u001b[0m\u001b[0mactivation\u001b[0m\u001b[1;33m=\u001b[0m\u001b[1;34m'relu'\u001b[0m\u001b[1;33m)\u001b[0m\u001b[1;33m)\u001b[0m\u001b[1;33m\u001b[0m\u001b[1;33m\u001b[0m\u001b[0m\n\u001b[0;32m      4\u001b[0m \u001b[0mmodel\u001b[0m\u001b[1;33m.\u001b[0m\u001b[0mcompile\u001b[0m\u001b[1;33m(\u001b[0m\u001b[0mloss\u001b[0m \u001b[1;33m=\u001b[0m \u001b[1;34m'binary_crossentropy'\u001b[0m\u001b[1;33m,\u001b[0m\u001b[0moptimizer\u001b[0m\u001b[1;33m=\u001b[0m\u001b[1;34m'adam'\u001b[0m\u001b[1;33m,\u001b[0m\u001b[0mmetrics\u001b[0m\u001b[1;33m=\u001b[0m\u001b[1;33m[\u001b[0m\u001b[1;34m'accuracy'\u001b[0m\u001b[1;33m,\u001b[0m\u001b[1;34m'mae'\u001b[0m\u001b[1;33m]\u001b[0m\u001b[1;33m)\u001b[0m\u001b[1;33m\u001b[0m\u001b[1;33m\u001b[0m\u001b[0m\n\u001b[0;32m      5\u001b[0m \u001b[0mprint\u001b[0m\u001b[1;33m(\u001b[0m\u001b[0mmodel\u001b[0m\u001b[1;33m.\u001b[0m\u001b[0msummary\u001b[0m\u001b[1;33m)\u001b[0m\u001b[1;33m\u001b[0m\u001b[1;33m\u001b[0m\u001b[0m\n",
      "\u001b[1;31mNameError\u001b[0m: name 'LSTM' is not defined"
     ]
    }
   ],
   "source": [
    "model = tf.keras.models.Sequential()\n",
    "model.add(LSTM(100,dropout = 0.2, input_shape = (time_steps,features)))\n",
    "model.add(Dense(1,activation='relu'))\n",
    "model.compile(loss = 'binary_crossentropy',optimizer='adam',metrics=['accuracy','mae'])\n",
    "print(model.summary)\n",
    "model.fit(X_train,y_train,validation_data=(X_test,y_test),epochs=epochs)"
   ]
  },
  {
   "cell_type": "code",
   "execution_count": null,
   "metadata": {},
   "outputs": [],
   "source": []
  }
 ],
 "metadata": {
  "colab": {
   "name": "Untitled2.ipynb",
   "provenance": []
  },
  "kernelspec": {
   "display_name": "Python 3",
   "language": "python",
   "name": "python3"
  },
  "language_info": {
   "codemirror_mode": {
    "name": "ipython",
    "version": 3
   },
   "file_extension": ".py",
   "mimetype": "text/x-python",
   "name": "python",
   "nbconvert_exporter": "python",
   "pygments_lexer": "ipython3",
   "version": "3.7.6"
  },
  "latex_envs": {
   "LaTeX_envs_menu_present": true,
   "autoclose": true,
   "autocomplete": true,
   "bibliofile": "biblio.bib",
   "cite_by": "apalike",
   "current_citInitial": 1,
   "eqLabelWithNumbers": true,
   "eqNumInitial": 1,
   "hotkeys": {
    "equation": "Ctrl-E",
    "itemize": "Ctrl-I"
   },
   "labels_anchors": false,
   "latex_user_defs": false,
   "report_style_numbering": false,
   "user_envs_cfg": false
  },
  "toc": {
   "base_numbering": 1,
   "nav_menu": {},
   "number_sections": true,
   "sideBar": true,
   "skip_h1_title": false,
   "title_cell": "Table of Contents",
   "title_sidebar": "Contents",
   "toc_cell": false,
   "toc_position": {},
   "toc_section_display": true,
   "toc_window_display": false
  },
  "varInspector": {
   "cols": {
    "lenName": 16,
    "lenType": 16,
    "lenVar": 40
   },
   "kernels_config": {
    "python": {
     "delete_cmd_postfix": "",
     "delete_cmd_prefix": "del ",
     "library": "var_list.py",
     "varRefreshCmd": "print(var_dic_list())"
    },
    "r": {
     "delete_cmd_postfix": ") ",
     "delete_cmd_prefix": "rm(",
     "library": "var_list.r",
     "varRefreshCmd": "cat(var_dic_list()) "
    }
   },
   "types_to_exclude": [
    "module",
    "function",
    "builtin_function_or_method",
    "instance",
    "_Feature"
   ],
   "window_display": false
  }
 },
 "nbformat": 4,
 "nbformat_minor": 1
}
