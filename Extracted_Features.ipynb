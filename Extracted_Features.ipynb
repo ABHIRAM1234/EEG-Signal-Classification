{
 "cells": [
  {
   "cell_type": "code",
   "execution_count": 2,
   "metadata": {},
   "outputs": [
    {
     "name": "stdout",
     "output_type": "stream",
     "text": [
      "Collecting rsfs\n",
      "  Downloading rsfs-0.1.tar.gz (5.4 kB)\n",
      "Requirement already satisfied: numpy in /anaconda/envs/azureml_py36/lib/python3.6/site-packages (from rsfs) (1.18.5)\n",
      "Requirement already satisfied: scikit-learn in /anaconda/envs/azureml_py36/lib/python3.6/site-packages (from rsfs) (0.22.2.post1)\n",
      "Requirement already satisfied: scipy in /anaconda/envs/azureml_py36/lib/python3.6/site-packages (from rsfs) (1.5.2)\n",
      "Requirement already satisfied: joblib>=0.11 in /anaconda/envs/azureml_py36/lib/python3.6/site-packages (from scikit-learn->rsfs) (0.14.1)\n",
      "Building wheels for collected packages: rsfs\n",
      "  Building wheel for rsfs (setup.py) ... \u001b[?25l-\b \b\\\b \bdone\n",
      "\u001b[?25h  Created wheel for rsfs: filename=rsfs-0.1-py3-none-any.whl size=5856 sha256=3f76b67a788d1a7746222790a1c2ad9097d6566484af609eed875fb181883550\n",
      "  Stored in directory: /home/azureuser/.cache/pip/wheels/8e/52/96/faf9570a6b2219d8b91acdee60a3667df9776453c0280d2806\n",
      "Successfully built rsfs\n",
      "Installing collected packages: rsfs\n",
      "Successfully installed rsfs-0.1\n"
     ]
    }
   ],
   "source": [
    "!pip install rsfs"
   ]
  },
  {
   "cell_type": "code",
   "execution_count": 15,
   "metadata": {
    "collapsed": true,
    "gather": {
     "logged": 1629130554788
    },
    "jupyter": {
     "outputs_hidden": false,
     "source_hidden": false
    },
    "nteract": {
     "transient": {
      "deleting": false
     }
    }
   },
   "outputs": [
    {
     "name": "stderr",
     "output_type": "stream",
     "text": [
      "/anaconda/envs/azureml_py36/lib/python3.6/site-packages/scipy/stats/_distn_infrastructure.py:1844: RuntimeWarning: invalid value encountered in true_divide\n",
      "  x = np.asarray((x - loc)/scale, dtype=dtyp)\n",
      "/anaconda/envs/azureml_py36/lib/python3.6/site-packages/scipy/stats/_distn_infrastructure.py:1847: RuntimeWarning: invalid value encountered in greater_equal\n",
      "  cond2 = (x >= np.asarray(_b)) & cond0\n",
      "/anaconda/envs/azureml_py36/lib/python3.6/site-packages/rsfs/rsfs_py.py:174: RuntimeWarning: invalid value encountered in greater\n",
      "  feat_N[iteration] = numpy.size(numpy.where(probs > cutoff))\n"
     ]
    },
    {
     "name": "stdout",
     "output_type": "stream",
     "text": [
      "RSFS:  151.0 features chosen so far (iteration:  1000 / 300000 ). Delta:  0.24054274548686178\n",
      "RSFS:  209.0 features chosen so far (iteration:  2000 / 300000 ). Delta:  0.1350518193941168\n",
      "RSFS:  180.0 features chosen so far (iteration:  3000 / 300000 ). Delta:  0.07296793641027094\n",
      "RSFS:  219.0 features chosen so far (iteration:  4000 / 300000 ). Delta:  0.111909962357657\n",
      "RSFS:  239.0 features chosen so far (iteration:  5000 / 300000 ). Delta:  0.05787677426802768\n",
      "RSFS:  214.0 features chosen so far (iteration:  6000 / 300000 ). Delta:  0.06555961076821289\n",
      "RSFS:  187.0 features chosen so far (iteration:  7000 / 300000 ). Delta:  0.06970239247497406\n",
      "RSFS:  163.0 features chosen so far (iteration:  8000 / 300000 ). Delta:  0.06435237227603745\n",
      "RSFS:  190.0 features chosen so far (iteration:  9000 / 300000 ). Delta:  0.050384741346196533\n",
      "RSFS:  221.0 features chosen so far (iteration:  10000 / 300000 ). Delta:  0.049242883800712484\n",
      "{'F_RSFS': (array([   0,   11,   23,   63,   84,   90,  108,  127,  128,  151,  154,\n",
      "        163,  177,  262,  266,  289,  321,  362,  363,  386,  408,  437,\n",
      "        504,  528,  532,  541,  542,  565,  567,  632,  638,  680,  700,\n",
      "        701,  708,  712,  725,  736,  752,  761,  787,  801,  802,  876,\n",
      "        880,  885,  886,  909,  972,  985,  987, 1015, 1024, 1040, 1051,\n",
      "       1052, 1070, 1071, 1095, 1096, 1097, 1106, 1263, 1272, 1279, 1284,\n",
      "       1354, 1372, 1390, 1391, 1410, 1411, 1419, 1437, 1438, 1440, 1443,\n",
      "       1449, 1466, 1467, 1469, 1503, 1506, 1521, 1525, 1545, 1547, 1570,\n",
      "       1603, 1625, 1627, 1628, 1638, 1640, 1641, 1642, 1661, 1662, 1663,\n",
      "       1669, 1670, 1719, 1720, 1726, 1777, 1839, 1857, 1861, 1885, 1886,\n",
      "       1890, 1899, 1908, 1976, 2024, 2026, 2039, 2040, 2042, 2078, 2081,\n",
      "       2082, 2087, 2107, 2172, 2217, 2221, 2224, 2225, 2246, 2247, 2250,\n",
      "       2265, 2286, 2287, 2312, 2314, 2316, 2333, 2390, 2399, 2403, 2420,\n",
      "       2446, 2450, 2458, 2477, 2478, 2479, 2483, 2500, 2516, 2536, 2542,\n",
      "       2543, 2546, 2598, 2606, 2618, 2619, 2665, 2732, 2795, 2802, 2809,\n",
      "       2873, 2904, 2917, 2957, 3009, 3025, 3026, 3095, 3101, 3102, 3103,\n",
      "       3104, 3149, 3157, 3194, 3205, 3211, 3221, 3237, 3245, 3266, 3303,\n",
      "       3334, 3335, 3376, 3377, 3405, 3417, 3431, 3471, 3479, 3489, 3531,\n",
      "       3537, 3555, 3589, 3627, 3694, 3706, 3736, 3747, 3749, 3781, 3787,\n",
      "       3807, 3861, 3863, 3874, 3883, 3940, 3950, 3993, 4038, 4042, 4075,\n",
      "       4076]),), 'W_RSFS': array([120.75030162,  53.31674603,  55.42599854,  51.70766206,\n",
      "        64.70497001,  60.97262786,  54.52270411,  64.93007073,\n",
      "        73.0449236 ,  65.02493026, 113.05540504,  56.91967904,\n",
      "        55.34768081,  70.84743322,  67.58205279,  71.67947564,\n",
      "        63.1873423 ,  64.49987504,  65.25023321,  51.61291207,\n",
      "        75.87291732,  56.8303015 ,  55.55762838,  51.66548154,\n",
      "        53.55529397,  56.44742802,  88.3637075 ,  59.75758654,\n",
      "        71.56706651,  54.20014996,  81.30686979,  56.17793702,\n",
      "        57.45753383,  96.15501353,  58.31781534,  53.19494851,\n",
      "        87.7281421 ,  53.47539728,  73.82090932,  51.52724737,\n",
      "        73.8315048 ,  54.24956795, 111.64672449,  57.18201191,\n",
      "        53.71620467,  61.57451335,  64.8072271 ,  65.44822022,\n",
      "        74.24575551,  59.47060065,  52.14696514,  68.53578738,\n",
      "        52.26094385,  55.23529236,  56.79691661,  56.42218352,\n",
      "        78.10689523,  53.43142242,  76.63892673,  53.73608968,\n",
      "       100.45310911,  84.12868273,  65.9624993 ,  63.99032249,\n",
      "        61.2622833 , 102.25879018,  64.8532974 ,  54.0246434 ,\n",
      "        53.17626443,  74.60721548,  87.81823592, 101.03725186,\n",
      "        60.49377798,  56.56726401,  53.06836063,  67.6179628 ,\n",
      "        74.85754402,  67.11590135,  77.47193623,  77.35032426,\n",
      "        72.05549005,  72.52741264,  64.45751491,  54.50469801,\n",
      "        54.07378855,  72.34928729,  58.80918529,  54.85941538,\n",
      "        74.41606691,  87.79897631,  62.02101494,  63.51121294,\n",
      "        55.19791507,  66.01846518,  81.96829231,  87.4955809 ,\n",
      "        64.44556132,  51.65715747,  61.4580425 ,  53.90482657,\n",
      "        51.74665272,  52.99454493,  56.03531676,  52.08165161,\n",
      "        62.3252316 ,  52.30729622,  63.97695209,  69.3054961 ,\n",
      "        59.6971617 ,  57.84570579,  60.99681701,  59.09524751,\n",
      "        53.60425805,  59.1776649 ,  68.97485747,  84.30135661,\n",
      "        92.47692299,  55.39995817,  79.05870551,  67.81770302,\n",
      "        68.2509908 ,  61.79841348,  58.54432182,  53.99767367,\n",
      "        67.92303279,  75.57277413,  56.44797415,  78.93918312,\n",
      "        72.61059481,  63.662775  ,  82.73919068,  73.05926036,\n",
      "        64.53684182,  53.49206949,  60.62251994,  60.13391856,\n",
      "        77.11362045,  68.65027722,  57.52000725,  57.44653896,\n",
      "        62.99454654,  82.26142827,  59.56534117,  52.51386401,\n",
      "        94.32774118,  54.85991098,  80.29094566,  57.20562074,\n",
      "        52.04784646,  61.80377575,  78.09143991,  77.51021073,\n",
      "        69.2431835 ,  83.53006056,  52.54465372,  59.5560855 ,\n",
      "        52.6263109 ,  80.82282922,  71.82144335,  70.4667178 ,\n",
      "        52.45573051,  51.90243993,  80.64400288,  62.62479574,\n",
      "        62.65161379,  66.19669107, 111.85237951,  54.47363891,\n",
      "       102.47601462,  54.54940239,  55.59254609,  72.56054297,\n",
      "        52.72141604,  57.34316437,  71.65763431,  97.27617403,\n",
      "        76.50850842,  95.26848677,  54.66343012,  51.63468236,\n",
      "        82.52368913,  58.33769108,  67.42872989,  52.14131777,\n",
      "        54.10143867,  61.9569546 ,  58.71110925,  93.8002071 ,\n",
      "        51.86540643,  70.99592996,  71.89763025,  77.59687396,\n",
      "        53.38900694,  97.11774632,  51.66182112,  75.90812797,\n",
      "        96.2676172 ,  74.50818367,  64.6984194 ,  72.77086851,\n",
      "        58.77725762,  54.39818835,  52.97929969,  57.24480811,\n",
      "        66.41109395,  65.78654894,  54.70540976,  51.7224524 ,\n",
      "        70.1435371 ,  63.71048049,  59.33469081,  64.01631155,\n",
      "        64.10396496,  54.3609457 ,  89.85077534,  57.94810164,\n",
      "        64.37709997,  60.41626998,  58.00455376,  54.05082459,\n",
      "        67.68104182]), 'iteration': 10001}\n"
     ]
    }
   ],
   "source": [
    "import pandas\n",
    "import numpy \n",
    "import rsfs\n",
    "from sklearn.model_selection import train_test_split\n",
    "\n",
    "Data = numpy.loadtxt(open(str('rsfs/eeg_signals2.csv'), \"rb\"), delimiter=\",\", skiprows=1)\n",
    "labels = Data[:, -1]\n",
    "Data = Data[:, :-1]\n",
    "train, test, train_labels, test_labels = train_test_split(\n",
    "  Data, labels, test_size=0.33, random_state=42, stratify=labels)\n",
    "data_train = train\n",
    "data_test = test\n",
    "label_train = train_labels\n",
    "label_test = test_labels\n",
    "Parameters = {\n",
    "  'RSFS': {\n",
    "      'Classifier': 'KNN',\n",
    "      'Classifier Properties': {\n",
    "          'n_neighbors': 3,\n",
    "          'weights': 'distance'\n",
    "      },\n",
    "      'Dummy feats': len(labels),\n",
    "      'delta': 0.05,\n",
    "      'maxiters': 300000,\n",
    "      'fn': 'sqrt',\n",
    "      'cutoff': 0.90,\n",
    "      'Threshold': 1000,\n",
    "  },\n",
    "  'Verbose': 1\n",
    "}\n",
    "print(rsfs.RSFS(train,test,train_labels,test_labels,Parameters))\n"
   ]
  },
  {
   "cell_type": "code",
   "execution_count": 10,
   "metadata": {
    "collapsed": true,
    "gather": {
     "logged": 1629121774648
    },
    "jupyter": {
     "outputs_hidden": false,
     "source_hidden": false
    },
    "nteract": {
     "transient": {
      "deleting": false
     }
    }
   },
   "outputs": [
    {
     "data": {
      "text/plain": [
       "0       0\n",
       "1       0\n",
       "2       0\n",
       "3       0\n",
       "4       0\n",
       "       ..\n",
       "4093    0\n",
       "4094    0\n",
       "4095    0\n",
       "4096    0\n",
       "4097    0\n",
       "Length: 4098, dtype: int64"
      ]
     },
     "execution_count": 10,
     "metadata": {},
     "output_type": "execute_result"
    }
   ],
   "source": [
    "pandas.DataFrame(Data).isnull().sum()"
   ]
  },
  {
   "cell_type": "code",
   "execution_count": null,
   "metadata": {
    "collapsed": true,
    "jupyter": {
     "outputs_hidden": false,
     "source_hidden": false
    },
    "nteract": {
     "transient": {
      "deleting": false
     }
    }
   },
   "outputs": [],
   "source": []
  }
 ],
 "metadata": {
  "kernel_info": {
   "name": "python3-azureml"
  },
  "kernelspec": {
   "display_name": "Python 3",
   "language": "python",
   "name": "python3"
  },
  "language_info": {
   "codemirror_mode": {
    "name": "ipython",
    "version": 3
   },
   "file_extension": ".py",
   "mimetype": "text/x-python",
   "name": "python",
   "nbconvert_exporter": "python",
   "pygments_lexer": "ipython3",
   "version": "3.7.6"
  },
  "latex_envs": {
   "LaTeX_envs_menu_present": true,
   "autoclose": true,
   "autocomplete": true,
   "bibliofile": "biblio.bib",
   "cite_by": "apalike",
   "current_citInitial": 1,
   "eqLabelWithNumbers": true,
   "eqNumInitial": 1,
   "hotkeys": {
    "equation": "Ctrl-E",
    "itemize": "Ctrl-I"
   },
   "labels_anchors": false,
   "latex_user_defs": false,
   "report_style_numbering": false,
   "user_envs_cfg": false
  },
  "nteract": {
   "version": "nteract-front-end@1.0.0"
  },
  "toc": {
   "base_numbering": 1,
   "nav_menu": {},
   "number_sections": true,
   "sideBar": true,
   "skip_h1_title": false,
   "title_cell": "Table of Contents",
   "title_sidebar": "Contents",
   "toc_cell": false,
   "toc_position": {},
   "toc_section_display": true,
   "toc_window_display": false
  },
  "varInspector": {
   "cols": {
    "lenName": 16,
    "lenType": 16,
    "lenVar": 40
   },
   "kernels_config": {
    "python": {
     "delete_cmd_postfix": "",
     "delete_cmd_prefix": "del ",
     "library": "var_list.py",
     "varRefreshCmd": "print(var_dic_list())"
    },
    "r": {
     "delete_cmd_postfix": ") ",
     "delete_cmd_prefix": "rm(",
     "library": "var_list.r",
     "varRefreshCmd": "cat(var_dic_list()) "
    }
   },
   "types_to_exclude": [
    "module",
    "function",
    "builtin_function_or_method",
    "instance",
    "_Feature"
   ],
   "window_display": false
  }
 },
 "nbformat": 4,
 "nbformat_minor": 2
}
